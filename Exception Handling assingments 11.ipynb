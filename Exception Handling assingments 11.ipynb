{
 "cells": [
  {
   "cell_type": "markdown",
   "id": "958753c0-1fa8-42ed-92da-e7dec88ad296",
   "metadata": {
    "jp-MarkdownHeadingCollapsed": true,
    "tags": []
   },
   "source": [
    "## Q.1) What is an exception in python write diffrence between exceptions and syntext error:\n"
   ]
  },
  {
   "cell_type": "markdown",
   "id": "b33868a7-ab2a-47c3-a1e5-786ec90fb527",
   "metadata": {},
   "source": [
    "In Python, an exception is an error that occurs during the execution of a program. When an exception occurs, the normal flow of the program is disrupted, and Python generates an error message that describes the problem.\n",
    "\n",
    "There are several types of exceptions in Python, such as NameError, TypeError, ValueError, etc. These exceptions are predefined in Python and can also be customized by the programmer.\n",
    "\n",
    "On the other hand, a syntax error is a type of error that occurs when the Python interpreter cannot parse a program's code. Syntax errors occur when there is a mistake in the code's structure, such as a missing or misplaced parenthesis, a missing colon, or an indentation error.\n",
    "\n",
    "The main difference between exceptions and syntax errors is that syntax errors occur during the compilation phase, whereas exceptions occur during the execution phase. Syntax errors prevent the program from running, while exceptions can occur during runtime and can be handled or caught by the programmer to prevent the program from crashing."
   ]
  },
  {
   "cell_type": "markdown",
   "id": "02e806e6-93c5-48da-ad98-cf51918112f8",
   "metadata": {
    "jp-MarkdownHeadingCollapsed": true,
    "tags": []
   },
   "source": [
    "## Q2. What happens when an exception is not handled? Explain with an example"
   ]
  },
  {
   "cell_type": "markdown",
   "id": "737ccdd9-6e3d-417b-9597-79b7fe0a0243",
   "metadata": {},
   "source": [
    "When an exception is not handled in a program, it leads to an abrupt termination of the program and generates an error message that describes the exception."
   ]
  },
  {
   "cell_type": "code",
   "execution_count": 1,
   "id": "122895c1-296b-4349-b8f8-39f9d9802579",
   "metadata": {},
   "outputs": [
    {
     "ename": "ZeroDivisionError",
     "evalue": "division by zero",
     "output_type": "error",
     "traceback": [
      "\u001b[0;31m---------------------------------------------------------------------------\u001b[0m",
      "\u001b[0;31mZeroDivisionError\u001b[0m                         Traceback (most recent call last)",
      "Cell \u001b[0;32mIn[1], line 5\u001b[0m\n\u001b[1;32m      2\u001b[0m a \u001b[38;5;241m=\u001b[39m \u001b[38;5;241m10\u001b[39m\n\u001b[1;32m      3\u001b[0m b \u001b[38;5;241m=\u001b[39m \u001b[38;5;241m0\u001b[39m\n\u001b[0;32m----> 5\u001b[0m \u001b[43ma\u001b[49m\u001b[38;5;241;43m/\u001b[39;49m\u001b[43mb\u001b[49m\n",
      "\u001b[0;31mZeroDivisionError\u001b[0m: division by zero"
     ]
    }
   ],
   "source": [
    "## eg:\n",
    "a = 10\n",
    "b = 0\n",
    "\n",
    "a/b\n",
    "\n",
    "# this code will give and exception error as \"ZeroDivisionError\"\n",
    "\n",
    "# This error message tells us that the program encountered a ZeroDivisionError exception, and it provides information about where the exception occurred in the code.\n"
   ]
  },
  {
   "cell_type": "markdown",
   "id": "fed1dfcf-f894-4963-9e29-4b731863f46f",
   "metadata": {
    "jp-MarkdownHeadingCollapsed": true,
    "tags": []
   },
   "source": [
    "## Q.3) which python statement are used to catch and handle exceptions? explain with an example:"
   ]
  },
  {
   "cell_type": "markdown",
   "id": "a406ed8a-9f1e-4ea8-b2d9-8c7fd1ae3524",
   "metadata": {},
   "source": [
    "To catch and handle exceptions in Python, we can use a \"try-except\" block. The try block contains the code that might raise an exception, while the except block contains the code that will be executed if the exception is raised. "
   ]
  },
  {
   "cell_type": "code",
   "execution_count": 1,
   "id": "e6522b0d-ce21-48af-a160-241b172342a4",
   "metadata": {},
   "outputs": [
    {
     "name": "stdin",
     "output_type": "stream",
     "text": [
      "Enter a number:  20\n",
      "Enter another number:  10\n"
     ]
    },
    {
     "name": "stdout",
     "output_type": "stream",
     "text": [
      "The result is: 2.0\n"
     ]
    }
   ],
   "source": [
    "# Here's an example:\n",
    "\n",
    "try:\n",
    "    num1 = int(input(\"Enter a number: \"))\n",
    "    num2 = int(input(\"Enter another number: \"))\n",
    "    result = num1 / num2\n",
    "    print(\"The result is:\", result)\n",
    "except ZeroDivisionError:\n",
    "    print(\"Error: Cannot divide by zero\")\n",
    "except ValueError:\n",
    "    print(\"Error: Invalid input\")\n"
   ]
  },
  {
   "cell_type": "markdown",
   "id": "aa3aad6f-56c3-4663-8d7c-6e6e9fb5d0c1",
   "metadata": {
    "jp-MarkdownHeadingCollapsed": true,
    "tags": []
   },
   "source": [
    "## Q.4) Explain with an example : \n",
    "1. try and else\n",
    "2. finally\n",
    "3. raise"
   ]
  },
  {
   "cell_type": "code",
   "execution_count": 3,
   "id": "7ac1ff61-3994-4806-bde8-d2f4ea7ad881",
   "metadata": {},
   "outputs": [
    {
     "name": "stdin",
     "output_type": "stream",
     "text": [
      "Enter a number:  550\n",
      "enter another number:  5\n"
     ]
    },
    {
     "name": "stdout",
     "output_type": "stream",
     "text": [
      "the final result is :  110.0\n"
     ]
    }
   ],
   "source": [
    "#try-else: A try-except-else block in Python allows us to catch and handle exceptions, while also providing a code block to execute if no exception is raised. The else block is executed only if the code in the try block completes without raising any exceptions. Here's an example:\n",
    "\n",
    "try:\n",
    "    num1 = int(input(\"Enter a number: \"))\n",
    "    num2 = int(input(\"enter another number: \"))\n",
    "    result = num1/num2\n",
    "except ZeroDivisionError:\n",
    "    print(\"error: cannot diveded by 0\")\n",
    "else:\n",
    "    print(\"the final result is : \", result)"
   ]
  },
  {
   "cell_type": "code",
   "execution_count": 5,
   "id": "56f73571-234a-46cd-898e-e64ffa15e9fb",
   "metadata": {},
   "outputs": [
    {
     "ename": "AttributeError",
     "evalue": "'NoneType' object has no attribute 'close'",
     "output_type": "error",
     "traceback": [
      "\u001b[0;31m---------------------------------------------------------------------------\u001b[0m",
      "\u001b[0;31mFileNotFoundError\u001b[0m                         Traceback (most recent call last)",
      "Cell \u001b[0;32mIn[5], line 5\u001b[0m\n\u001b[1;32m      4\u001b[0m \u001b[38;5;28;01mtry\u001b[39;00m:\n\u001b[0;32m----> 5\u001b[0m     file \u001b[38;5;241m=\u001b[39m \u001b[38;5;28;43mopen\u001b[39;49m\u001b[43m(\u001b[49m\u001b[38;5;124;43m\"\u001b[39;49m\u001b[38;5;124;43mexample.txt\u001b[39;49m\u001b[38;5;124;43m\"\u001b[39;49m\u001b[43m,\u001b[49m\u001b[43m \u001b[49m\u001b[38;5;124;43m\"\u001b[39;49m\u001b[38;5;124;43mr\u001b[39;49m\u001b[38;5;124;43m\"\u001b[39;49m\u001b[43m)\u001b[49m\n\u001b[1;32m      6\u001b[0m     f \u001b[38;5;241m=\u001b[39m file\u001b[38;5;241m.\u001b[39mread()\n",
      "File \u001b[0;32m/opt/conda/lib/python3.10/site-packages/IPython/core/interactiveshell.py:282\u001b[0m, in \u001b[0;36m_modified_open\u001b[0;34m(file, *args, **kwargs)\u001b[0m\n\u001b[1;32m    276\u001b[0m     \u001b[38;5;28;01mraise\u001b[39;00m \u001b[38;5;167;01mValueError\u001b[39;00m(\n\u001b[1;32m    277\u001b[0m         \u001b[38;5;124mf\u001b[39m\u001b[38;5;124m\"\u001b[39m\u001b[38;5;124mIPython won\u001b[39m\u001b[38;5;124m'\u001b[39m\u001b[38;5;124mt let you open fd=\u001b[39m\u001b[38;5;132;01m{\u001b[39;00mfile\u001b[38;5;132;01m}\u001b[39;00m\u001b[38;5;124m by default \u001b[39m\u001b[38;5;124m\"\u001b[39m\n\u001b[1;32m    278\u001b[0m         \u001b[38;5;124m\"\u001b[39m\u001b[38;5;124mas it is likely to crash IPython. If you know what you are doing, \u001b[39m\u001b[38;5;124m\"\u001b[39m\n\u001b[1;32m    279\u001b[0m         \u001b[38;5;124m\"\u001b[39m\u001b[38;5;124myou can use builtins\u001b[39m\u001b[38;5;124m'\u001b[39m\u001b[38;5;124m open.\u001b[39m\u001b[38;5;124m\"\u001b[39m\n\u001b[1;32m    280\u001b[0m     )\n\u001b[0;32m--> 282\u001b[0m \u001b[38;5;28;01mreturn\u001b[39;00m \u001b[43mio_open\u001b[49m\u001b[43m(\u001b[49m\u001b[43mfile\u001b[49m\u001b[43m,\u001b[49m\u001b[43m \u001b[49m\u001b[38;5;241;43m*\u001b[39;49m\u001b[43margs\u001b[49m\u001b[43m,\u001b[49m\u001b[43m \u001b[49m\u001b[38;5;241;43m*\u001b[39;49m\u001b[38;5;241;43m*\u001b[39;49m\u001b[43mkwargs\u001b[49m\u001b[43m)\u001b[49m\n",
      "\u001b[0;31mFileNotFoundError\u001b[0m: [Errno 2] No such file or directory: 'example.txt'",
      "\nDuring handling of the above exception, another exception occurred:\n",
      "\u001b[0;31mAttributeError\u001b[0m                            Traceback (most recent call last)",
      "Cell \u001b[0;32mIn[5], line 9\u001b[0m\n\u001b[1;32m      7\u001b[0m     \u001b[38;5;28mprint\u001b[39m(f)\n\u001b[1;32m      8\u001b[0m \u001b[38;5;28;01mfinally\u001b[39;00m:\n\u001b[0;32m----> 9\u001b[0m     \u001b[43mfile\u001b[49m\u001b[38;5;241;43m.\u001b[39;49m\u001b[43mclose\u001b[49m()\n",
      "\u001b[0;31mAttributeError\u001b[0m: 'NoneType' object has no attribute 'close'"
     ]
    }
   ],
   "source": [
    "# finally: A try-finally block in Python allows us to specify code that will always be executed, regardless of whether an exception is raised or not. The finally block is executed whether an exception is raised or not and is typically used to clean up resources or perform final actions. Here's an example:\n",
    "\n",
    "file = None\n",
    "try:\n",
    "    file = open(\"example.txt\", \"r\")\n",
    "    f = file.read()\n",
    "    print(f)\n",
    "finally:\n",
    "    file.close()\n",
    "    "
   ]
  },
  {
   "cell_type": "code",
   "execution_count": 7,
   "id": "86886554-6294-4e6d-9c1c-af4494b3ce0f",
   "metadata": {},
   "outputs": [
    {
     "name": "stdin",
     "output_type": "stream",
     "text": [
      "Enter your age:  -9\n"
     ]
    },
    {
     "name": "stdout",
     "output_type": "stream",
     "text": [
      "Age cannot be negative\n"
     ]
    }
   ],
   "source": [
    "# raise statements: The raise statement in Python allows us to manually raise exceptions in our code. We can use the raise statement to create custom exceptions or to raise built-in exceptions with custom error messages. Here's an example:\n",
    "\n",
    "try:\n",
    "    age = int(input(\"Enter your age: \"))\n",
    "    if age < 0:\n",
    "        raise ValueError(\"Age cannot be negative\")\n",
    "except ValueError as e:\n",
    "    print(e)\n",
    "\n",
    "\n"
   ]
  },
  {
   "cell_type": "markdown",
   "id": "8db8fe36-7b6a-4e70-9049-5369216cab41",
   "metadata": {
    "jp-MarkdownHeadingCollapsed": true,
    "tags": []
   },
   "source": [
    "## Q.5) What are Custom Ex,eptions in python? Why do we need Custom Exceptions? Explain with an example:"
   ]
  },
  {
   "cell_type": "markdown",
   "id": "2ee0b812-2d4d-49e4-8f68-24796542a67f",
   "metadata": {},
   "source": [
    "Custom exceptions in Python are user-defined exceptions that extend the base Exception class. They allow us to define our own exceptions with custom error messages and behaviors that can be raised in our code.\n",
    "\n",
    "We need custom exceptions to handle specific errors that are not covered by the built-in exception classes. For example, if we are writing a program to simulate a banking system, we might define a custom InsufficientFundsError exception to handle cases where a user tries to withdraw more money than they have in their account. By defining a custom exception, we can provide a more specific error message that makes it easier for the user to understand what went wrong."
   ]
  },
  {
   "cell_type": "code",
   "execution_count": 8,
   "id": "df915205-5605-4513-a440-c7e514b2e253",
   "metadata": {},
   "outputs": [
    {
     "name": "stdout",
     "output_type": "stream",
     "text": [
      "Insufficient funds in account\n"
     ]
    }
   ],
   "source": [
    "class InsufficientFundsError(Exception):\n",
    "    def __init__(self, message):\n",
    "        super().__init__(message)\n",
    "\n",
    "class BankAccount:\n",
    "    def __init__(self, balance):\n",
    "        self.balance = balance\n",
    "\n",
    "    def withdraw(self, amount):\n",
    "        if amount > self.balance:\n",
    "            raise InsufficientFundsError(\"Insufficient funds in account\")\n",
    "        self.balance -= amount\n",
    "        print(\"Withdrawal successful\")\n",
    "\n",
    "account = BankAccount(100)\n",
    "try:\n",
    "    account.withdraw(200)\n",
    "except InsufficientFundsError as e:\n",
    "    print(e)\n"
   ]
  },
  {
   "cell_type": "markdown",
   "id": "446cda00-3fda-4ecc-8735-d8f675562c2d",
   "metadata": {
    "jp-MarkdownHeadingCollapsed": true,
    "tags": []
   },
   "source": [
    "## Q.6) Create a custome exception class. use this class to handle an exception:\n"
   ]
  },
  {
   "cell_type": "code",
   "execution_count": 9,
   "id": "e9d7e209-678f-4ccf-9568-70775e44da89",
   "metadata": {},
   "outputs": [
    {
     "name": "stdout",
     "output_type": "stream",
     "text": [
      "Negative numbers are not allowed : -2\n"
     ]
    }
   ],
   "source": [
    "class NegativeNumberError(Exception):\n",
    "    def __init__(self, value):\n",
    "        self.value = value\n",
    "        self.message = \"Negative numbers are not allowed\"\n",
    "        super().__init__(self.message)\n",
    "\n",
    "class Calculator:\n",
    "    def add(self, x, y):\n",
    "        if x < 0 or y < 0:\n",
    "            raise NegativeNumberError(x)\n",
    "        return x + y\n",
    "\n",
    "calculator = Calculator()\n",
    "try:\n",
    "    result = calculator.add(-2, 3)\n",
    "except NegativeNumberError as e:\n",
    "    print(e.message, \":\", e.value)\n",
    "else:\n",
    "    print(result)\n"
   ]
  },
  {
   "cell_type": "code",
   "execution_count": null,
   "id": "06a907cb-f3ec-4cc6-a17e-5a69e869d405",
   "metadata": {},
   "outputs": [],
   "source": []
  },
  {
   "cell_type": "code",
   "execution_count": null,
   "id": "0eacf5cc-65c0-4585-b4e8-3c4dd3d0dd41",
   "metadata": {},
   "outputs": [],
   "source": []
  },
  {
   "cell_type": "code",
   "execution_count": null,
   "id": "5f387f7f-318e-4602-a2be-c5e8667eee3c",
   "metadata": {},
   "outputs": [],
   "source": []
  },
  {
   "cell_type": "code",
   "execution_count": null,
   "id": "645c2812-6170-4c5f-8719-0ef2ba296fca",
   "metadata": {},
   "outputs": [],
   "source": []
  },
  {
   "cell_type": "code",
   "execution_count": null,
   "id": "08e481a6-16b8-42b1-86e8-c4c4ef3fb5c2",
   "metadata": {},
   "outputs": [],
   "source": []
  },
  {
   "cell_type": "code",
   "execution_count": null,
   "id": "48d720fb-a2b0-4bfb-b645-35d912fbb649",
   "metadata": {},
   "outputs": [],
   "source": []
  },
  {
   "cell_type": "code",
   "execution_count": null,
   "id": "f7cd8475-62d9-47d3-a073-478706d0f4ac",
   "metadata": {},
   "outputs": [],
   "source": []
  },
  {
   "cell_type": "code",
   "execution_count": null,
   "id": "a271f994-15a2-4358-a5e4-fcb9da47154a",
   "metadata": {},
   "outputs": [],
   "source": []
  },
  {
   "cell_type": "code",
   "execution_count": null,
   "id": "aaeb74b2-9864-447c-b152-8a2f811e89d7",
   "metadata": {},
   "outputs": [],
   "source": []
  }
 ],
 "metadata": {
  "kernelspec": {
   "display_name": "Python 3 (ipykernel)",
   "language": "python",
   "name": "python3"
  },
  "language_info": {
   "codemirror_mode": {
    "name": "ipython",
    "version": 3
   },
   "file_extension": ".py",
   "mimetype": "text/x-python",
   "name": "python",
   "nbconvert_exporter": "python",
   "pygments_lexer": "ipython3",
   "version": "3.10.8"
  }
 },
 "nbformat": 4,
 "nbformat_minor": 5
}
