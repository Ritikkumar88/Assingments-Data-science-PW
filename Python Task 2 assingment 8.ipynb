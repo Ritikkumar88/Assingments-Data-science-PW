{
 "cells": [
  {
   "cell_type": "markdown",
   "id": "0c93ee86-d65f-4736-99e7-5f5927a5c488",
   "metadata": {
    "jp-MarkdownHeadingCollapsed": true,
    "tags": []
   },
   "source": [
    "## Q1. You are writing code for a company. The requirement of the company is that you create a python function that will check whether the password entered by the user is correct or not. The function should take the password as input and return the string “Valid Password” if the entered password follows the below-given password guidelines else it should return “Invalid Password”.  \n",
    "Note: 1. The Password should contain at least two uppercase letters and at least two lowercase letters.\n",
    "\n",
    "2. The Password should contain at least a number and three special characters.\n",
    "\n",
    "3. The length of the password should be 10 characters long."
   ]
  },
  {
   "cell_type": "code",
   "execution_count": 12,
   "id": "b3d64979-e0fe-4e9e-9a8a-e7bf02fcd130",
   "metadata": {},
   "outputs": [],
   "source": [
    "def check_password(password):\n",
    "    \n",
    "    ## check length of password : condition 1\n",
    "    if len(password) != 10:\n",
    "        return \"Invalid password\"\n",
    "  \n",
    "    \n",
    "    ## check for atleat two uppercase letter and two lowercase letter : condition 2\n",
    "    \n",
    "    upper_case_count = 0\n",
    "    lower_case_count = 0\n",
    "    \n",
    "    for char in password:\n",
    "        if char.isupper():\n",
    "            upper_case_count +=1\n",
    "        elif char.islower():\n",
    "            lower_case_count +=1\n",
    "            \n",
    "    if upper_case_count < 2 or lower_case_count < 2:\n",
    "        return \"invalid Password\"\n",
    "\n",
    "    \n",
    "    ## check for atleast a number and three spacial char: condition 3;\n",
    "    \n",
    "    num_digit = 0\n",
    "    spacial_char = 0\n",
    "    \n",
    "    for char in password:\n",
    "        if char.isalnum():\n",
    "            spacial_char += 1\n",
    "        elif char.isdigit():\n",
    "            num_digit += 1\n",
    "            \n",
    "    if num_digit < 1 or spacial_char < 3:\n",
    "        return \"Invalid password\"\n",
    "\n",
    "    \n",
    "    ## if all checks pass:\n",
    "    return \"Valid password\"\n",
    "            \n",
    "    "
   ]
  },
  {
   "cell_type": "code",
   "execution_count": 13,
   "id": "be838086-9327-4b94-b3da-de92d82a6b39",
   "metadata": {},
   "outputs": [
    {
     "name": "stdout",
     "output_type": "stream",
     "text": [
      "Invalid password\n"
     ]
    }
   ],
   "source": [
    "password = \"ritik@123\"\n",
    "result = check_password(password)\n",
    "print(result)"
   ]
  },
  {
   "cell_type": "code",
   "execution_count": 14,
   "id": "85a13fb0-f7d6-4fd5-8450-b9adc30339a7",
   "metadata": {},
   "outputs": [
    {
     "name": "stdout",
     "output_type": "stream",
     "text": [
      "Invalid password\n"
     ]
    }
   ],
   "source": [
    "password = \"ritik@!#123\"\n",
    "result = check_password(password)\n",
    "print(result)"
   ]
  },
  {
   "cell_type": "code",
   "execution_count": 15,
   "id": "b0d30097-e192-42dd-9756-ba0052f1c70a",
   "metadata": {},
   "outputs": [
    {
     "name": "stdout",
     "output_type": "stream",
     "text": [
      "Invalid password\n"
     ]
    }
   ],
   "source": [
    "password = \"abc123!@#DDD\"\n",
    "result = check_password(password)\n",
    "print(result)"
   ]
  },
  {
   "cell_type": "markdown",
   "id": "75289236-5415-4a2d-978b-f1331918497d",
   "metadata": {
    "jp-MarkdownHeadingCollapsed": true,
    "tags": []
   },
   "source": [
    "## Q2. Solve the below-given questions using at least one of the following:\n",
    "\n",
    "1. Lambda functioJ\n",
    "2. Filter functioJ\n",
    "3. Zap functioJ\n",
    "4. List ComprehensioI\n",
    "\n",
    "1) Check if the string starts with a particular letterY\n",
    "\n",
    "2) Check if the string is numericY\n",
    "\n",
    "3) Sort a list of tuples having fruit names and their quantity. [(\"mango\",99),(\"orange\",80), (\"grapes\", 1000)]\n",
    "\n",
    "4) Find the squares of numbers from 1 to 10Y\n",
    "\n",
    "5) Find the cube root of numbers from 1 to 10Y\n",
    "\n",
    "6) Check if a given number is evenY\n",
    "\n",
    "7) Filter odd numbers from the given list.\n",
    "[1,2,3,4,5,6,7,8,9,10]\n",
    "\n",
    "8) Sort a list of integers into positive and negative integers lists.\n",
    "[1,2,3,4,5,6,-1,-2,-3,-4,-5,0]\n"
   ]
  },
  {
   "cell_type": "code",
   "execution_count": 28,
   "id": "ccba9ee9-9e20-4a54-8b7a-1050a9784e53",
   "metadata": {},
   "outputs": [
    {
     "name": "stdout",
     "output_type": "stream",
     "text": [
      "False\n"
     ]
    }
   ],
   "source": [
    "## 6) using lambda fubction: Check if a given number is even;\n",
    "\n",
    "check_num = lambda x : x%2 == 0 \n",
    "result = check_num(99)\n",
    "print(result)"
   ]
  },
  {
   "cell_type": "code",
   "execution_count": 49,
   "id": "0a3733f2-56f8-47bd-aecb-5b68d3da2216",
   "metadata": {},
   "outputs": [
    {
     "name": "stdout",
     "output_type": "stream",
     "text": [
      "True\n"
     ]
    }
   ],
   "source": [
    "## 2) Check if the string is numeric using lambda function:\n",
    "\n",
    "is_numeric = lambda x: x.isnumeric()\n",
    "result = is_numeric('1553')  \n",
    "print(result)\n",
    "\n",
    "\n",
    "\n"
   ]
  },
  {
   "cell_type": "code",
   "execution_count": 45,
   "id": "4856c075-696f-4ac0-802d-22905d2dee74",
   "metadata": {},
   "outputs": [
    {
     "name": "stdout",
     "output_type": "stream",
     "text": [
      "['banana', 'baby', 'bob']\n",
      "True\n"
     ]
    }
   ],
   "source": [
    "## 1) check if the string start with a perticuler letter using list comprihension;\n",
    "\n",
    "my_list = ['apple', 'banana', 'cherry', 'durian', \"baby\", \"bob\"]\n",
    "letter = 'b'\n",
    "result = [i for i in my_list if i.startswith(letter)]  # result is ['banana']\n",
    "print(result)\n",
    "\n",
    "## method 2;\n",
    "\n",
    "string = \"hello word\"\n",
    "letter = \"h\"\n",
    "starts_with_letter = string.startswith(letter)\n",
    "print(starts_with_letter)\n"
   ]
  },
  {
   "cell_type": "code",
   "execution_count": 51,
   "id": "6422d7bc-82b1-4856-9e5c-381f174fbc6e",
   "metadata": {},
   "outputs": [
    {
     "name": "stdout",
     "output_type": "stream",
     "text": [
      "[('grapes', 1000), ('mango', 99), ('orange', 80)]\n"
     ]
    }
   ],
   "source": [
    "## 3) Sort a list of tuples having fruit names and their quantity. [(\"mango\",99),(\"orange\",80), (\"grapes\", 1000)] using filter function;\n",
    "\n",
    "fruits = [(\"mango\",99),(\"orange\",80), (\"grapes\", 1000)]\n",
    "\n",
    "sorted_fruits = sorted(fruits, key = lambda x: x [1], reverse= True)\n",
    "print(sorted_fruits)\n"
   ]
  },
  {
   "cell_type": "code",
   "execution_count": 52,
   "id": "b6985fdc-ea4c-4434-a30f-0bd41d65d8ce",
   "metadata": {},
   "outputs": [
    {
     "name": "stdout",
     "output_type": "stream",
     "text": [
      "[1, 4, 9, 16, 25, 36, 49, 64, 81, 100]\n"
     ]
    }
   ],
   "source": [
    "## 4) Find the squares of numbers from 1 to 10:\n",
    "\n",
    "square = [x**2 for x in range (1,11)]\n",
    "print(square)"
   ]
  },
  {
   "cell_type": "code",
   "execution_count": null,
   "id": "a05f89fa-4701-4e32-92b5-4896e5954765",
   "metadata": {},
   "outputs": [],
   "source": [
    "## 5) Find the cube root of numbers from 1 to 10:\n",
    "\n"
   ]
  },
  {
   "cell_type": "code",
   "execution_count": 53,
   "id": "ebad43d2-a424-4552-90ed-66bf7886e277",
   "metadata": {},
   "outputs": [
    {
     "name": "stdout",
     "output_type": "stream",
     "text": [
      "[1, 3, 5, 7, 9]\n"
     ]
    }
   ],
   "source": [
    "## 7) Filter odd numbers from the given list:\n",
    "\n",
    "numbers = [1,2,3,4,5,6,7,8,9,10]\n",
    "odd_num = list(filter(lambda x: x%2 != 0, numbers))\n",
    "print(odd_num)"
   ]
  },
  {
   "cell_type": "code",
   "execution_count": 55,
   "id": "1a388429-dc19-4d4d-a9be-d705c2f2b0c7",
   "metadata": {},
   "outputs": [
    {
     "name": "stdout",
     "output_type": "stream",
     "text": [
      "[1, 2, 3, 4, 5, 6]\n",
      "[-1, -2, -3, -4, -5]\n"
     ]
    }
   ],
   "source": [
    "## 8) Sort a list of integers into positive and negative integers lists:\n",
    "\n",
    "numbers = [1,2,3,4,5,6,-1,-2,-3,-4,-5,0]\n",
    "positive_num = list(filter(lambda x : x>0, numbers))\n",
    "negitive_num = list(filter(lambda x : x<0, numbers))\n",
    "\n",
    "print(positive_num)\n",
    "print(negitive_num)\n"
   ]
  },
  {
   "cell_type": "code",
   "execution_count": null,
   "id": "36790d77-79a4-46f9-a870-e6b57bb283d5",
   "metadata": {},
   "outputs": [],
   "source": []
  },
  {
   "cell_type": "code",
   "execution_count": null,
   "id": "a39f98d0-44ea-4099-87e1-d4d0dd4700c0",
   "metadata": {},
   "outputs": [],
   "source": []
  },
  {
   "cell_type": "code",
   "execution_count": null,
   "id": "d11cd62b-0145-45d4-a03e-b0838871e943",
   "metadata": {},
   "outputs": [],
   "source": []
  },
  {
   "cell_type": "code",
   "execution_count": null,
   "id": "6426bb7e-9b96-4585-9790-6dc5166e0e07",
   "metadata": {},
   "outputs": [],
   "source": []
  },
  {
   "cell_type": "code",
   "execution_count": null,
   "id": "23d4a39c-4953-4340-9696-df663fbd613d",
   "metadata": {},
   "outputs": [],
   "source": []
  },
  {
   "cell_type": "code",
   "execution_count": null,
   "id": "dd62ef83-217a-4fcf-b9a6-13b5794e2297",
   "metadata": {},
   "outputs": [],
   "source": []
  }
 ],
 "metadata": {
  "kernelspec": {
   "display_name": "Python 3 (ipykernel)",
   "language": "python",
   "name": "python3"
  },
  "language_info": {
   "codemirror_mode": {
    "name": "ipython",
    "version": 3
   },
   "file_extension": ".py",
   "mimetype": "text/x-python",
   "name": "python",
   "nbconvert_exporter": "python",
   "pygments_lexer": "ipython3",
   "version": "3.10.8"
  }
 },
 "nbformat": 4,
 "nbformat_minor": 5
}
