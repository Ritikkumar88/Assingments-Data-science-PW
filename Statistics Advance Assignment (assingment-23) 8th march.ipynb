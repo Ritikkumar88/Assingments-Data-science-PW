{
 "cells": [
  {
   "cell_type": "markdown",
   "id": "7c04fe3e-8681-498a-abd2-cd2166937d15",
   "metadata": {
    "jp-MarkdownHeadingCollapsed": true,
    "tags": []
   },
   "source": [
    "## Q1. What is the Probability density function?"
   ]
  },
  {
   "cell_type": "markdown",
   "id": "de885975-2051-4cac-9c52-1428cec8bde6",
   "metadata": {},
   "source": [
    "Probability density function (PDF) is a statistical function that describes the relative likelihood of observing a value or a range of values for a continuous random variable. It is a fundamental concept in probability theory and statistics.\n",
    "\n",
    "The PDF of a continuous random variable is a non-negative function that integrates to 1 over the range of possible values. The integral of the PDF over any range of values gives the probability of the random variable taking on values in that range.\n",
    "\n",
    "In other words, the PDF describes the shape of the probability distribution of a continuous random variable. It gives the relative probability of observing different values of the random variable, and is often graphed as a curve.\n",
    "\n",
    "The PDF is often used in conjunction with the cumulative distribution function (CDF) to describe the behavior of continuous random variables. The CDF gives the probability that the random variable is less than or equal to a specific value, while the PDF gives the relative probability density at a specific value."
   ]
  },
  {
   "cell_type": "markdown",
   "id": "4e91c2f3-2265-4baf-8446-e145aec8f1f9",
   "metadata": {
    "jp-MarkdownHeadingCollapsed": true,
    "tags": []
   },
   "source": [
    "## Q2. What are the types of Probability distribution?"
   ]
  },
  {
   "cell_type": "markdown",
   "id": "2a6c2d26-0410-40e6-954c-b11f34b97703",
   "metadata": {},
   "source": [
    "There are several types of probability distributions, and they can be broadly categorized into two types: discrete probability distributions and continuous probability distributions.\n",
    "\n",
    "Discrete Probability Distributions:\n",
    "Discrete probability distributions deal with a countable number of outcomes or a finite set of values. Examples of discrete probability distributions include the binomial distribution, Poisson distribution, hypergeometric distribution, and geometric distribution.\n",
    "\n",
    "Continuous Probability Distributions:\n",
    "Continuous probability distributions deal with an infinite number of possible outcomes or an uncountable set of values. Examples of continuous probability distributions include the normal distribution, exponential distribution, beta distribution, and gamma distribution.\n",
    "\n",
    "The choice of probability distribution depends on the nature of the random variable being studied and the assumptions made about its behavior. The choice of an appropriate probability distribution is important in statistical modeling and inference as it affects the accuracy of statistical inferences made from the data."
   ]
  },
  {
   "cell_type": "markdown",
   "id": "218b6edd-1ad1-4f8a-be8b-4e62ee74db8e",
   "metadata": {
    "jp-MarkdownHeadingCollapsed": true,
    "tags": []
   },
   "source": [
    "## Q3. Write a Python function to calculate the probability density function of a normal distribution with given mean and standard deviation at a given point."
   ]
  },
  {
   "cell_type": "code",
   "execution_count": 3,
   "id": "44adbc80-1e6f-4a7c-b069-9287a2b70b9b",
   "metadata": {},
   "outputs": [],
   "source": [
    "import math\n",
    "\n",
    "def normal_pdf(x, mean, std_dev):\n",
    "#     \"\"\"\n",
    "#     Calculate the probability density function of a normal distribution at a given point x\n",
    "#     with a given mean and standard deviation.\n",
    "\n",
    "#     Args:\n",
    "#     x (float): the point at which to evaluate the PDF\n",
    "#     mean (float): the mean of the normal distribution\n",
    "#     std_dev (float): the standard deviation of the normal distribution\n",
    "\n",
    "#     Returns:\n",
    "#     float: the value of the PDF at x\n",
    "#     \"\"\"\n",
    "    variance = std_dev ** 2\n",
    "    denominator = math.sqrt(2 * math.pi * variance)\n",
    "    exponent = -((x - mean) ** 2) / (2 * variance)\n",
    "    return math.exp(exponent) / denominator\n"
   ]
  },
  {
   "cell_type": "code",
   "execution_count": 4,
   "id": "28354b4f-618a-4092-b5f6-36f54d2586aa",
   "metadata": {},
   "outputs": [
    {
     "name": "stdout",
     "output_type": "stream",
     "text": [
      "0.24197072451914337\n"
     ]
    }
   ],
   "source": [
    "# Calculate the PDF of a normal distribution with mean = 0 and standard deviation = 1 at x = 1\n",
    "pdf_value = normal_pdf(1, 0, 1)\n",
    "print(pdf_value)\n"
   ]
  },
  {
   "cell_type": "markdown",
   "id": "fe553d99-30ef-4568-9c02-caddef864f50",
   "metadata": {
    "jp-MarkdownHeadingCollapsed": true,
    "tags": []
   },
   "source": [
    "## Q4. What are the properties of Binomial distribution? Give two examples of events where binomial distribution can be applied."
   ]
  },
  {
   "cell_type": "markdown",
   "id": "8df7d54e-0ebe-438d-abe3-6449e7b3d00c",
   "metadata": {},
   "source": [
    "The Binomial distribution is a probability distribution that describes the number of successes in a fixed number of independent trials, where each trial has a constant probability of success.\n",
    "\n",
    "Properties of the Binomial distribution:\n",
    "\n",
    "The random variable X follows a Binomial distribution with parameters n and p, where n is the number of trials and p is the probability of success in each trial.\n",
    "The mean of the Binomial distribution is given by np, and the variance is given by np(1-p).\n",
    "The Binomial distribution is discrete, with the possible values of X ranging from 0 to n.\n",
    "The Binomial distribution is symmetric when p=0.5, and skewed when p is not equal to 0.5.\n",
    "Two examples of events where the Binomial distribution can be applied are:\n",
    "\n",
    "In a series of medical tests to detect a disease, where each test has a known probability of correctly identifying the disease. The Binomial distribution can be used to model the number of patients who test positive for the disease in a given sample size of patients.\n",
    "In a manufacturing process, where each unit has a probability of being defective. The Binomial distribution can be used to model the number of defective units in a batch of a fixed size."
   ]
  },
  {
   "cell_type": "markdown",
   "id": "da4984dd-794f-4687-af95-e7ed20ec8b22",
   "metadata": {
    "jp-MarkdownHeadingCollapsed": true,
    "tags": []
   },
   "source": [
    "## Q5. Generate a random sample of size 1000 from a binomial distribution with probability of success 0.4 and plot a histogram of the results using matplotlib."
   ]
  },
  {
   "cell_type": "code",
   "execution_count": 5,
   "id": "7e91204c-4aa6-4c22-822a-6c9d75fff02f",
   "metadata": {},
   "outputs": [
    {
     "data": {
      "image/png": "[encoded data removed]",
      "text/plain": [
       "<Figure size 640x480 with 1 Axes>"
      ]
     },
     "metadata": {},
     "output_type": "display_data"
    }
   ],
   "source": [
    "import numpy as np\n",
    "import matplotlib.pyplot as plt\n",
    "\n",
    "# Generate a random sample of size 1000 from a binomial distribution with p=0.4\n",
    "sample_size = 1000\n",
    "p = 0.4\n",
    "sample = np.random.binomial(n=1, p=p, size=sample_size)\n",
    "\n",
    "# Plot a histogram of the sample\n",
    "plt.hist(sample, bins=2, density=True)\n",
    "plt.title(f\"Histogram of a Binomial Distribution (n=1, p={p})\")\n",
    "plt.xlabel(\"Number of Successes\")\n",
    "plt.ylabel(\"Probability Density\")\n",
    "plt.show()\n"
   ]
  },
  {
   "cell_type": "markdown",
   "id": "cd27d190-5f24-47f8-9905-3c1c7055c148",
   "metadata": {},
   "source": [
    "This code uses the numpy.random.binomial() function to generate a random sample of size 1000 from a Binomial distribution with n=1 and p=0.4, which corresponds to a Bernoulli distribution with probability of success 0.4. The resulting sample consists of 0s and 1s, where 0 represents a failure and 1 represents a success.\n",
    "\n",
    "The matplotlib.pyplot.hist() function is used to plot a histogram of the sample. The bins parameter is set to 2 to show the number of successes (1s) and failures (0s). The density parameter is set to True to normalize the histogram to a probability density function.\n",
    "\n",
    "The resulting plot should show a histogram with two bars, one for the number of successes and one for the number of failures. The height of each bar represents the probability density of each outcome."
   ]
  },
  {
   "cell_type": "markdown",
   "id": "f8d5739e-6451-4807-951a-9d669e24a93a",
   "metadata": {
    "jp-MarkdownHeadingCollapsed": true,
    "tags": []
   },
   "source": [
    "## Q6. Write a Python function to calculate the cumulative distribution function of a Poisson distribution with given mean at a given point."
   ]
  },
  {
   "cell_type": "code",
   "execution_count": 6,
   "id": "e399ab8c-a063-4a7f-b27c-f8d3a9f5adb7",
   "metadata": {},
   "outputs": [],
   "source": [
    "import math\n",
    "\n",
    "def poisson_cdf(x, mean):\n",
    "    \"\"\"\n",
    "    Calculate the cumulative distribution function of a Poisson distribution at a given point x\n",
    "    with a given mean.\n",
    "\n",
    "    Args:\n",
    "    x (int): the point at which to evaluate the CDF\n",
    "    mean (float): the mean of the Poisson distribution\n",
    "\n",
    "    Returns:\n",
    "    float: the value of the CDF at x\n",
    "    \"\"\"\n",
    "    cdf_value = 0\n",
    "    for i in range(x + 1):\n",
    "        cdf_value += (mean ** i) / (math.factorial(i))\n",
    "    return math.exp(-mean) * cdf_value\n"
   ]
  },
  {
   "cell_type": "code",
   "execution_count": 7,
   "id": "644059db-2d02-40d2-9a77-9eb6d28be7f0",
   "metadata": {},
   "outputs": [
    {
     "name": "stdout",
     "output_type": "stream",
     "text": [
      "0.42319008112684353\n"
     ]
    }
   ],
   "source": [
    "# Calculate the CDF of a Poisson distribution with mean = 3 at x = 2\n",
    "cdf_value = poisson_cdf(2, 3)\n",
    "print(cdf_value)\n"
   ]
  },
  {
   "cell_type": "markdown",
   "id": "dfb65b0e-5523-4312-b6a5-656332824c50",
   "metadata": {
    "jp-MarkdownHeadingCollapsed": true,
    "tags": []
   },
   "source": [
    "## Q7. How Binomial distribution different from Poisson distribution?"
   ]
  },
  {
   "cell_type": "markdown",
   "id": "ad8094f1-0efc-4bbe-ace5-e42139b93c59",
   "metadata": {},
   "source": [
    "The Binomial and Poisson distributions are both probability distributions that are used to model the number of events that occur within a fixed number of trials or time period. However, there are some key differences between the two distributions:\n",
    "\n",
    "Parameters: The Binomial distribution has two parameters: n, the number of trials, and p, the probability of success in each trial. The Poisson distribution has one parameter: λ, the average rate of events per unit of time or space.\n",
    "\n",
    "Assumptions: The Binomial distribution assumes that the trials are independent and identically distributed, and that the probability of success is constant for all trials. The Poisson distribution assumes that the events occur randomly and independently of each other, and that the rate of events is constant over time or space.\n",
    "\n",
    "Range of values: The Binomial distribution is discrete and takes on integer values between 0 and n, inclusive. The Poisson distribution is also discrete and takes on integer values from 0 to infinity.\n",
    "\n",
    "Skewness: The Binomial distribution is skewed when p is far from 0.5. The Poisson distribution is often right-skewed, with a longer right tail than left tail.\n",
    "\n",
    "Relationship: The Poisson distribution can be seen as a limiting case of the Binomial distribution as n becomes large and p becomes small, such that np=λ remains constant. This is known as the Poisson approximation to the Binomial distribution.\n",
    "\n",
    "In summary, the Binomial distribution models the number of successes in a fixed number of independent trials with a constant probability of success, while the Poisson distribution models the number of events that occur randomly and independently of each other over a fixed period of time or space with a constant rate of occurrence."
   ]
  },
  {
   "cell_type": "markdown",
   "id": "3cc7606b-a3ea-4b64-b530-d0baa136e0cb",
   "metadata": {
    "jp-MarkdownHeadingCollapsed": true,
    "tags": []
   },
   "source": [
    "## Q8. Generate a random sample of size 1000 from a Poisson distribution with mean 5 and calculate the sample mean and variance."
   ]
  },
  {
   "cell_type": "code",
   "execution_count": 8,
   "id": "0cacfccd-9d52-4e40-a5c9-186d0bdfc849",
   "metadata": {},
   "outputs": [
    {
     "name": "stdout",
     "output_type": "stream",
     "text": [
      "Sample Mean: 5.09\n",
      "Sample Variance: 5.78\n"
     ]
    }
   ],
   "source": [
    "import numpy as np\n",
    "\n",
    "# Generate a random sample of size 1000 from a Poisson distribution with mean 5\n",
    "sample_size = 1000\n",
    "mean = 5\n",
    "sample = np.random.poisson(lam=mean, size=sample_size)\n",
    "\n",
    "# Calculate the sample mean and variance\n",
    "sample_mean = np.mean(sample)\n",
    "sample_variance = np.var(sample)\n",
    "\n",
    "print(f\"Sample Mean: {sample_mean:.2f}\")\n",
    "print(f\"Sample Variance: {sample_variance:.2f}\")\n"
   ]
  },
  {
   "cell_type": "markdown",
   "id": "890e770b-eb02-4460-9b39-b6d5222887d3",
   "metadata": {},
   "source": [
    "The numpy.random.poisson() function is used to generate a random sample of size 1000 from a Poisson distribution with mean λ=5. The resulting sample consists of integer values from 0 to infinity.\n",
    "\n",
    "The numpy.mean() and numpy.var() functions are used to calculate the sample mean and variance, respectively, from the generated sample.\n",
    "\n",
    "The output should show the sample mean and variance of the generated sample. The sample mean should be close to the specified mean of 5, and the sample variance should be close to the theoretical variance of a Poisson distribution with mean λ=5, which is also 5."
   ]
  },
  {
   "cell_type": "markdown",
   "id": "e03e55e6-a7b1-410a-8025-68a734bfa183",
   "metadata": {
    "jp-MarkdownHeadingCollapsed": true,
    "tags": []
   },
   "source": [
    "## Q9. How mean and variance are related in Binomial distribution and Poisson distribution?"
   ]
  },
  {
   "cell_type": "markdown",
   "id": "7b98e378-189a-4c47-bb23-669402fe5e4a",
   "metadata": {},
   "source": [
    "In both the Binomial and Poisson distributions, the mean and variance are related in a similar way:\n",
    "\n",
    "For a Binomial distribution with parameters n and p, the mean and variance are given by:\n",
    "\n",
    "Mean = np\n",
    "Variance = np(1-p)\n",
    "For a Poisson distribution with parameter λ, the mean and variance are given by:\n",
    "\n",
    "Mean = λ\n",
    "Variance = λ\n",
    "In both cases, the mean is equal to the parameter that characterizes the distribution (np for Binomial and λ for Poisson). However, the variance in Binomial distribution is affected by both the number of trials and the probability of success, whereas in Poisson distribution it only depends on the rate of occurrence of events.\n",
    "\n",
    "It is also worth noting that as the parameter (np for Binomial and λ for Poisson) becomes large, the distributions become increasingly symmetric and approach a normal distribution"
   ]
  },
  {
   "cell_type": "markdown",
   "id": "7e59214b-a74f-4caf-805e-16767eb727e7",
   "metadata": {
    "jp-MarkdownHeadingCollapsed": true,
    "tags": []
   },
   "source": [
    "## Q10. In normal distribution with respect to mean position, where does the least frequent data appear?"
   ]
  },
  {
   "cell_type": "markdown",
   "id": "4600d66f-1f95-4abd-afd2-0728e0ae8bd6",
   "metadata": {},
   "source": [
    "In a normal distribution, the data is symmetrically distributed around the mean. The least frequent data appears at the tails of the distribution, which are the furthest away from the mean. The probability density decreases as we move away from the mean in either direction.\n",
    "\n",
    "Specifically, the points on the horizontal axis where the density of the distribution is lowest are located at a distance of one standard deviation away from the mean, in both the positive and negative directions. These points are known as the inflection points of the normal distribution.\n",
    "\n",
    "Beyond these points, the probability density decreases rapidly as we move further away from the mean. Therefore, the data that appears farthest from the mean in a normal distribution is the least frequent."
   ]
  }
 ],
 "metadata": {
  "kernelspec": {
   "display_name": "Python 3 (ipykernel)",
   "language": "python",
   "name": "python3"
  },
  "language_info": {
   "codemirror_mode": {
    "name": "ipython",
    "version": 3
   },
   "file_extension": ".py",
   "mimetype": "text/x-python",
   "name": "python",
   "nbconvert_exporter": "python",
   "pygments_lexer": "ipython3",
   "version": "3.10.8"
  }
 },
 "nbformat": 4,
 "nbformat_minor": 5
}
