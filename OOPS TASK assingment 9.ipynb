{
 "cells": [
  {
   "cell_type": "markdown",
   "id": "c932b1a0-e091-4261-bef3-fda5e494ba7b",
   "metadata": {
    "jp-MarkdownHeadingCollapsed": true,
    "tags": []
   },
   "source": [
    "## Q1, Create a vehicle class with an init method having instance variables as name_of_vehicle, max_speed and average_of_vehicle."
   ]
  },
  {
   "cell_type": "code",
   "execution_count": 24,
   "id": "171700fe-ccb6-4809-b3e5-0a13f48b0d05",
   "metadata": {},
   "outputs": [],
   "source": [
    "class vehicle:\n",
    "    def __init__(self, name_of_vehicle, max_speed, avg_of_vehicle):\n",
    "        self.name_of_vehicle = name_of_vehicle\n",
    "        self.max_speed = max_speed\n",
    "        self.avg_of_vehicle = avg_of_vehicle\n",
    "        \n"
   ]
  },
  {
   "cell_type": "code",
   "execution_count": 25,
   "id": "bb61aea3-cbb7-4910-bcbb-fba2922e7d21",
   "metadata": {},
   "outputs": [],
   "source": [
    "        honda = vehicle('bullet',\"70kmph\",30)\n",
    "        maruti = vehicle('suzuki',\"50kmph\",50)"
   ]
  },
  {
   "cell_type": "code",
   "execution_count": 26,
   "id": "9ee63549-d691-469b-9a06-97013556349b",
   "metadata": {},
   "outputs": [
    {
     "name": "stdout",
     "output_type": "stream",
     "text": [
      "70kmph\n",
      "suzuki\n"
     ]
    }
   ],
   "source": [
    "        print(honda.max_speed)\n",
    "        print(maruti.name_of_vehicle)"
   ]
  },
  {
   "cell_type": "markdown",
   "id": "0c6884ab-ef8c-4f7b-8e3b-9a61ba8878db",
   "metadata": {
    "jp-MarkdownHeadingCollapsed": true,
    "tags": []
   },
   "source": [
    "## Q2. Create a child class car from the vehicle class created in Que 1, which will inherit the vehicle class. Create a method named seating_capacity which takes capacity as an argument and returns the name of the vehicle and its seating capacity."
   ]
  },
  {
   "cell_type": "code",
   "execution_count": 37,
   "id": "1cfcfc27-8b51-4745-b5e3-95b86ca1ee54",
   "metadata": {},
   "outputs": [
    {
     "ename": "NameError",
     "evalue": "name 'vihicle' is not defined",
     "output_type": "error",
     "traceback": [
      "\u001b[0;31m---------------------------------------------------------------------------\u001b[0m",
      "\u001b[0;31mNameError\u001b[0m                                 Traceback (most recent call last)",
      "Cell \u001b[0;32mIn[37], line 10\u001b[0m\n\u001b[1;32m      7\u001b[0m         honda \u001b[38;5;241m=\u001b[39m vehicle(\u001b[38;5;124m'\u001b[39m\u001b[38;5;124mbullet\u001b[39m\u001b[38;5;124m'\u001b[39m,\u001b[38;5;124m\"\u001b[39m\u001b[38;5;124m70kmph\u001b[39m\u001b[38;5;124m\"\u001b[39m,\u001b[38;5;241m30\u001b[39m)\n\u001b[1;32m      8\u001b[0m         maruti \u001b[38;5;241m=\u001b[39m vehicle(\u001b[38;5;124m'\u001b[39m\u001b[38;5;124msuzuki\u001b[39m\u001b[38;5;124m'\u001b[39m,\u001b[38;5;124m\"\u001b[39m\u001b[38;5;124m50kmph\u001b[39m\u001b[38;5;124m\"\u001b[39m,\u001b[38;5;241m50\u001b[39m)\n\u001b[0;32m---> 10\u001b[0m \u001b[38;5;28;01mclass\u001b[39;00m \u001b[38;5;21;01mcar\u001b[39;00m(\u001b[43mvihicle\u001b[49m):\n\u001b[1;32m     11\u001b[0m     \u001b[38;5;28;01mdef\u001b[39;00m \u001b[38;5;21mseating_capacity\u001b[39m(\u001b[38;5;28mself\u001b[39m, capacity):\n\u001b[1;32m     12\u001b[0m         \u001b[38;5;28;01mreturn\u001b[39;00m \u001b[38;5;124mf\u001b[39m\u001b[38;5;124m\"\u001b[39m\u001b[38;5;132;01m{\u001b[39;00m\u001b[38;5;28mself\u001b[39m\u001b[38;5;241m.\u001b[39mname_of_vehicle\u001b[38;5;132;01m}\u001b[39;00m\u001b[38;5;124m has a setting capacity of \u001b[39m\u001b[38;5;132;01m{\u001b[39;00mcapacity\u001b[38;5;132;01m}\u001b[39;00m\u001b[38;5;124m passangers.\u001b[39m\u001b[38;5;124m\"\u001b[39m\n",
      "\u001b[0;31mNameError\u001b[0m: name 'vihicle' is not defined"
     ]
    }
   ],
   "source": [
    "class vehicle:\n",
    "    def __init__(self, name_of_vehicle, max_speed, avg_of_vehicle):\n",
    "        self.name_of_vehicle = name_of_vehicle\n",
    "        self.max_speed = max_speed\n",
    "        self.avg_of_vehicle = avg_of_vehicle\n",
    "        \n",
    "        honda = vehicle('bullet',\"70kmph\",30)\n",
    "        maruti = vehicle('suzuki',\"50kmph\",50)\n",
    "        \n",
    "class car(vihicle):\n",
    "    def seating_capacity(self, capacity):\n",
    "        return f\"{self.name_of_vehicle} has a setting capacity of {capacity} passangers.\"\n",
    "    \n",
    "    my_car = car(\"honda\")\n",
    "    print(my_car.seating_capacity(7))\n",
    "        \n",
    "\n",
    "        \n"
   ]
  },
  {
   "cell_type": "markdown",
   "id": "73faf03f-ab64-435e-8ecb-bae13e7ed935",
   "metadata": {
    "tags": []
   },
   "source": [
    "## Q3. What is multiple inheritance? Write a python code to demonstrate multiple inheritance."
   ]
  },
  {
   "cell_type": "markdown",
   "id": "4ec4cf62-46ad-4ac0-acc8-cf76d970ffe9",
   "metadata": {},
   "source": [
    "Multiple inheritance is a feature of object-oriented programming where a class can inherit attributes and methods from multiple parent classes. This means that a child class can have multiple base classes, and it inherits all the attributes and methods from these base classes.\n",
    "\n",
    "Here's an example of how to create a Python code to demonstrate multiple inheritance:"
   ]
  },
  {
   "cell_type": "code",
   "execution_count": 40,
   "id": "6be7d37f-3efd-4d93-a1b0-cf064a8855f2",
   "metadata": {},
   "outputs": [],
   "source": [
    "class class1:\n",
    "    def text1(self):\n",
    "        print(\"This is class 1\")"
   ]
  },
  {
   "cell_type": "code",
   "execution_count": 41,
   "id": "45301263-ade2-405c-bb88-3eb8e26e0fc3",
   "metadata": {},
   "outputs": [],
   "source": [
    "class class2:\n",
    "    def text2(self):\n",
    "        print(\"This is class 2\")"
   ]
  },
  {
   "cell_type": "code",
   "execution_count": 42,
   "id": "85c4485b-8bbb-4343-8a4b-647f223684f1",
   "metadata": {},
   "outputs": [],
   "source": [
    "class class3(class1,class2):\n",
    "    pass"
   ]
  },
  {
   "cell_type": "code",
   "execution_count": 43,
   "id": "1d02c090-f06c-40b2-805b-5611e3c0d3ea",
   "metadata": {},
   "outputs": [],
   "source": [
    "obj_class3 = class3()"
   ]
  },
  {
   "cell_type": "code",
   "execution_count": 44,
   "id": "a06f955f-8198-4aa8-aaab-2171efa6dd3a",
   "metadata": {},
   "outputs": [
    {
     "name": "stdout",
     "output_type": "stream",
     "text": [
      "This is class 1\n"
     ]
    }
   ],
   "source": [
    "obj_class3.text1()"
   ]
  },
  {
   "cell_type": "code",
   "execution_count": 47,
   "id": "7d22ba85-7f39-4cbc-9e95-2a848d07b60b",
   "metadata": {},
   "outputs": [
    {
     "name": "stdout",
     "output_type": "stream",
     "text": [
      "This is class 2\n"
     ]
    }
   ],
   "source": [
    "obj_class3.text2()\n",
    "\n",
    "## NOTE :: here from class 3 we are able to access the class 1 and class 2, that is what multiple inharitance is:"
   ]
  },
  {
   "cell_type": "markdown",
   "id": "38697d47-cab0-4d86-ba0b-1469bcb94ad1",
   "metadata": {},
   "source": [
    "## Q4. What are getter and setter in python? Create a class and create a getter and a setter method in this class."
   ]
  },
  {
   "cell_type": "markdown",
   "id": "27199cf8-7883-41bf-a829-b271a00da613",
   "metadata": {},
   "source": [
    "Getter and setter methods are used to control access to an object's attributes in object-oriented programming. They are used to ensure that object's attributes are accessed and modified in a controlled manner.\n",
    "\n",
    "Getter methods are used to retrieve the value of an object's attribute, while setter methods are used to modify the value of an object's attribute. Getter and setter methods can be created using properties in Python.\n",
    "\n",
    "Here's an example of how to create a Python class with a getter and setter method using properties:"
   ]
  },
  {
   "cell_type": "code",
   "execution_count": 48,
   "id": "62badc53-042b-4f95-be73-c75fb3f8485c",
   "metadata": {},
   "outputs": [
    {
     "name": "stdout",
     "output_type": "stream",
     "text": [
      "John\n",
      "Jane\n"
     ]
    }
   ],
   "source": [
    "class Person:\n",
    "    def __init__(self, name):\n",
    "        self._name = name\n",
    "\n",
    "    @property\n",
    "    def name(self):\n",
    "        return self._name\n",
    "\n",
    "    @name.setter\n",
    "    def name(self, value):\n",
    "        self._name = value\n",
    "\n",
    "person = Person(\"John\")\n",
    "print(person.name)  # Output: John\n",
    "\n",
    "person.name = \"Jane\"\n",
    "print(person.name)  # Output: Jane\n"
   ]
  },
  {
   "cell_type": "markdown",
   "id": "475161af-44e7-4993-af79-38b52e85d530",
   "metadata": {},
   "source": [
    "## Q5.What is method overriding in python? Write a python code to demonstrate method overriding."
   ]
  },
  {
   "cell_type": "markdown",
   "id": "42f48e04-5e28-400a-bff1-153df6fdb090",
   "metadata": {},
   "source": [
    "Method overriding is a feature of object-oriented programming where a child class provides a different implementation for a method that is already defined in its parent class. The child class overrides the method defined in the parent class with its own implementation.\n",
    "\n",
    "Here's an example of how to create a Python code to demonstrate method overriding:"
   ]
  },
  {
   "cell_type": "code",
   "execution_count": 60,
   "id": "c5aa0153-2e4e-4fe9-9b39-749a768f5c2a",
   "metadata": {},
   "outputs": [
    {
     "name": "stdout",
     "output_type": "stream",
     "text": [
      "Animal speaks!\n",
      "Dog barks!\n"
     ]
    }
   ],
   "source": [
    "class Animal:\n",
    "    def speak(self):\n",
    "        print(\"Animal speaks!\")\n",
    "\n",
    "class Dog(Animal):\n",
    "    def speak(self):\n",
    "        print(\"Dog barks!\")\n",
    "\n",
    "animal = Animal()\n",
    "dog = Dog()\n",
    "\n",
    "animal.speak()  # Output: Animal speaks!\n",
    "dog.speak()  # Output: Dog barks!\n"
   ]
  },
  {
   "cell_type": "code",
   "execution_count": null,
   "id": "9204305e-0aaa-408c-b8b2-2494b1864dcc",
   "metadata": {},
   "outputs": [],
   "source": []
  },
  {
   "cell_type": "code",
   "execution_count": null,
   "id": "500f3256-11aa-4dc1-b705-9517ae3eacd8",
   "metadata": {},
   "outputs": [],
   "source": []
  },
  {
   "cell_type": "code",
   "execution_count": null,
   "id": "5a7aac7b-b4ef-4e6a-a8a3-932bd0204c4c",
   "metadata": {},
   "outputs": [],
   "source": []
  },
  {
   "cell_type": "code",
   "execution_count": null,
   "id": "4c49e543-ab02-47da-90e3-153b7cd2e9e9",
   "metadata": {},
   "outputs": [],
   "source": []
  },
  {
   "cell_type": "code",
   "execution_count": null,
   "id": "bf2309a6-0bf9-433a-b896-f7db849609da",
   "metadata": {},
   "outputs": [],
   "source": []
  },
  {
   "cell_type": "code",
   "execution_count": null,
   "id": "e552cf30-8222-42b2-8e1e-fc22f035f2b4",
   "metadata": {},
   "outputs": [],
   "source": []
  },
  {
   "cell_type": "code",
   "execution_count": null,
   "id": "609c6e69-f25d-44f3-a7e8-0bca9eaed97c",
   "metadata": {},
   "outputs": [],
   "source": []
  },
  {
   "cell_type": "code",
   "execution_count": null,
   "id": "d764dc63-5cba-4dbd-8c05-a85e5253a2e7",
   "metadata": {},
   "outputs": [],
   "source": []
  },
  {
   "cell_type": "code",
   "execution_count": null,
   "id": "14973b98-6539-4d91-aa8e-5e8e9e524846",
   "metadata": {},
   "outputs": [],
   "source": []
  },
  {
   "cell_type": "code",
   "execution_count": null,
   "id": "29304e44-15e1-4130-a5dc-01094aa6b135",
   "metadata": {},
   "outputs": [],
   "source": []
  },
  {
   "cell_type": "code",
   "execution_count": null,
   "id": "acaa2cd1-3752-480e-96d4-f2e365aabce8",
   "metadata": {},
   "outputs": [],
   "source": []
  },
  {
   "cell_type": "code",
   "execution_count": null,
   "id": "102d4257-d328-44b7-92f9-61b8d987816b",
   "metadata": {},
   "outputs": [],
   "source": []
  },
  {
   "cell_type": "code",
   "execution_count": null,
   "id": "29755cd3-2fb6-4a35-9f96-d9ac0b271dd1",
   "metadata": {},
   "outputs": [],
   "source": []
  }
 ],
 "metadata": {
  "kernelspec": {
   "display_name": "Python 3 (ipykernel)",
   "language": "python",
   "name": "python3"
  },
  "language_info": {
   "codemirror_mode": {
    "name": "ipython",
    "version": 3
   },
   "file_extension": ".py",
   "mimetype": "text/x-python",
   "name": "python",
   "nbconvert_exporter": "python",
   "pygments_lexer": "ipython3",
   "version": "3.10.8"
  }
 },
 "nbformat": 4,
 "nbformat_minor": 5
}
