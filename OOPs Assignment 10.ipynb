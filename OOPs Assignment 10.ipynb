{
 "cells": [
  {
   "cell_type": "markdown",
   "id": "e219ec69-8bac-49b5-a2eb-e2e5853f35ab",
   "metadata": {},
   "source": [
    "## Q1. Which function is used to open a file? What are the different modes of opening a file? Explain each mode of file opening."
   ]
  },
  {
   "cell_type": "markdown",
   "id": "e70851ab-e3f1-45ca-88ea-4e086bd28201",
   "metadata": {},
   "source": [
    "\"open()\" is the built in function we can use to open a file:"
   ]
  },
  {
   "cell_type": "code",
   "execution_count": 4,
   "id": "a5156916-8faf-45fc-bd15-d7a060a5985d",
   "metadata": {},
   "outputs": [],
   "source": [
    "# file = open(\"filename.txt\")"
   ]
  },
  {
   "cell_type": "markdown",
   "id": "16ba5489-0829-4d9b-95d9-4f9f7cd69181",
   "metadata": {},
   "source": [
    "The different modes of opening a file in Python are:\n",
    "\n",
    "\"r\" (read mode): This mode is used to read data from an existing file. If the file does not exist, open() will raise a FileNotFoundError exception.\n",
    "\n",
    "\"w\" (write mode): This mode is used to write data to a file. If the file already exists, its contents will be erased. If the file does not exist, a new file will be created.\n",
    "\n",
    "\"a\" (append mode): This mode is used to append data to an existing file. If the file does not exist, a new file will be created.\n",
    "\n",
    "\"x\" (exclusive creation mode): This mode is used to create a new file, but it will raise a FileExistsError exception if the file already exists.\n",
    "\n",
    "\"b\" (binary mode): This mode is used to read or write binary data, such as images or audio files.\n",
    "\n",
    "\"t\" (text mode): This mode is used to read or write text data. It is the default mode, so you don't need to specify it explicitly.\n",
    "\n",
    "\n",
    "we can also use combination of these modes to achieve different behaviors. For example, \"rb\" will open a file in binary read mode, while \"a+\" will open a file in append mode and allow you to read and write to it."
   ]
  },
  {
   "cell_type": "markdown",
   "id": "5701bbdd-788a-4b1b-b880-b0432d406f06",
   "metadata": {},
   "source": [
    "## Q2. Why close() function is used? Why is it important to close a file?"
   ]
  },
  {
   "cell_type": "markdown",
   "id": "be291257-ef55-4856-afa8-ccc676e51680",
   "metadata": {},
   "source": [
    "The close() function is used in Python to close an open file. It is important to close a file because it releases the system resources (like file descriptor) associated with the file, and ensures that any pending data is written to the file.\n",
    "\n",
    "Therefore, it is good programming practice to always close files when you are done with them. You can do this by calling the close() function on the file object, like this:\n",
    "\n",
    "\"file = open(\"filename.txt\", \"r\")\n",
    " //do some operations on the file\n",
    "file.close()\"\n"
   ]
  },
  {
   "cell_type": "markdown",
   "id": "900591eb-65e8-4a26-b3b9-a548c889d1a2",
   "metadata": {},
   "source": [
    "## Q3. Write a python program to create a text file. Write ‘I want to become a Data Scientist’ in that file. Then close the file. Open this file and read the content of the file."
   ]
  },
  {
   "cell_type": "code",
   "execution_count": 11,
   "id": "08b85757-1ce8-4ae4-8d75-8072f46d4e19",
   "metadata": {},
   "outputs": [
    {
     "name": "stdout",
     "output_type": "stream",
     "text": [
      "i want to become a data scientist, hello baby\n"
     ]
    }
   ],
   "source": [
    "with open(\"file.txt\", \"w\") as file:\n",
    "    # write sentsnces to the file:\n",
    "    file.write(\"i want to become a data scientist, hello baby\")\n",
    "    \n",
    "with open(\"file.txt\", \"r\") as file:\n",
    "    content = file.read()\n",
    "    print(content)"
   ]
  },
  {
   "cell_type": "markdown",
   "id": "929dca99-7c6a-4c6c-9296-f8bd36429898",
   "metadata": {},
   "source": [
    "## Q4. Explain the following with python code: read(), readline() and readlines()."
   ]
  },
  {
   "cell_type": "markdown",
   "id": "3d60898c-db69-42b8-9413-7d1492fe6655",
   "metadata": {},
   "source": [
    "In Python, there are several methods you can use to read data from a file. Here is an explanation of the read(), readline(), and readlines() methods."
   ]
  },
  {
   "cell_type": "markdown",
   "id": "1f85160e-842c-49d1-9065-8f37710d8706",
   "metadata": {},
   "source": [
    "1) read(): The read() method reads the entire contents of a file and returns them as a string."
   ]
  },
  {
   "cell_type": "code",
   "execution_count": 12,
   "id": "3aecf0c4-f29b-4451-a1eb-0709f26e9f79",
   "metadata": {},
   "outputs": [
    {
     "name": "stdout",
     "output_type": "stream",
     "text": [
      "i want to become a data scientist, hello baby\n"
     ]
    }
   ],
   "source": [
    "# open file in read mode:\n",
    "with open(\"file.txt\", \"r\") as file:\n",
    "\n",
    "# read entire content:\n",
    "    contents = file.read()\n",
    "    \n",
    "    ## print the content:\n",
    "    print(contents)\n"
   ]
  },
  {
   "cell_type": "markdown",
   "id": "d182928e-1992-4c3f-bb07-6acf617b8ac4",
   "metadata": {},
   "source": [
    "2) readline(): The readline() method reads a single line from the file and returns it as a string. Subsequent calls to readline() will return the next line of the file, and so on, until the end of the file is reached."
   ]
  },
  {
   "cell_type": "code",
   "execution_count": 13,
   "id": "c4c97c54-bbac-4a63-90a8-ad2af34a51fb",
   "metadata": {},
   "outputs": [
    {
     "name": "stdout",
     "output_type": "stream",
     "text": [
      "i want to become a data scientist, hello baby\n"
     ]
    }
   ],
   "source": [
    "# open the file in read mode\n",
    "with open(\"file.txt\", \"r\") as file:\n",
    "    # read the first line of the file\n",
    "    line = file.readline()\n",
    "    # loop through the remaining lines of the file\n",
    "    while line:\n",
    "        # print the line\n",
    "        print(line)\n",
    "        # read the next line\n",
    "        line = file.readline()\n"
   ]
  },
  {
   "cell_type": "markdown",
   "id": "45df0ffe-5241-4da8-b209-a9198d58e5a0",
   "metadata": {},
   "source": [
    "3) readlines(): The readlines() method reads the entire contents of a file and returns them as a list of strings, with each element in the list representing a single line of the file."
   ]
  },
  {
   "cell_type": "code",
   "execution_count": 14,
   "id": "4a5d3247-de34-4f4d-8619-3667c8b94de1",
   "metadata": {},
   "outputs": [
    {
     "name": "stdout",
     "output_type": "stream",
     "text": [
      "i want to become a data scientist, hello baby\n"
     ]
    }
   ],
   "source": [
    "# open the file in read mode\n",
    "with open(\"file.txt\", \"r\") as file:\n",
    "    # read the entire contents of the file\n",
    "    lines = file.readlines()\n",
    "    # print each line to the console\n",
    "    for line in lines:\n",
    "        print(line)\n"
   ]
  },
  {
   "cell_type": "markdown",
   "id": "df605aaf-6ba8-4233-8f2b-6b68a88bdaee",
   "metadata": {},
   "source": [
    "## Q5. Explain why with statement is used with open(). What is the advantage of using with statement and open() together?"
   ]
  },
  {
   "cell_type": "markdown",
   "id": "595fa1cc-6e7f-491e-a375-6b24468086b6",
   "metadata": {},
   "source": [
    "The with statement is used with the open() function in Python to handle files in a more concise and safe way. When you open a file using open(), you need to remember to close the file once you're done with it. If you forget to close the file, you can end up with resource leaks, file corruption, or other problems.\n",
    "\n",
    "The with statement provides a convenient way to ensure that a file is closed properly when the block of code using the file is done executing. The with statement does this by automatically calling the close() method of the file object when the block of code is exited, even if an exception is raised.\n",
    "\n",
    "Here's an example that demonstrates how to use the with statement and open() function together:"
   ]
  },
  {
   "cell_type": "code",
   "execution_count": 16,
   "id": "0124338e-f117-4951-ab9b-a12c52e3375d",
   "metadata": {},
   "outputs": [
    {
     "name": "stdout",
     "output_type": "stream",
     "text": [
      "i want to become a data scientist, hello baby\n"
     ]
    }
   ],
   "source": [
    "with open('file.txt', 'r') as file:\n",
    "    content = file.read()\n",
    "    print(content)\n"
   ]
  },
  {
   "cell_type": "markdown",
   "id": "ff65c4d5-be5a-46cc-aea4-adf016406234",
   "metadata": {},
   "source": [
    "The advantage of using the with statement and open() function together is that it provides a more concise and safe way to handle files in Python. You don't need to remember to close the file once you're done with it, and you don't need to worry about resource leaks or other problems that can arise if you forget to close the file. This can make your code more readable, easier to maintain, and less error-prone.\n",
    "\n",
    "\n",
    "\n"
   ]
  },
  {
   "cell_type": "markdown",
   "id": "ed28bbfb-5311-4d22-9be6-7698e256a594",
   "metadata": {},
   "source": [
    "## Q6. Explain the write() and writelines() functions. Give a suitable example."
   ]
  },
  {
   "cell_type": "markdown",
   "id": "c2726dd0-3fa4-4c13-8ec2-17da1525644c",
   "metadata": {},
   "source": [
    "In Python, the write() and writelines() functions are used to write data to a file. \n",
    "\n",
    "1) write(): The write() function is used to write a single string to a file. If the file already exists, the string is written at the end of the file. If the file does not exist, a new file is created with the given name."
   ]
  },
  {
   "cell_type": "code",
   "execution_count": 23,
   "id": "b5b356f2-ef77-47cd-a773-4268375241a1",
   "metadata": {},
   "outputs": [
    {
     "name": "stdout",
     "output_type": "stream",
     "text": [
      "i want to become a data scientist, hello baby\n"
     ]
    }
   ],
   "source": [
    "# Open a file in write mode\n",
    "with open('file.txt', 'w') as file:\n",
    "    # Write a string to the file\n",
    "    file.write('I am not a data scientist but i will be the CEO')\n",
    "    \n",
    "    with open(\"file.txt\", \"r\") as file:\n",
    "        content1 = file.read()\n",
    "        print(content)\n",
    "    \n"
   ]
  },
  {
   "cell_type": "markdown",
   "id": "0a8eaa72-d5a5-4a29-b212-7fba961b65a2",
   "metadata": {},
   "source": [
    "2) writelines(): The writelines() function is used to write a list of strings to a file. Each string is written on a separate line. If the file already exists, the strings are written at the end of the file. If the file does not exist, a new file is created with the given name."
   ]
  },
  {
   "cell_type": "code",
   "execution_count": 24,
   "id": "6bdab842-5473-4265-b920-ea07703c614f",
   "metadata": {},
   "outputs": [],
   "source": [
    "# Open a file in write mode\n",
    "with open('file.txt', 'w') as file:\n",
    "    # Write a list of strings to the file\n",
    "    lines = ['I want to become a data scientist\\n', 'I love Python programming\\n']\n",
    "    file.writelines(lines)\n"
   ]
  },
  {
   "cell_type": "code",
   "execution_count": null,
   "id": "5387681e-f1e8-4745-b300-994b6e46ccb1",
   "metadata": {},
   "outputs": [],
   "source": []
  },
  {
   "cell_type": "code",
   "execution_count": null,
   "id": "11b17e4d-5f70-4e8f-82b9-20616604e828",
   "metadata": {},
   "outputs": [],
   "source": []
  },
  {
   "cell_type": "code",
   "execution_count": null,
   "id": "fcea722d-8247-467b-b586-d63eb318f8d9",
   "metadata": {},
   "outputs": [],
   "source": []
  },
  {
   "cell_type": "code",
   "execution_count": null,
   "id": "3fb4960f-f298-42b5-822d-68666392953e",
   "metadata": {},
   "outputs": [],
   "source": []
  },
  {
   "cell_type": "code",
   "execution_count": null,
   "id": "697189dd-00cd-433b-a459-cc569aec1229",
   "metadata": {},
   "outputs": [],
   "source": []
  },
  {
   "cell_type": "code",
   "execution_count": null,
   "id": "a6937b23-856f-4bdf-b106-9923ec6c7eb6",
   "metadata": {},
   "outputs": [],
   "source": []
  },
  {
   "cell_type": "code",
   "execution_count": null,
   "id": "00aa0925-3c1a-4b68-9599-d9f0140d6d32",
   "metadata": {},
   "outputs": [],
   "source": []
  },
  {
   "cell_type": "code",
   "execution_count": null,
   "id": "14aea368-9cfe-462d-b65c-592f520c86d9",
   "metadata": {},
   "outputs": [],
   "source": []
  },
  {
   "cell_type": "code",
   "execution_count": null,
   "id": "285eac0c-d290-44f4-bec8-172bba86c2f9",
   "metadata": {},
   "outputs": [],
   "source": []
  },
  {
   "cell_type": "code",
   "execution_count": null,
   "id": "02d5b528-7ebd-416a-bd01-c73bacf64e1c",
   "metadata": {},
   "outputs": [],
   "source": []
  },
  {
   "cell_type": "code",
   "execution_count": null,
   "id": "978e0c5d-1000-4c65-a346-85d191b40721",
   "metadata": {},
   "outputs": [],
   "source": []
  },
  {
   "cell_type": "code",
   "execution_count": null,
   "id": "f8ff7d56-0462-4fe0-b490-b68629d3cf41",
   "metadata": {},
   "outputs": [],
   "source": []
  },
  {
   "cell_type": "code",
   "execution_count": null,
   "id": "7f44bdc9-adfe-4040-9e06-218eb4b3280c",
   "metadata": {},
   "outputs": [],
   "source": []
  },
  {
   "cell_type": "code",
   "execution_count": null,
   "id": "7a6ef184-ff66-470e-b481-97123e6ed425",
   "metadata": {},
   "outputs": [],
   "source": []
  },
  {
   "cell_type": "code",
   "execution_count": null,
   "id": "a9ff4cce-323f-4127-bb24-496dbf235fd6",
   "metadata": {},
   "outputs": [],
   "source": []
  },
  {
   "cell_type": "code",
   "execution_count": null,
   "id": "1d279d43-eea4-4722-be43-aff391ce8e04",
   "metadata": {},
   "outputs": [],
   "source": []
  },
  {
   "cell_type": "code",
   "execution_count": null,
   "id": "1ff01878-6c0e-4713-8587-62c69d5ab6d0",
   "metadata": {},
   "outputs": [],
   "source": []
  },
  {
   "cell_type": "code",
   "execution_count": null,
   "id": "f67176f8-d9ff-4791-8b1f-c40ebc7dc27a",
   "metadata": {},
   "outputs": [],
   "source": []
  },
  {
   "cell_type": "code",
   "execution_count": null,
   "id": "5a72a281-edff-4c79-8566-45446384d1a9",
   "metadata": {},
   "outputs": [],
   "source": []
  },
  {
   "cell_type": "code",
   "execution_count": null,
   "id": "6b866c1e-1e2b-46ae-830f-6a99e89016ac",
   "metadata": {},
   "outputs": [],
   "source": []
  },
  {
   "cell_type": "code",
   "execution_count": null,
   "id": "0c99d5c7-2068-4e9f-8ff3-00e54a3668a6",
   "metadata": {},
   "outputs": [],
   "source": []
  },
  {
   "cell_type": "code",
   "execution_count": null,
   "id": "28bd7df1-b09c-48de-b003-660bb41e61ae",
   "metadata": {},
   "outputs": [],
   "source": []
  },
  {
   "cell_type": "code",
   "execution_count": null,
   "id": "53f76c45-4037-4a52-a033-6850f95c8f25",
   "metadata": {},
   "outputs": [],
   "source": []
  },
  {
   "cell_type": "code",
   "execution_count": null,
   "id": "0fa98d55-6e18-408d-adae-63dd5dac6858",
   "metadata": {},
   "outputs": [],
   "source": []
  },
  {
   "cell_type": "code",
   "execution_count": null,
   "id": "672dab77-d69d-4a44-9fe5-3aba793bc581",
   "metadata": {},
   "outputs": [],
   "source": []
  },
  {
   "cell_type": "code",
   "execution_count": null,
   "id": "5e6927d0-1e06-4ec2-8e0d-b26e134afb2e",
   "metadata": {},
   "outputs": [],
   "source": []
  },
  {
   "cell_type": "code",
   "execution_count": null,
   "id": "f57950f9-e943-4662-975b-8f9dac072024",
   "metadata": {},
   "outputs": [],
   "source": []
  },
  {
   "cell_type": "code",
   "execution_count": null,
   "id": "8b107149-e427-4257-8040-f7f875332a0a",
   "metadata": {},
   "outputs": [],
   "source": []
  },
  {
   "cell_type": "code",
   "execution_count": null,
   "id": "80287375-8a82-49c3-bd65-d8bfce52f53b",
   "metadata": {},
   "outputs": [],
   "source": []
  },
  {
   "cell_type": "code",
   "execution_count": null,
   "id": "eb6e7f8c-07bf-446b-be08-0c3d8307e6e3",
   "metadata": {},
   "outputs": [],
   "source": []
  },
  {
   "cell_type": "code",
   "execution_count": null,
   "id": "7ec18c09-2c84-4b90-aae1-5f9b81e98de0",
   "metadata": {},
   "outputs": [],
   "source": []
  },
  {
   "cell_type": "code",
   "execution_count": null,
   "id": "d9507190-0bca-4b30-8378-6a8d6a618afa",
   "metadata": {},
   "outputs": [],
   "source": []
  },
  {
   "cell_type": "code",
   "execution_count": null,
   "id": "fccfb189-3bb0-4e1f-82b0-7ed3bcb600e7",
   "metadata": {},
   "outputs": [],
   "source": []
  },
  {
   "cell_type": "code",
   "execution_count": null,
   "id": "f8c8f8dc-7505-4da4-ab48-2adb6fbcf86a",
   "metadata": {},
   "outputs": [],
   "source": []
  },
  {
   "cell_type": "code",
   "execution_count": null,
   "id": "d3547ff0-80db-47b6-97d2-df945344cb29",
   "metadata": {},
   "outputs": [],
   "source": []
  },
  {
   "cell_type": "code",
   "execution_count": null,
   "id": "fff3a6ac-42ea-4f12-9e83-af2f6d77f739",
   "metadata": {},
   "outputs": [],
   "source": []
  }
 ],
 "metadata": {
  "kernelspec": {
   "display_name": "Python 3 (ipykernel)",
   "language": "python",
   "name": "python3"
  },
  "language_info": {
   "codemirror_mode": {
    "name": "ipython",
    "version": 3
   },
   "file_extension": ".py",
   "mimetype": "text/x-python",
   "name": "python",
   "nbconvert_exporter": "python",
   "pygments_lexer": "ipython3",
   "version": "3.10.8"
  }
 },
 "nbformat": 4,
 "nbformat_minor": 5
}
