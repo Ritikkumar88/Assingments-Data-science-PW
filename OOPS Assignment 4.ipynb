{
 "cells": [
  {
   "cell_type": "markdown",
   "id": "b46fe6dc-b66a-4a5e-a290-be63c2fc35fb",
   "metadata": {},
   "source": [
    "## Q1. Explain Class and Object with respect to Object-Oriented Programming. Give a suitable example."
   ]
  },
  {
   "cell_type": "markdown",
   "id": "a3060794-fc3f-401f-bd6d-22925a82e593",
   "metadata": {},
   "source": [
    "In Object-Oriented Programming (OOP), a class is a blueprint or a template that describes the behavior and attributes of a certain category of objects. An object, on the other hand, is an instance of a class that has its own unique values for its attributes and can perform actions defined by the class.\n",
    "\n",
    "In Python, classes are defined using the class keyword. Attributes are defined as class variables or instance variables, and methods are defined as functions inside the class. An object is created by calling the class as if it were a function."
   ]
  },
  {
   "cell_type": "code",
   "execution_count": 1,
   "id": "3d9c3531-9c6a-4bf2-9757-eb51e762a01c",
   "metadata": {},
   "outputs": [
    {
     "name": "stdout",
     "output_type": "stream",
     "text": [
      "Make: Toyota\n",
      "Model: Corolla\n",
      "Year: 2022\n",
      "Current speed: 20\n",
      "Current speed: 10\n"
     ]
    }
   ],
   "source": [
    "class Car:\n",
    "    def __init__(self, make, model, year):\n",
    "        self.make = make\n",
    "        self.model = model\n",
    "        self.year = year\n",
    "        self.speed = 0\n",
    "    \n",
    "    def accelerate(self):\n",
    "        self.speed += 10\n",
    "    \n",
    "    def brake(self):\n",
    "        if self.speed >= 10:\n",
    "            self.speed -= 10\n",
    "    \n",
    "    def get_speed(self):\n",
    "        return self.speed\n",
    "\n",
    "# Creating an object of the Car class\n",
    "my_car = Car(\"Toyota\", \"Corolla\", 2022)\n",
    "\n",
    "# Using the object to call methods and access attributes\n",
    "print(\"Make:\", my_car.make)\n",
    "print(\"Model:\", my_car.model)\n",
    "print(\"Year:\", my_car.year)\n",
    "\n",
    "my_car.accelerate()\n",
    "my_car.accelerate()\n",
    "print(\"Current speed:\", my_car.get_speed())\n",
    "\n",
    "my_car.brake()\n",
    "print(\"Current speed:\", my_car.get_speed())\n"
   ]
  },
  {
   "cell_type": "markdown",
   "id": "caec7fc5-0260-4d2b-aeeb-5a23a2a60dfe",
   "metadata": {},
   "source": [
    "## Q2. Name the four pillars of OOPs."
   ]
  },
  {
   "cell_type": "markdown",
   "id": "883b3259-ee00-46c9-b2fa-d6db6b3756e1",
   "metadata": {},
   "source": [
    "Encapsulation: Encapsulation refers to the concept of bundling data and methods that operate on that data within a single unit, such as a class in Python. Encapsulation hides the internal details of an object and provides a clean and consistent interface for interacting with the object.\n",
    "\n",
    "Inheritance: Inheritance allows a new class to be based on an existing class. The new class, called the subclass or derived class, inherits attributes and methods from the existing class, called the superclass or base class. Inheritance allows code reuse, and can simplify the design and implementation of complex systems.\n",
    "\n",
    "Polymorphism: Polymorphism means the ability of an object to take on different forms. In Python, this is achieved through method overriding and method overloading. Method overriding allows a subclass to provide a different implementation of a method that is already defined in its superclass, while method overloading allows a class to define multiple methods with the same name but different parameters.\n",
    "\n",
    "Abstraction: Abstraction refers to the process of creating a simplified model of a complex system. In OOP, abstraction is achieved by defining classes that represent concepts or objects in the problem domain. Abstraction allows us to focus on the essential features of an object or system, while ignoring or hiding the irrelevant details.\n",
    "\n",
    "\n",
    "\n"
   ]
  },
  {
   "cell_type": "markdown",
   "id": "82ec77ff-7bd5-46eb-9854-6c33b918fd1f",
   "metadata": {},
   "source": [
    "## Q.3) Explain why the __init__() function is used. Give a suitable example."
   ]
  },
  {
   "cell_type": "markdown",
   "id": "27818a82-60d0-4394-a7bf-befb4bdeb2e3",
   "metadata": {},
   "source": [
    "The __init__() function is a special method in Python classes that is used to initialize the object's attributes when an object is created. This method is called a constructor, because it constructs or initializes the object.\n",
    "\n",
    "The __init__() method is used to set values for the object's attributes, which may vary for each instance of the class. For example, if we have a Person class, each instance of the class will have a different name, age, and address. The __init__() method allows us to set these values when we create a new object of the Person class.\n",
    "\n",
    "Here's an example of a Person class with an __init__() method:\n",
    "\n",
    "This example shows how we can use the __init__() method to initialize the attributes of an object when it is created. By defining the attributes in the __init__() method, we can ensure that each object of the class has its own unique values for those attributes."
   ]
  },
  {
   "cell_type": "code",
   "execution_count": 2,
   "id": "8238415a-c6df-4686-8b46-dce1fd95109d",
   "metadata": {},
   "outputs": [
    {
     "name": "stdout",
     "output_type": "stream",
     "text": [
      "Alice 30 123 Main St\n",
      "Bob 40 456 Oak Ave\n"
     ]
    }
   ],
   "source": [
    "class Person:\n",
    "    def __init__(self, name, age, address):\n",
    "        self.name = name\n",
    "        self.age = age\n",
    "        self.address = address\n",
    "\n",
    "# Creating objects of the Person class\n",
    "person1 = Person(\"Alice\", 30, \"123 Main St\")\n",
    "person2 = Person(\"Bob\", 40, \"456 Oak Ave\")\n",
    "\n",
    "# Accessing the attributes of the objects\n",
    "print(person1.name, person1.age, person1.address)\n",
    "print(person2.name, person2.age, person2.address)\n"
   ]
  },
  {
   "cell_type": "markdown",
   "id": "880e7b73-5126-41c3-a8d5-df5618f10a21",
   "metadata": {},
   "source": [
    "## Q4. Why self is used in OOPs?"
   ]
  },
  {
   "cell_type": "markdown",
   "id": "891aea70-8de9-47a1-a95a-0df480ebe547",
   "metadata": {},
   "source": [
    "In object-oriented programming, self is a reference to the object that is currently being manipulated or operated on. It is a way for an object to refer to itself within its own methods and attributes.\n",
    "\n",
    "The self parameter is typically the first parameter in the definition of a method in a Python class, although it can be named differently. When a method is called on an object, the self parameter is automatically set to refer to that object, and is used to access the object's attributes and methods.\n",
    "\n",
    "The self parameter allows each instance of a class to have its own set of attributes and methods, which can have different values and behaviors for each instance. Without the self parameter, it would not be possible for an object to access its own attributes and methods, or to have unique values for those attributes.\n",
    "\n",
    "Here is an example of a class in Python that uses the self parameter:"
   ]
  },
  {
   "cell_type": "code",
   "execution_count": null,
   "id": "b83b50c3-9a7b-4fb2-88b9-fad44f53e037",
   "metadata": {},
   "outputs": [],
   "source": [
    "class Rectangle:\n",
    "    def __init__(self, length, width):\n",
    "        self.length = length\n",
    "        self.width = width\n",
    "    \n",
    "    def area(self):\n",
    "        return self.length * self.width\n",
    "    \n",
    "    def perimeter(self):\n",
    "        return 2 * (self.length + self.width)\n"
   ]
  },
  {
   "cell_type": "markdown",
   "id": "4fb40528-e42d-4c10-97f1-849c12f56eff",
   "metadata": {},
   "source": [
    "In this example, the Rectangle class has two attributes length and width, and two methods area() and perimeter(). The __init__() method takes the length and width as parameters, and initializes the attributes of the object using the self parameter.\n",
    "\n",
    "The area() and perimeter() methods use the self parameter to access the attributes of the object, and perform calculations using those attributes. By using the self parameter, each instance of the Rectangle class can have its own unique values for length and width, and can compute its own area and perimeter."
   ]
  },
  {
   "cell_type": "markdown",
   "id": "f1283c4b-38fb-44ae-8aa4-a8e68c416864",
   "metadata": {},
   "source": [
    "## Q5. What is inheritance? Give an example for each type of inheritance."
   ]
  },
  {
   "cell_type": "markdown",
   "id": "64052fdb-8b2b-4b0e-a069-874e00375608",
   "metadata": {},
   "source": [
    " Inheritance is a fundamental concept in object-oriented programming (OOP) that allows a new class to be based on an existing class. Inheritance enables the new class to reuse the properties and methods of the existing class, and to add new properties and methods of its own. Inheritance is an important mechanism for code reuse, and it also makes code more flexible and easier to maintain.\n",
    "\n",
    "There are four types of inheritance in Python:\n",
    "\n",
    "Single inheritance: A class can inherit from only one parent class.\n",
    "\n",
    "In this example, the Dog class inherits from the Animal class. The Dog class has a speak() method that overrides the speak() method of the Animal class. When we create a Dog object, we can access the name attribute of the Animal class using the self.name syntax."
   ]
  },
  {
   "cell_type": "code",
   "execution_count": null,
   "id": "eb0ba1bd-3f1e-4a13-ba58-860a9cc1c74e",
   "metadata": {},
   "outputs": [],
   "source": [
    "class Animal:\n",
    "    def __init__(self, name):\n",
    "        self.name = name\n",
    "    \n",
    "    def speak(self):\n",
    "        pass\n",
    "\n",
    "class Dog(Animal):\n",
    "    def speak(self):\n",
    "        return \"Woof!\"\n",
    "\n",
    "d = Dog(\"Fido\")\n",
    "print(d.name)\n",
    "print(d.speak())\n"
   ]
  },
  {
   "cell_type": "markdown",
   "id": "1401e3f9-9ceb-4d17-ae83-62be4195ef54",
   "metadata": {},
   "source": [
    "Multiple inheritance: A class can inherit from multiple parent classes.\n",
    "\n",
    "In this example, the C class inherits from both the A class and the B class. The C class has three methods: method1(), which is inherited from A; method2(), which is inherited from B; and method3(), which is unique to C."
   ]
  },
  {
   "cell_type": "code",
   "execution_count": null,
   "id": "5df03208-5bc5-4ee3-b8a1-cc8776e1e56c",
   "metadata": {},
   "outputs": [],
   "source": [
    "class A:\n",
    "    def method1(self):\n",
    "        return \"Method 1 of A\"\n",
    "    \n",
    "class B:\n",
    "    def method2(self):\n",
    "        return \"Method 2 of B\"\n",
    "    \n",
    "class C(A, B):\n",
    "    def method3(self):\n",
    "        return \"Method 3 of C\"\n",
    "\n",
    "c = C()\n",
    "print(c.method1())\n",
    "print(c.method2())\n",
    "print(c.method3())\n"
   ]
  },
  {
   "cell_type": "markdown",
   "id": "d6ec8ff2-2f50-4a54-8f40-76a009884fbb",
   "metadata": {},
   "source": [
    "Hierarchical inheritance: Multiple classes inherit from a single parent class.\n",
    "\n",
    "In this example, both the Dog class and the Cat class inherit from the Animal class. The Dog class and the Cat class have their own speak() method that overrides the speak() method of the Animal class."
   ]
  },
  {
   "cell_type": "code",
   "execution_count": null,
   "id": "2aec836f-4e70-4b3a-a187-2d6fe6f75b9f",
   "metadata": {},
   "outputs": [],
   "source": [
    "class Animal:\n",
    "    def __init__(self, name):\n",
    "        self.name = name\n",
    "    \n",
    "    def speak(self):\n",
    "        pass\n",
    "\n",
    "class Dog(Animal):\n",
    "    def speak(self):\n",
    "        return \"Woof!\"\n",
    "\n",
    "class Cat(Animal):\n",
    "    def speak(self):\n",
    "        return \"Meow!\"\n",
    "\n",
    "d = Dog(\"Fido\")\n",
    "c = Cat(\"Whiskers\")\n",
    "print(d.name)\n",
    "print(d.speak())\n",
    "print(c.name)\n",
    "print(c.speak())\n"
   ]
  },
  {
   "cell_type": "markdown",
   "id": "495e6cd6-f926-48bd-a362-8edacddf2718",
   "metadata": {},
   "source": [
    "Multi-level inheritance: A class can inherit from a child class.\n",
    "\n",
    "In this example, the C class inherits from the B class, which in turn inherits from the A class. The C class has three methods: method1(), which is inherited from A; method2(), which is inherited from B; and method3(), which is unique to C."
   ]
  },
  {
   "cell_type": "code",
   "execution_count": null,
   "id": "a7b93f3e-efcc-4a0d-b5f8-5448b3da1d4d",
   "metadata": {},
   "outputs": [],
   "source": [
    "class A:\n",
    "    def method1(self):\n",
    "        return \"Method 1 of A\"\n",
    "    \n",
    "class B(A):\n",
    "    def method2(self):\n",
    "        return \"Method 2 of B\"\n",
    "    \n",
    "class C(B):\n",
    "    def method3(self):\n",
    "        return \"Method 3 of C\"\n",
    "\n",
    "c = C()\n",
    "print(c.method1())\n",
    "print(c.method2())\n",
    "print(c.method3())\n"
   ]
  },
  {
   "cell_type": "code",
   "execution_count": null,
   "id": "53c92449-24a9-45aa-b410-47795ed40e26",
   "metadata": {},
   "outputs": [],
   "source": []
  },
  {
   "cell_type": "code",
   "execution_count": null,
   "id": "cbbb5d58-504b-45f4-98ed-c96455d42794",
   "metadata": {},
   "outputs": [],
   "source": []
  }
 ],
 "metadata": {
  "kernelspec": {
   "display_name": "Python 3 (ipykernel)",
   "language": "python",
   "name": "python3"
  },
  "language_info": {
   "codemirror_mode": {
    "name": "ipython",
    "version": 3
   },
   "file_extension": ".py",
   "mimetype": "text/x-python",
   "name": "python",
   "nbconvert_exporter": "python",
   "pygments_lexer": "ipython3",
   "version": "3.10.8"
  }
 },
 "nbformat": 4,
 "nbformat_minor": 5
}
