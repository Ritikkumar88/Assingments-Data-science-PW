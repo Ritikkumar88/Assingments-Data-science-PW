{
 "cells": [
  {
   "cell_type": "markdown",
   "id": "a4ec75da-494c-4d5b-9362-1bd981fef9df",
   "metadata": {
    "jp-MarkdownHeadingCollapsed": true,
    "tags": []
   },
   "source": [
    "## Q.1) Write a programme to accept % from the user and display the grade according to the following critearia."
   ]
  },
  {
   "cell_type": "code",
   "execution_count": 3,
   "id": "30a9a902-73b5-4b3b-83ec-75d9e6e81475",
   "metadata": {},
   "outputs": [
    {
     "name": "stdin",
     "output_type": "stream",
     "text": [
      "Enter your percentage 59.8\n"
     ]
    },
    {
     "name": "stdout",
     "output_type": "stream",
     "text": [
      "Your grade is:  D\n"
     ]
    }
   ],
   "source": [
    "per = float(input(\"Enter your percentage\"))\n",
    "\n",
    "if per >90:\n",
    "    grade = \"A\"\n",
    "elif per <=90 and per > 80:\n",
    "    grade = \"B\"\n",
    "elif per >= 60 and per <=80:\n",
    "    grade = \"C\"\n",
    "else:\n",
    "    grade = \"D\"\n",
    "    \n",
    "    \n",
    "print (\"Your grade is: \", grade)    "
   ]
  },
  {
   "cell_type": "markdown",
   "id": "1d689ba4-c390-4fb0-9ba4-7c46a84f31cc",
   "metadata": {
    "jp-MarkdownHeadingCollapsed": true,
    "tags": []
   },
   "source": [
    "## Q.2) Write a programm to accept a cost prize of a bike and return the tex of that bike:"
   ]
  },
  {
   "cell_type": "code",
   "execution_count": 5,
   "id": "0609fede-b787-4661-951b-7fcf8436c712",
   "metadata": {},
   "outputs": [
    {
     "name": "stdin",
     "output_type": "stream",
     "text": [
      "Enter cost prize of your car in Rs:  100001\n"
     ]
    },
    {
     "name": "stdout",
     "output_type": "stream",
     "text": [
      "Your payable tax is:  15000.15\n"
     ]
    }
   ],
   "source": [
    "cp = int(input(\"Enter cost prize of your car in Rs: \"))\n",
    "\n",
    "if cp > 100000:\n",
    "    tax = (15/100)* cp\n",
    "elif cp > 50000 and cp<=100000:\n",
    "    tax = (10/100)*cp\n",
    "else: \n",
    "    tax = (5/100)*cp\n",
    "    \n",
    "print (\"Your payable tax is: \", tax)    \n"
   ]
  },
  {
   "cell_type": "markdown",
   "id": "da3e7d06-ed5c-46c3-87a5-22df04017fc9",
   "metadata": {
    "jp-MarkdownHeadingCollapsed": true,
    "tags": []
   },
   "source": [
    "## Q.3) Accept any city from the user and return the monument of the city:"
   ]
  },
  {
   "cell_type": "code",
   "execution_count": null,
   "id": "34d1a0d5-227e-44d5-9964-58db5a4a94ef",
   "metadata": {},
   "outputs": [],
   "source": [
    "city = str(input(\"Your City?\"))\n",
    "if city == \"delhi\":\n",
    "    monument = \"Red fort\"\n",
    "elif city == \"agra\":\n",
    "    monument = \"taj mahal\"\n",
    "elif city == \"jai pur\":\n",
    "    monument = \"jal Mahal\"\n",
    "    \n",
    "print(\"this city is famous for\", monument)    "
   ]
  },
  {
   "cell_type": "markdown",
   "id": "f72f9d2c-9457-45ca-a2aa-398687356db6",
   "metadata": {
    "jp-MarkdownHeadingCollapsed": true,
    "tags": []
   },
   "source": [
    "## Q.4) check how many times a given number can be devided by 3 before it is less then or equal to 10;"
   ]
  },
  {
   "cell_type": "code",
   "execution_count": null,
   "id": "2194d56e-2ba7-4be6-a3b6-74b816b589e6",
   "metadata": {},
   "outputs": [],
   "source": [
    "num = int(input(\"Please enter your number\"))\n",
    "\n",
    "count = 0\n",
    "   while (num<=10):\n",
    "    num =/3\n",
    "    count +=1\n",
    "    print(\"The number can be divided by 3\", count, \"times before it is less than or equal to 10.\")\n"
   ]
  },
  {
   "cell_type": "code",
   "execution_count": null,
   "id": "b4ee522f-2f78-4e5d-83fb-8d3a650a2581",
   "metadata": {},
   "outputs": [],
   "source": [
    "num = int(input(\"Enter a number: \"))\n",
    "count = 0\n",
    "\n",
    "while num > 10:\n",
    "    num = num / 3\n",
    "    count += 1\n",
    "\n",
    "print(\"The number can be divided by 3\", count, \"times before it is less than or equal to 10.\")\n"
   ]
  },
  {
   "cell_type": "markdown",
   "id": "f0602466-d266-4e7c-b9f3-aa55ee81b636",
   "metadata": {
    "jp-MarkdownHeadingCollapsed": true,
    "tags": []
   },
   "source": [
    "## Q.5) why and when to use while loop in python give an detail discription with an example;"
   ]
  },
  {
   "cell_type": "markdown",
   "id": "1dd17ec7-3b82-4feb-92ee-e2d9a038e566",
   "metadata": {},
   "source": [
    "A while loop in Python is used when you need to repeatedly execute a block of code as long as a specific condition is true. It is a useful way to automate tasks that require repeated execution based on some condition. Here are some situations where a while loop might be useful:"
   ]
  },
  {
   "cell_type": "code",
   "execution_count": null,
   "id": "50add4f8-0a60-49b2-ab2e-0b6d3f1e6f87",
   "metadata": {},
   "outputs": [],
   "source": [
    "n = int(input(\"Enter a positive integer: \"))\n",
    "sum = 0\n",
    "i = 1\n",
    "\n",
    "while i <= n:\n",
    "    sum += i\n",
    "    i += 1\n",
    "\n",
    "print(\"The sum of the first\", n, \"numbers is\", sum)\n"
   ]
  },
  {
   "cell_type": "markdown",
   "id": "7ac734e2-d3ca-4cc8-98d4-84a6275466f7",
   "metadata": {
    "jp-MarkdownHeadingCollapsed": true,
    "tags": []
   },
   "source": [
    "## Q.6) use nested while loop to print three diffrent pattern."
   ]
  },
  {
   "cell_type": "code",
   "execution_count": null,
   "id": "cbdd3328-6450-4e34-8eb1-7d0af6720d4a",
   "metadata": {},
   "outputs": [],
   "source": [
    "# pattern 1\n",
    "i = 1\n",
    "while i <= 5:\n",
    "    j = 1\n",
    "    while j <= i:\n",
    "        print(\"*\", end=\"\")\n",
    "        j += 1\n",
    "    print()\n",
    "    i += 1\n"
   ]
  },
  {
   "cell_type": "code",
   "execution_count": null,
   "id": "f4fd82de-6729-42d8-b31c-9a446058386b",
   "metadata": {},
   "outputs": [],
   "source": [
    "# pattern 2\n",
    "i = 5\n",
    "while i >= 1:\n",
    "    j = 1\n",
    "    while j <= i:\n",
    "        print(\"*\", end=\"\")\n",
    "        j += 1\n",
    "    print()\n",
    "    i -= 1\n"
   ]
  },
  {
   "cell_type": "code",
   "execution_count": null,
   "id": "2c17ca07-7a5f-4736-9858-95cc0ccbe372",
   "metadata": {},
   "outputs": [],
   "source": [
    "# pattern 3\n",
    "i = 1\n",
    "while i <= 5:\n",
    "    j = 1\n",
    "    while j <= 5 - i:\n",
    "        print(\" \", end=\"\")\n",
    "        j += 1\n",
    "    k = 1\n",
    "    while k <= 2 * i - 1:\n",
    "        print(\"*\", end=\"\")\n",
    "        k += 1\n",
    "    print()\n",
    "    i += 1\n"
   ]
  },
  {
   "cell_type": "markdown",
   "id": "2589c6ac-07a5-448b-ad81-124f1babc174",
   "metadata": {
    "jp-MarkdownHeadingCollapsed": true,
    "tags": []
   },
   "source": [
    "## Q.7) reverse the while loop to display number from 10 to 0"
   ]
  },
  {
   "cell_type": "code",
   "execution_count": null,
   "id": "07e5c2a4-fd8c-47a4-a61b-f763360698f4",
   "metadata": {},
   "outputs": [],
   "source": [
    "num = 10\n",
    "\n",
    "while num >= 0:\n",
    "    print(num)\n",
    "    num -= 1\n"
   ]
  }
 ],
 "metadata": {
  "kernelspec": {
   "display_name": "Python 3 (ipykernel)",
   "language": "python",
   "name": "python3"
  },
  "language_info": {
   "codemirror_mode": {
    "name": "ipython",
    "version": 3
   },
   "file_extension": ".py",
   "mimetype": "text/x-python",
   "name": "python",
   "nbconvert_exporter": "python",
   "pygments_lexer": "ipython3",
   "version": "3.10.8"
  }
 },
 "nbformat": 4,
 "nbformat_minor": 5
}
