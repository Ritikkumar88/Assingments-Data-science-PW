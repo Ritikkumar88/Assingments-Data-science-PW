{
 "cells": [
  {
   "cell_type": "markdown",
   "id": "04c6ed0a-80fb-4416-bad3-9f5c759ae650",
   "metadata": {
    "jp-MarkdownHeadingCollapsed": true,
    "tags": []
   },
   "source": [
    "### Q.1) What are the characteristics of the tuples? Is tuple immutable?"
   ]
  },
  {
   "cell_type": "markdown",
   "id": "b9b0a8ad-900f-4874-a7af-46b0809bad27",
   "metadata": {},
   "source": [
    "Tuple is an ordered, immutable sequence of elements. Some of the key characteristics of tuples include:\n",
    "\n",
    "Tuples are ordered: The order of elements in a tuple is preserved and each element can be accessed using its index.\n",
    "\n",
    "Tuples are immutable: Once a tuple is created, it cannot be modified. This means that you cannot add, remove, or modify elements of a tuple.\n",
    "\n",
    "Tuples can contain different data types: Tuples can contain elements of different data types, including strings, integers, and other tuples.\n",
    "\n",
    "Tuples can be nested: Tuples can be nested within other tuples, allowing for the creation of complex data structures.\n",
    "\n",
    "Tuples are hashable: Tuples can be used as keys in dictionaries and elements in sets because they are hashable, meaning that their contents cannot change.\n",
    "\n",
    "yes, tuples are immutable in Python. Once created, the elements of a tuple cannot be modified."
   ]
  },
  {
   "cell_type": "markdown",
   "id": "ed01f0eb-4c1e-4250-999b-386a6fcdbc8d",
   "metadata": {
    "jp-MarkdownHeadingCollapsed": true,
    "tags": []
   },
   "source": [
    "### Q.2) What are the two tuple methods in python? Give an example of each method. Give a reason why tuples have only two in-built methods as compared to Lists.\n",
    "\n"
   ]
  },
  {
   "cell_type": "code",
   "execution_count": 4,
   "id": "ac114335-6dce-4fda-81d0-97cc44c93fa2",
   "metadata": {},
   "outputs": [
    {
     "data": {
      "text/plain": [
       "(1, 2, 3, 4, 5, 6, 7)"
      ]
     },
     "execution_count": 4,
     "metadata": {},
     "output_type": "execute_result"
    }
   ],
   "source": [
    "t1 = (1,2,3,4,5,6,7)\n",
    "t1"
   ]
  },
  {
   "cell_type": "code",
   "execution_count": 8,
   "id": "1d24e6ee-5cb4-4563-af77-155727cb503f",
   "metadata": {},
   "outputs": [
    {
     "data": {
      "text/plain": [
       "1"
      ]
     },
     "execution_count": 8,
     "metadata": {},
     "output_type": "execute_result"
    }
   ],
   "source": [
    "t1.count(5)\n",
    "\n",
    "## in this method t1.count () the tuple is counting how many charecter is actually present in the tuple as in given argument for eg. here 5 is only present one's thsts why output is 1;;"
   ]
  },
  {
   "cell_type": "code",
   "execution_count": 10,
   "id": "c0653b7c-e090-421d-8f99-41119d73cbcb",
   "metadata": {},
   "outputs": [
    {
     "data": {
      "text/plain": [
       "4"
      ]
     },
     "execution_count": 10,
     "metadata": {},
     "output_type": "execute_result"
    }
   ],
   "source": [
    "t1.index(5)\n",
    "## here t1.index(5) this function or method is actually giving the index of the given argument as we can see in eg, 4 is the index of 5;"
   ]
  },
  {
   "cell_type": "markdown",
   "id": "6371324e-da6d-4094-a6a3-fa4ecdb4e2c0",
   "metadata": {},
   "source": [
    "The reason why tuples have only two in-built methods as compared to lists is because tuples are designed to be immutable, meaning that their contents cannot be changed. The in-built methods for tuples are therefore focused on accessing and manipulating the existing contents of a tuple without changing them. On the other hand, lists are designed to be mutable, meaning that their contents can be changed. As a result, lists have more in-built methods that are focused on adding, removing, and modifying elements within the list."
   ]
  },
  {
   "cell_type": "markdown",
   "id": "a1ee64d2-e973-4bdb-a6b2-f8e883189ca7",
   "metadata": {
    "jp-MarkdownHeadingCollapsed": true,
    "tags": []
   },
   "source": [
    "### Q.3) Which collection datatypes in python do not allow duplicate items? Write a code using a set to remove duplicates from the given list?"
   ]
  },
  {
   "cell_type": "code",
   "execution_count": 13,
   "id": "bad40221-a0ba-4185-a967-9b4ef00f968b",
   "metadata": {},
   "outputs": [],
   "source": [
    "## example of set;\n",
    "\n",
    "set1 = {1,2,5,5,4,1,2,3,3,3,3,5,99,8,4}"
   ]
  },
  {
   "cell_type": "code",
   "execution_count": 12,
   "id": "73aa9495-f770-43b7-955d-d41473ded091",
   "metadata": {},
   "outputs": [
    {
     "data": {
      "text/plain": [
       "{1, 2, 3, 4, 5, 8, 99}"
      ]
     },
     "execution_count": 12,
     "metadata": {},
     "output_type": "execute_result"
    }
   ],
   "source": [
    "set1"
   ]
  },
  {
   "cell_type": "markdown",
   "id": "b4bc3f3b-7eb7-461a-bff2-c8261df19649",
   "metadata": {},
   "source": [
    "as we can see sets do not allow duplicate items. as we ca see in given example that set1 is not reapeating it's elements it just outputing the unique elements of the given set;"
   ]
  },
  {
   "cell_type": "code",
   "execution_count": 14,
   "id": "ecd05efa-4024-489c-a8e6-0398d1051eb5",
   "metadata": {},
   "outputs": [],
   "source": [
    "List = [1, 1, 1, 2, 1, 3, 1, 4, 2, 1, 2, 2, 2, 3, 2, 4, 3, 1, 3, 2, 3, 3, 3, 4, 4, 1, 4, 2, 4, 3, 4, 4]"
   ]
  },
  {
   "cell_type": "code",
   "execution_count": 16,
   "id": "15e8e692-2b88-4d87-9668-c2931f5c23b2",
   "metadata": {},
   "outputs": [
    {
     "data": {
      "text/plain": [
       "[1,\n",
       " 1,\n",
       " 1,\n",
       " 2,\n",
       " 1,\n",
       " 3,\n",
       " 1,\n",
       " 4,\n",
       " 2,\n",
       " 1,\n",
       " 2,\n",
       " 2,\n",
       " 2,\n",
       " 3,\n",
       " 2,\n",
       " 4,\n",
       " 3,\n",
       " 1,\n",
       " 3,\n",
       " 2,\n",
       " 3,\n",
       " 3,\n",
       " 3,\n",
       " 4,\n",
       " 4,\n",
       " 1,\n",
       " 4,\n",
       " 2,\n",
       " 4,\n",
       " 3,\n",
       " 4,\n",
       " 4]"
      ]
     },
     "execution_count": 16,
     "metadata": {},
     "output_type": "execute_result"
    }
   ],
   "source": [
    "List"
   ]
  },
  {
   "cell_type": "code",
   "execution_count": 17,
   "id": "7ab04a3f-eb23-441c-89d2-6164b84d97a4",
   "metadata": {},
   "outputs": [],
   "source": [
    "set2 = set(List)"
   ]
  },
  {
   "cell_type": "code",
   "execution_count": 18,
   "id": "c1f9359d-2cee-4d81-986a-a9abdf310e2d",
   "metadata": {},
   "outputs": [
    {
     "data": {
      "text/plain": [
       "{1, 2, 3, 4}"
      ]
     },
     "execution_count": 18,
     "metadata": {},
     "output_type": "execute_result"
    }
   ],
   "source": [
    "set2"
   ]
  },
  {
   "cell_type": "markdown",
   "id": "7982255c-9378-46c2-9939-68e7dba68142",
   "metadata": {},
   "source": [
    "As we can see that the given list 'List' is converted to a set 'set2' and giving only the unique elements of the list;"
   ]
  },
  {
   "cell_type": "markdown",
   "id": "b62f1c08-197a-4a73-9f7e-5a51f92c0661",
   "metadata": {
    "jp-MarkdownHeadingCollapsed": true,
    "tags": []
   },
   "source": [
    "### Q4. Explain the difference between the union() and update() methods for a set. Give an example of each method."
   ]
  },
  {
   "cell_type": "code",
   "execution_count": 24,
   "id": "31af1437-766f-46d2-8d47-69eac6862ff8",
   "metadata": {},
   "outputs": [],
   "source": [
    "set3 = {2,5,6,3,69,6,9,69,5}\n",
    "set4 = {5,2,9,66,36,5,2,1,4}"
   ]
  },
  {
   "cell_type": "code",
   "execution_count": 25,
   "id": "da3de05b-c3bd-49d1-a6f4-bcd657900d3a",
   "metadata": {},
   "outputs": [
    {
     "data": {
      "text/plain": [
       "({2, 3, 5, 6, 9, 69}, {1, 2, 4, 5, 9, 36, 66})"
      ]
     },
     "execution_count": 25,
     "metadata": {},
     "output_type": "execute_result"
    }
   ],
   "source": [
    "set3,set4"
   ]
  },
  {
   "cell_type": "code",
   "execution_count": 33,
   "id": "a801445f-3d95-4cac-9bab-6f38cb57b467",
   "metadata": {},
   "outputs": [],
   "source": [
    "set5=set3.union(set4)"
   ]
  },
  {
   "cell_type": "code",
   "execution_count": 35,
   "id": "d37973fa-2557-40a4-80fc-d00717b86e1d",
   "metadata": {},
   "outputs": [
    {
     "data": {
      "text/plain": [
       "{1, 2, 3, 4, 5, 6, 9, 36, 66, 69}"
      ]
     },
     "execution_count": 35,
     "metadata": {},
     "output_type": "execute_result"
    }
   ],
   "source": [
    "set5 ## set5 is giving union of set3 and set3"
   ]
  },
  {
   "cell_type": "code",
   "execution_count": 36,
   "id": "faf0155a-e9fa-4d13-aa74-eccd36740c55",
   "metadata": {},
   "outputs": [
    {
     "data": {
      "text/plain": [
       "{2, 3, 5, 6, 9, 69}"
      ]
     },
     "execution_count": 36,
     "metadata": {},
     "output_type": "execute_result"
    }
   ],
   "source": [
    "set3 ## here set3 is {2, 3, 5, 6, 9, 69}"
   ]
  },
  {
   "cell_type": "code",
   "execution_count": 37,
   "id": "a932a856-cc13-4c1f-9fce-f9be6826a992",
   "metadata": {},
   "outputs": [],
   "source": [
    "set3.update(set4)"
   ]
  },
  {
   "cell_type": "code",
   "execution_count": 40,
   "id": "85c7fd9f-d4ae-4248-a4cf-f6f1512d633d",
   "metadata": {},
   "outputs": [
    {
     "data": {
      "text/plain": [
       "{1, 2, 3, 4, 5, 6, 9, 36, 66, 69}"
      ]
     },
     "execution_count": 40,
     "metadata": {},
     "output_type": "execute_result"
    }
   ],
   "source": [
    "set3 ## after doing set3.update(set4) the set 3 is updated as the union of set3 and set4 which is {1, 2, 3, 4, 5, 6, 9, 36, 66, 69}"
   ]
  },
  {
   "cell_type": "markdown",
   "id": "090eb80d-7ba2-45c0-b10f-41174e02491e",
   "metadata": {},
   "source": [
    "So, The key difference between these two methods is that union() returns a new set that contains all the unique elements from both sets, without modifying the original sets. On the other hand, update() adds all the unique elements from one set to another set, modifying the original set in place."
   ]
  },
  {
   "cell_type": "markdown",
   "id": "98fc3333-33cf-4306-8ce5-335e4d08b739",
   "metadata": {
    "jp-MarkdownHeadingCollapsed": true,
    "tags": []
   },
   "source": [
    "### Q.5) What is a dictionary? Give an example. Also, state whether a dictionary is ordered or unordered."
   ]
  },
  {
   "cell_type": "markdown",
   "id": "2348e7da-0258-4cdb-8613-df4f883a068e",
   "metadata": {},
   "source": [
    "A dictionary is a collection data type that stores data in key-value pairs. Each key in the dictionary must be unique and is used to access its corresponding value."
   ]
  },
  {
   "cell_type": "code",
   "execution_count": 47,
   "id": "75d9f9ea-a21f-447d-a396-35e5f135d4fe",
   "metadata": {},
   "outputs": [],
   "source": [
    "## Example\n",
    "\n",
    "dics1 = {\"Name\" : \"Ritik\",\n",
    "        \"class\" : \"2nd year\",\n",
    "        \"roll No\" : 20212730\n",
    "        }"
   ]
  },
  {
   "cell_type": "code",
   "execution_count": 46,
   "id": "c31cbecb-1850-4f80-8c62-5a5c18427663",
   "metadata": {},
   "outputs": [
    {
     "data": {
      "text/plain": [
       "{'Name': 'Ritik', 'class': '2nd year', 'roll No': 20212730}"
      ]
     },
     "execution_count": 46,
     "metadata": {},
     "output_type": "execute_result"
    }
   ],
   "source": [
    "dics1"
   ]
  },
  {
   "cell_type": "markdown",
   "id": "d8d85788-6771-470b-9e60-58215cff0c33",
   "metadata": {},
   "source": [
    "dictionaries are unordered. "
   ]
  },
  {
   "cell_type": "markdown",
   "id": "ccd99c5a-e37f-4b3c-ae83-c85b6bfbb211",
   "metadata": {
    "jp-MarkdownHeadingCollapsed": true,
    "tags": []
   },
   "source": [
    "## Q.6) Can we create a nested dictionary? If so, please give an example by creating a simple one-level nested dictionary."
   ]
  },
  {
   "cell_type": "code",
   "execution_count": 53,
   "id": "b8c49f49-1796-48d6-b8eb-811793a4d8b5",
   "metadata": {},
   "outputs": [],
   "source": [
    "## Yes, we can create a neasted dicstionery;\n",
    "\n",
    "## eg. of nested dicsionery we take the 'value as the another dicstionery'\n",
    "\n",
    "d = {'person1':{\"name\":\"Ritik\", \"Roll no.\" : 20212730 , \"course\" : \"computer science\"},'person2':{\"game\":\"cricket\" , \"nationality\":\"Indian\"}}"
   ]
  },
  {
   "cell_type": "code",
   "execution_count": 52,
   "id": "bcd96362-e950-4042-ba55-bec2fb9e1753",
   "metadata": {},
   "outputs": [
    {
     "data": {
      "text/plain": [
       "{'person1': {'name': 'Ritik',\n",
       "  'Roll no.': 20212730,\n",
       "  'course': 'computer science'},\n",
       " 'person2': {'game': 'cricket', 'nationality': 'Indian'}}"
      ]
     },
     "execution_count": 52,
     "metadata": {},
     "output_type": "execute_result"
    }
   ],
   "source": [
    "d"
   ]
  },
  {
   "cell_type": "markdown",
   "id": "e7350c73-59f4-4ee0-aec5-c5142f43bbc6",
   "metadata": {
    "jp-MarkdownHeadingCollapsed": true,
    "tags": []
   },
   "source": [
    "## Q.7) Using setdefault() method, create key named topics in the given dictionary and also add the value of the key as this list ['Python', 'Machine Learning’, 'Deep Learning']"
   ]
  },
  {
   "cell_type": "code",
   "execution_count": 60,
   "id": "9c42dda1-a2bd-4d1a-8d16-b8923d55b6e0",
   "metadata": {},
   "outputs": [],
   "source": [
    "dict1 = {'language' : 'Python', 'course': 'Data Science Masters'}"
   ]
  },
  {
   "cell_type": "code",
   "execution_count": 61,
   "id": "47b4f806-4f6d-4361-8d4f-12c4954582ce",
   "metadata": {},
   "outputs": [
    {
     "data": {
      "text/plain": [
       "{'language': 'Python', 'course': 'Data Science Masters'}"
      ]
     },
     "execution_count": 61,
     "metadata": {},
     "output_type": "execute_result"
    }
   ],
   "source": [
    "dict1"
   ]
  },
  {
   "cell_type": "code",
   "execution_count": 62,
   "id": "cbdba648-d47c-47f2-b0a9-5981d7ed2612",
   "metadata": {},
   "outputs": [
    {
     "data": {
      "text/plain": [
       "['Python', 'Machin Learning', 'Deep learning']"
      ]
     },
     "execution_count": 62,
     "metadata": {},
     "output_type": "execute_result"
    }
   ],
   "source": [
    "dict1.setdefault(\"topics\" , ['Python', 'Machin Learning' , 'Deep learning'])"
   ]
  },
  {
   "cell_type": "code",
   "execution_count": 63,
   "id": "a9dccd82-381e-4e35-b17e-2ca9c4da1e88",
   "metadata": {},
   "outputs": [
    {
     "data": {
      "text/plain": [
       "{'language': 'Python',\n",
       " 'course': 'Data Science Masters',\n",
       " 'topics': ['Python', 'Machin Learning', 'Deep learning']}"
      ]
     },
     "execution_count": 63,
     "metadata": {},
     "output_type": "execute_result"
    }
   ],
   "source": [
    "dict1"
   ]
  },
  {
   "cell_type": "markdown",
   "id": "4e0b2e34-a782-4492-8bb3-72abfd4e2a45",
   "metadata": {
    "jp-MarkdownHeadingCollapsed": true,
    "tags": []
   },
   "source": [
    "## Q.8) What are the three view objects in dictionaries? Use the three in-built methods in python to display these three view objects for the given dictionary."
   ]
  },
  {
   "cell_type": "code",
   "execution_count": 65,
   "id": "74414039-531d-4502-ad30-2a2ad0c580bd",
   "metadata": {},
   "outputs": [],
   "source": [
    "dict2 = {'Sport': 'Cricket' , 'Teams': ['India', 'Australia', 'England', 'South Africa', 'Sri Lanka', 'New Zealand']}"
   ]
  },
  {
   "cell_type": "code",
   "execution_count": 68,
   "id": "b780e5d3-53c6-422c-98a1-d20f7b7b50e3",
   "metadata": {},
   "outputs": [
    {
     "data": {
      "text/plain": [
       "{'Sport': 'Cricket',\n",
       " 'Teams': ['India',\n",
       "  'Australia',\n",
       "  'England',\n",
       "  'South Africa',\n",
       "  'Sri Lanka',\n",
       "  'New Zealand']}"
      ]
     },
     "execution_count": 68,
     "metadata": {},
     "output_type": "execute_result"
    }
   ],
   "source": [
    "dict2"
   ]
  },
  {
   "cell_type": "code",
   "execution_count": 74,
   "id": "d51ea5a2-d23f-4f9c-ab38-789efd622d3e",
   "metadata": {},
   "outputs": [
    {
     "data": {
      "text/plain": [
       "dict_keys(['Sport', 'Teams'])"
      ]
     },
     "execution_count": 74,
     "metadata": {},
     "output_type": "execute_result"
    }
   ],
   "source": [
    "## 1 keys() --> this method will print all the keys of the given disctionery;\n",
    "\n",
    "dict2.keys()"
   ]
  },
  {
   "cell_type": "code",
   "execution_count": 75,
   "id": "67f910c7-7030-486b-92cb-050b7df6e2bd",
   "metadata": {},
   "outputs": [
    {
     "data": {
      "text/plain": [
       "dict_values(['Cricket', ['India', 'Australia', 'England', 'South Africa', 'Sri Lanka', 'New Zealand']])"
      ]
     },
     "execution_count": 75,
     "metadata": {},
     "output_type": "execute_result"
    }
   ],
   "source": [
    "## 2 values() --> this method will print all the values of the given disctionery;\n",
    "\n",
    "dict2.values()"
   ]
  },
  {
   "cell_type": "code",
   "execution_count": 76,
   "id": "7ed22e64-cb20-4bf7-8d40-4e870635c97e",
   "metadata": {},
   "outputs": [
    {
     "data": {
      "text/plain": [
       "dict_items([('Sport', 'Cricket'), ('Teams', ['India', 'Australia', 'England', 'South Africa', 'Sri Lanka', 'New Zealand'])])"
      ]
     },
     "execution_count": 76,
     "metadata": {},
     "output_type": "execute_result"
    }
   ],
   "source": [
    "## 3 items() --> this method will print all the item of the given disctionery;\n",
    "\n",
    "dict2.items()"
   ]
  },
  {
   "cell_type": "code",
   "execution_count": null,
   "id": "dfbc66ca-530c-4b51-955b-6f47a4eb5b93",
   "metadata": {},
   "outputs": [],
   "source": []
  }
 ],
 "metadata": {
  "kernelspec": {
   "display_name": "Python 3 (ipykernel)",
   "language": "python",
   "name": "python3"
  },
  "language_info": {
   "codemirror_mode": {
    "name": "ipython",
    "version": 3
   },
   "file_extension": ".py",
   "mimetype": "text/x-python",
   "name": "python",
   "nbconvert_exporter": "python",
   "pygments_lexer": "ipython3",
   "version": "3.10.8"
  }
 },
 "nbformat": 4,
 "nbformat_minor": 5
}
