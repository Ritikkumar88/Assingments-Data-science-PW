{
 "cells": [
  {
   "cell_type": "markdown",
   "id": "7d119c7e-6607-49b1-96b3-0df09451ebb0",
   "metadata": {
    "tags": []
   },
   "source": [
    "## Q.1) Create a python program to sort the given list of tuples based on integer value using a lambda function.\n",
    "\n",
    "[('Sachin Tendulkar', 34357), ('Ricky Ponting', 27483), ('Jack Kallis', 25534), ('Virat Kohli', 24936)]"
   ]
  },
  {
   "cell_type": "code",
   "execution_count": 1,
   "id": "9353106b-70bd-4943-996e-060b91c1204a",
   "metadata": {},
   "outputs": [],
   "source": [
    "list1 = [('Sachin Tendulkar', 34357), ('Ricky Ponting', 27483), ('Jack Kallis', 25534), ('Virat Kohli', 24936)]"
   ]
  },
  {
   "cell_type": "code",
   "execution_count": 3,
   "id": "f7128f47-0494-42f4-9844-fd9786b82004",
   "metadata": {},
   "outputs": [
    {
     "data": {
      "text/plain": [
       "[('Sachin Tendulkar', 34357),\n",
       " ('Ricky Ponting', 27483),\n",
       " ('Jack Kallis', 25534),\n",
       " ('Virat Kohli', 24936)]"
      ]
     },
     "execution_count": 3,
     "metadata": {},
     "output_type": "execute_result"
    }
   ],
   "source": [
    "list1"
   ]
  },
  {
   "cell_type": "code",
   "execution_count": 5,
   "id": "a959079e-848c-44b8-b7aa-cd7491b36adc",
   "metadata": {},
   "outputs": [
    {
     "name": "stdout",
     "output_type": "stream",
     "text": [
      "[('Jack Kallis', 25534), ('Ricky Ponting', 27483), ('Sachin Tendulkar', 34357), ('Virat Kohli', 24936)]\n"
     ]
    }
   ],
   "source": [
    "list1.sort(key = lambda x:x[0])\n",
    "print(list1)"
   ]
  },
  {
   "cell_type": "markdown",
   "id": "550a8793-a6e7-445a-9101-b10a6852da6e",
   "metadata": {},
   "source": [
    "## Q.2) Write a Python Program to find the squares of all the numbers in the given list of integers using lambda and map functions.\n",
    "[1, 2, 3, 4, 5, 6, 7, 8, 9, 10]"
   ]
  },
  {
   "cell_type": "code",
   "execution_count": 15,
   "id": "b429e125-99a5-4aa7-8b96-0944754b9b8c",
   "metadata": {},
   "outputs": [],
   "source": [
    "def sqr(x):\n",
    "    return x**2\n",
    "## in map we have to define a function first and then we have to call it with a given list, etc;"
   ]
  },
  {
   "cell_type": "code",
   "execution_count": 7,
   "id": "64fe39e9-4aa0-4312-b047-92b399feca3f",
   "metadata": {},
   "outputs": [],
   "source": [
    "l = [1, 2, 3, 4, 5, 6, 7, 8, 9, 10]"
   ]
  },
  {
   "cell_type": "code",
   "execution_count": 13,
   "id": "dacd6959-31e8-48d9-9398-38823276688b",
   "metadata": {},
   "outputs": [],
   "source": [
    "new_l = list(map(sqr,l))"
   ]
  },
  {
   "cell_type": "code",
   "execution_count": 14,
   "id": "59702921-f1f2-40a8-a448-fe9afa7b828b",
   "metadata": {},
   "outputs": [
    {
     "data": {
      "text/plain": [
       "[1, 4, 9, 16, 25, 36, 49, 64, 81, 100]"
      ]
     },
     "execution_count": 14,
     "metadata": {},
     "output_type": "execute_result"
    }
   ],
   "source": [
    "new_l"
   ]
  },
  {
   "cell_type": "markdown",
   "id": "05e84210-d9b5-4a65-bd48-cb6307cd924a",
   "metadata": {
    "tags": []
   },
   "source": [
    "## Q.3) Write a python program to convert the given list of integers into a tuple of strings. Use map and lambda functions\n",
    "Given String: [1, 2, 3, 4, 5, 6, 7, 8, 9, 10]    ;; \n",
    "Expected output: ('1', '2', '3', '4', '5', '6', '7', '8', '9', '10')"
   ]
  },
  {
   "cell_type": "code",
   "execution_count": 16,
   "id": "0b099ae3-c5c8-48f3-8023-9176b7e02cc6",
   "metadata": {},
   "outputs": [],
   "source": [
    "lst = [1, 2, 3, 4, 5, 6, 7, 8, 9, 10] "
   ]
  },
  {
   "cell_type": "code",
   "execution_count": 17,
   "id": "7b72be1e-afa2-4a87-81c2-5eb1c321a5a2",
   "metadata": {},
   "outputs": [],
   "source": [
    "tuple_str = tuple(map(lambda x : str(x),lst))"
   ]
  },
  {
   "cell_type": "code",
   "execution_count": 18,
   "id": "ed2405ff-db8f-40a0-b32d-7fa2a37ca675",
   "metadata": {},
   "outputs": [
    {
     "data": {
      "text/plain": [
       "('1', '2', '3', '4', '5', '6', '7', '8', '9', '10')"
      ]
     },
     "execution_count": 18,
     "metadata": {},
     "output_type": "execute_result"
    }
   ],
   "source": [
    "tuple_str"
   ]
  },
  {
   "cell_type": "markdown",
   "id": "b4dd4a87-6239-4a50-96e9-80c7606dce34",
   "metadata": {},
   "source": [
    "## Q.4) Write a python program using reduce function to compute the product of a list containing numbers from 1 to 25."
   ]
  },
  {
   "cell_type": "code",
   "execution_count": 26,
   "id": "7b7480e1-d80b-4a9e-8b79-b8818a914b92",
   "metadata": {},
   "outputs": [],
   "source": [
    "from functools import reduce"
   ]
  },
  {
   "cell_type": "code",
   "execution_count": 27,
   "id": "abd92f38-5707-4c68-a18e-f15504a4c361",
   "metadata": {},
   "outputs": [],
   "source": [
    "lst = []\n",
    "for i in range (1,26):\n",
    "    lst.append(i)"
   ]
  },
  {
   "cell_type": "code",
   "execution_count": 28,
   "id": "30ca6b05-1b1c-4bc4-89b5-5c80c87f1cc9",
   "metadata": {},
   "outputs": [
    {
     "data": {
      "text/plain": [
       "[1,\n",
       " 2,\n",
       " 3,\n",
       " 4,\n",
       " 5,\n",
       " 6,\n",
       " 7,\n",
       " 8,\n",
       " 9,\n",
       " 10,\n",
       " 11,\n",
       " 12,\n",
       " 13,\n",
       " 14,\n",
       " 15,\n",
       " 16,\n",
       " 17,\n",
       " 18,\n",
       " 19,\n",
       " 20,\n",
       " 21,\n",
       " 22,\n",
       " 23,\n",
       " 24,\n",
       " 25]"
      ]
     },
     "execution_count": 28,
     "metadata": {},
     "output_type": "execute_result"
    }
   ],
   "source": [
    "lst"
   ]
  },
  {
   "cell_type": "code",
   "execution_count": 29,
   "id": "53b1fbbc-bbdd-49cd-a848-d1cd93779cb4",
   "metadata": {},
   "outputs": [
    {
     "data": {
      "text/plain": [
       "15511210043330985984000000"
      ]
     },
     "execution_count": 29,
     "metadata": {},
     "output_type": "execute_result"
    }
   ],
   "source": [
    "reduce(lambda x,y : x*y,lst)"
   ]
  },
  {
   "cell_type": "markdown",
   "id": "0685a9da-7e56-4f3a-83fa-bac00bc9714c",
   "metadata": {},
   "source": [
    "## Q5. Write a python program to filter the numbers in a given list that are divisible by 2 and 3 using the filter function.\n",
    "[2, 3, 6, 9, 27, 60, 90, 120, 55, 46]"
   ]
  },
  {
   "cell_type": "code",
   "execution_count": 30,
   "id": "bb2c97b9-3e2b-4f25-9a5b-ae5de2034cb5",
   "metadata": {},
   "outputs": [],
   "source": [
    "lst1 = [2, 3, 6, 9, 27, 60, 90, 120, 55, 46]"
   ]
  },
  {
   "cell_type": "code",
   "execution_count": 31,
   "id": "44d334e0-1312-4364-b374-8dbd0fc9093d",
   "metadata": {},
   "outputs": [
    {
     "data": {
      "text/plain": [
       "[2, 3, 6, 9, 27, 60, 90, 120, 55, 46]"
      ]
     },
     "execution_count": 31,
     "metadata": {},
     "output_type": "execute_result"
    }
   ],
   "source": [
    "lst1"
   ]
  },
  {
   "cell_type": "code",
   "execution_count": 36,
   "id": "7674b68e-7b32-4f02-9c8d-aed27d3ecf1b",
   "metadata": {},
   "outputs": [],
   "source": [
    "lst1_final = list(filter(lambda x : x%2==0 and x%3==0, lst1))"
   ]
  },
  {
   "cell_type": "code",
   "execution_count": 37,
   "id": "ded0c650-dad9-409b-aab3-fca5c12b21fc",
   "metadata": {},
   "outputs": [
    {
     "data": {
      "text/plain": [
       "[6, 60, 90, 120]"
      ]
     },
     "execution_count": 37,
     "metadata": {},
     "output_type": "execute_result"
    }
   ],
   "source": [
    "lst1_final"
   ]
  },
  {
   "cell_type": "markdown",
   "id": "ad94e98d-f3a6-4d5b-a6e9-33a755d06020",
   "metadata": {},
   "source": [
    "## Q6. Write a python program to find palindromes in the given list of strings using lambda and filter function.\n",
    "['python', 'php', 'aba', 'radar', 'level']"
   ]
  },
  {
   "cell_type": "code",
   "execution_count": 38,
   "id": "ceb76988-7e48-4de7-8e56-70bdaac11ab1",
   "metadata": {},
   "outputs": [],
   "source": [
    "lst2 = ['python', 'php', 'aba', 'radar', 'level']"
   ]
  },
  {
   "cell_type": "code",
   "execution_count": 39,
   "id": "e60bd0cc-5eb6-4df8-a804-388aafc4848e",
   "metadata": {},
   "outputs": [],
   "source": [
    "lst2_final = list(filter(lambda x : x==x[::-1],lst2))"
   ]
  },
  {
   "cell_type": "code",
   "execution_count": 40,
   "id": "db7f0f5f-64d9-410d-a22c-9575363bd490",
   "metadata": {},
   "outputs": [
    {
     "data": {
      "text/plain": [
       "['php', 'aba', 'radar', 'level']"
      ]
     },
     "execution_count": 40,
     "metadata": {},
     "output_type": "execute_result"
    }
   ],
   "source": [
    "lst2_final"
   ]
  },
  {
   "cell_type": "code",
   "execution_count": null,
   "id": "c5e47753-7ed5-4ca5-bf34-9f4219515c6e",
   "metadata": {},
   "outputs": [],
   "source": []
  },
  {
   "cell_type": "code",
   "execution_count": null,
   "id": "b7c811d2-904a-4cb4-bbd1-35d052d33251",
   "metadata": {},
   "outputs": [],
   "source": []
  }
 ],
 "metadata": {
  "kernelspec": {
   "display_name": "Python 3 (ipykernel)",
   "language": "python",
   "name": "python3"
  },
  "language_info": {
   "codemirror_mode": {
    "name": "ipython",
    "version": 3
   },
   "file_extension": ".py",
   "mimetype": "text/x-python",
   "name": "python",
   "nbconvert_exporter": "python",
   "pygments_lexer": "ipython3",
   "version": "3.10.8"
  }
 },
 "nbformat": 4,
 "nbformat_minor": 5
}
