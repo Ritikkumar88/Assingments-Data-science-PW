{
 "cells": [
  {
   "cell_type": "markdown",
   "id": "07685ba2-79ce-4d3d-838b-05b3bfbbea98",
   "metadata": {
    "jp-MarkdownHeadingCollapsed": true,
    "tags": []
   },
   "source": [
    "## Q1. What is Flask Framework? What are the advantages of Flask Framework?"
   ]
  },
  {
   "cell_type": "markdown",
   "id": "61bec62b-e916-420c-9a7f-0761742aa512",
   "metadata": {},
   "source": [
    "Flask is a micro web framework written in Python that is used for web development. It is designed to be lightweight, flexible, and easy to use, making it a popular choice for building web applications and APIs. Some of the key advantages of Flask include:\n",
    "\n",
    "Lightweight: Flask is a micro-framework, which means that it is lightweight and has a small footprint. This makes it easy to install and use, and it is well-suited for small to medium-sized projects.\n",
    "\n",
    "Flexibility: Flask is highly flexible and can be used to build a wide range of web applications, from simple blogs and portfolios to complex e-commerce sites and enterprise-level applications.\n",
    "\n",
    "Extensibility: Flask is highly extensible and provides a variety of features for web development, including URL routing, templating, database integration, and request handling. Additionally, Flask can be easily extended using third-party packages and plugins.\n",
    "\n",
    "Easy to Learn: Flask is easy to learn and use, especially for developers who are already familiar with Python. The syntax is simple and straightforward, and the framework provides clear documentation and examples to help developers get started.\n",
    "\n",
    "Large Community: Flask has a large and active community of developers, which means that there are plenty of resources, tutorials, and support available for developers who are using the framework.\n",
    "\n",
    "Overall, Flask is a highly flexible, lightweight, and easy-to-use web framework that provides a variety of features for web development. It is a popular choice for building web applications and APIs, and it has a large and active community of developers who contribute to its development and support."
   ]
  },
  {
   "cell_type": "markdown",
   "id": "a9e988a9-3f24-4c1b-800c-c43473686730",
   "metadata": {
    "tags": []
   },
   "source": [
    "## Q2. Create a simple Flask application to display ‘Hello World!!’. Attach the screenshot of the output in Jupyter Notebook."
   ]
  },
  {
   "cell_type": "code",
   "execution_count": 4,
   "id": "b2239d1d-26c7-497d-b41d-43b92715ddfe",
   "metadata": {
    "tags": []
   },
   "outputs": [],
   "source": [
    "import IPython.display\n",
    "from IPython.display import Image"
   ]
  },
  {
   "cell_type": "markdown",
   "id": "de88dffd-e283-4562-a3cb-ffa33512857a",
   "metadata": {},
   "source": [
    "### I Am not able to add Images :?????/"
   ]
  },
  {
   "cell_type": "markdown",
   "id": "be916224-a133-48f6-b4a9-257a8f53afad",
   "metadata": {
    "jp-MarkdownHeadingCollapsed": true,
    "tags": []
   },
   "source": [
    "## Q3. What is App routing in Flask? Why do we use app routes?"
   ]
  },
  {
   "cell_type": "markdown",
   "id": "151363f3-e70a-483a-86bc-7b353e50b605",
   "metadata": {},
   "source": [
    "In Flask, an app route is a way to associate a URL with a Python function. The app routes allow you to define the URL endpoints for your web application and map them to specific Python functions that handle the requests sent to those URLs.\n",
    "\n",
    "We use app routes in Flask for several reasons:\n",
    "\n",
    "Routing: App routes provide a way to define the URLs for the different pages and features of your web application, making it easier for users to navigate to the desired page.\n",
    "\n",
    "Handling Requests: When a user accesses a particular URL, Flask can match that URL to a specific function that will handle the request and return the appropriate response.\n",
    "\n",
    "Separation of Concerns: App routes can help separate different parts of your web application's functionality into different functions, improving the organization and maintainability of your code."
   ]
  },
  {
   "cell_type": "markdown",
   "id": "08155933-632f-464b-8aa3-33642b1ec0ed",
   "metadata": {},
   "source": [
    "## Q.4) Create a “/welcome” route to display the welcome message “Welcome to ABC Corporation” and a “/” route to show the following details: Company Name: ABC Corporation Location: India Contact Detail: 999-999-9999"
   ]
  },
  {
   "cell_type": "code",
   "execution_count": null,
   "id": "d62882f7-35c8-4014-956e-ddaba0a7287e",
   "metadata": {},
   "outputs": [],
   "source": []
  },
  {
   "cell_type": "markdown",
   "id": "2cdfad3a-518e-49f7-9ea8-1bd2b79534cf",
   "metadata": {},
   "source": [
    "## Q5. What function is used in Flask for URL Building? Write a Python code to demonstrate the working of the url_for() function."
   ]
  },
  {
   "cell_type": "markdown",
   "id": "86bcd9d4-ce69-402d-b161-605af7ee36a3",
   "metadata": {},
   "source": [
    "In Flask, the url_for() function is used for URL building. It generates a URL to a specific function based on the function name and the arguments provided to it. This function is especially useful when you want to create a link to a specific function within your Flask application, as it ensures that the URL is generated correctly even if the function is moved or renamed.\n",
    "\n",
    "\n",
    "In this example, we define three app routes that handle requests to the root URL (\"/\"), the \"/about\" URL, and the \"/user/<username>\" URL pattern. The user_profile function takes a username argument and returns a message with the username included.\n",
    "\n",
    "We then use the url_for() function to generate URLs for each of these app routes. The function takes the name of the function as its first argument and any additional arguments required by the function as keyword arguments.\n",
    "\n",
    "When the Flask app is run and the url_for() function is called, it generates a URL based on the function name and arguments provided. The generated URLs are printed to the console using the print() function."
   ]
  },
  {
   "cell_type": "markdown",
   "id": "65c49e8a-6753-4dde-b89c-d2787452cccc",
   "metadata": {},
   "source": []
  },
  {
   "cell_type": "code",
   "execution_count": null,
   "id": "e738f8bd-485d-43f5-a5f6-5da6adc9f26d",
   "metadata": {},
   "outputs": [],
   "source": []
  },
  {
   "cell_type": "code",
   "execution_count": null,
   "id": "cbf95213-12cd-419b-b66e-69b901613a82",
   "metadata": {},
   "outputs": [],
   "source": []
  },
  {
   "cell_type": "code",
   "execution_count": null,
   "id": "72049ffe-9086-40fc-b07c-3aa4096caf5d",
   "metadata": {},
   "outputs": [],
   "source": []
  },
  {
   "cell_type": "code",
   "execution_count": null,
   "id": "f1c81886-a9d1-4211-869c-ebe855843850",
   "metadata": {},
   "outputs": [],
   "source": []
  },
  {
   "cell_type": "code",
   "execution_count": null,
   "id": "8a4db096-529b-4a3c-82ff-e58d4cdd2904",
   "metadata": {},
   "outputs": [],
   "source": []
  },
  {
   "cell_type": "code",
   "execution_count": null,
   "id": "835eb4e3-7394-4638-ab15-2408d4460e4f",
   "metadata": {},
   "outputs": [],
   "source": []
  },
  {
   "cell_type": "code",
   "execution_count": null,
   "id": "9fe81cd0-665c-4e21-9bc3-85033bf2af2e",
   "metadata": {},
   "outputs": [],
   "source": []
  },
  {
   "cell_type": "code",
   "execution_count": null,
   "id": "c06ae464-0b7e-4c08-b036-64511c3937f4",
   "metadata": {},
   "outputs": [],
   "source": []
  },
  {
   "cell_type": "code",
   "execution_count": null,
   "id": "de2b1c3f-b305-4d7a-8e3a-d97088fab3ee",
   "metadata": {},
   "outputs": [],
   "source": []
  },
  {
   "cell_type": "code",
   "execution_count": null,
   "id": "c5708be6-2181-45e1-bd57-d973d7c1b743",
   "metadata": {},
   "outputs": [],
   "source": []
  },
  {
   "cell_type": "code",
   "execution_count": null,
   "id": "7467f476-bb62-4d1a-8452-42fe6e67ccae",
   "metadata": {},
   "outputs": [],
   "source": []
  },
  {
   "cell_type": "code",
   "execution_count": null,
   "id": "c4e9cc67-e963-4186-ab05-0f25015fe5b2",
   "metadata": {},
   "outputs": [],
   "source": []
  },
  {
   "cell_type": "code",
   "execution_count": null,
   "id": "3baa5b76-7802-4c51-8aa3-d12a20ef8b96",
   "metadata": {},
   "outputs": [],
   "source": []
  },
  {
   "cell_type": "code",
   "execution_count": null,
   "id": "89cc7ff8-090f-49b3-9659-3fb1d3b4fafa",
   "metadata": {},
   "outputs": [],
   "source": []
  },
  {
   "cell_type": "code",
   "execution_count": null,
   "id": "ea07ae2c-9db3-4f12-9422-84f3730b3abe",
   "metadata": {},
   "outputs": [],
   "source": []
  },
  {
   "cell_type": "code",
   "execution_count": null,
   "id": "be5a591f-d07a-4c03-b3fa-71750b918d92",
   "metadata": {},
   "outputs": [],
   "source": []
  }
 ],
 "metadata": {
  "kernelspec": {
   "display_name": "Python 3 (ipykernel)",
   "language": "python",
   "name": "python3"
  },
  "language_info": {
   "codemirror_mode": {
    "name": "ipython",
    "version": 3
   },
   "file_extension": ".py",
   "mimetype": "text/x-python",
   "name": "python",
   "nbconvert_exporter": "python",
   "pygments_lexer": "ipython3",
   "version": "3.10.8"
  }
 },
 "nbformat": 4,
 "nbformat_minor": 5
}
