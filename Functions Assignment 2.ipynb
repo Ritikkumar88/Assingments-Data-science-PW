{
 "cells": [
  {
   "cell_type": "markdown",
   "id": "fa01557d-cef3-4f27-9a1b-92afed43d093",
   "metadata": {
    "jp-MarkdownHeadingCollapsed": true,
    "tags": []
   },
   "source": [
    "## Q.1) Which keyword is used to create a function? Create a function to return a list of odd numbers in the range of 1 to 25."
   ]
  },
  {
   "cell_type": "code",
   "execution_count": 25,
   "id": "d93139a2-f720-43d8-889b-7aab9c1c2696",
   "metadata": {},
   "outputs": [],
   "source": [
    "# 'def' is the keyword which is used to create a function in python;\n",
    "\n",
    "def odd_numbers():\n",
    "    # create an empty list to store the odd numbers\n",
    "    result = []\n",
    "\n",
    "    # loop through the range of numbers from 1 to 25\n",
    "    for i in range(1, 26):\n",
    "        # check if the number is odd\n",
    "        if i % 2 != 0:\n",
    "            # if the number is odd, add it to the result list\n",
    "            result.append(i)\n",
    "\n",
    "    # return the list of odd numbers\n",
    "    return result\n"
   ]
  },
  {
   "cell_type": "code",
   "execution_count": 23,
   "id": "c4a6d3e8-3ddc-4645-8800-f38a972c7c03",
   "metadata": {},
   "outputs": [
    {
     "name": "stdout",
     "output_type": "stream",
     "text": [
      "[1, 3, 5, 7, 9, 11, 13, 15, 17, 19, 21, 23, 25]\n"
     ]
    }
   ],
   "source": [
    "numbers = odd_numbers()\n",
    "print(numbers)  # output: [1, 3, 5, 7, 9, 11, 13, 15, 17, 19, 21, 23, 25]\n"
   ]
  },
  {
   "cell_type": "markdown",
   "id": "44a24697-d925-4a88-82c1-3e2272cea307",
   "metadata": {
    "jp-MarkdownHeadingCollapsed": true,
    "tags": []
   },
   "source": [
    "## Q2. Why *args and **kwargs is used in some functions? Create a function each for *args and **kwargs to demonstrate their use."
   ]
  },
  {
   "cell_type": "markdown",
   "id": "f9d428d2-b6ff-4bd3-a2d0-a0b10ffffb26",
   "metadata": {},
   "source": [
    "*args and **kwargs are used in functions to pass a variable number of arguments to the function.\n",
    "*args is used to pass a variable number of non-keyword arguments to a function. The * before args allows us to pass any number of arguments to the function. Here's an example function that uses *args to sum a variable number of numbers:\n"
   ]
  },
  {
   "cell_type": "code",
   "execution_count": 27,
   "id": "d7049a9f-c291-4fd3-942e-701b1d8858bb",
   "metadata": {},
   "outputs": [
    {
     "name": "stdout",
     "output_type": "stream",
     "text": [
      "15\n"
     ]
    }
   ],
   "source": [
    "def sum_numbers(*args):\n",
    "    total = 0\n",
    "    for num in args:\n",
    "        total += num\n",
    "    return total\n",
    "\n",
    "result = sum_numbers(1, 2, 3, 4, 5)\n",
    "print(result)  # output: 15\n"
   ]
  },
  {
   "cell_type": "markdown",
   "id": "dece6bf0-cd4a-4400-9dc9-6b9a492df231",
   "metadata": {},
   "source": [
    "**kwargs is used to pass a variable number of keyword arguments to a function. The ** before kwargs allows us to pass any number of keyword arguments to the function. Here's an example function that uses **kwargs to print a list of key-value pairs:"
   ]
  },
  {
   "cell_type": "code",
   "execution_count": 32,
   "id": "93e1844d-d7d6-41bd-aa41-29ed860d9cc3",
   "metadata": {},
   "outputs": [
    {
     "name": "stdout",
     "output_type": "stream",
     "text": [
      "name: John\n",
      "age: 30\n",
      "city: New York\n"
     ]
    }
   ],
   "source": [
    "def print_kwargs(**kwargs):\n",
    "    for key, value in kwargs.items():\n",
    "        print(f\"{key}: {value}\")\n",
    "        \n",
    "print_kwargs(name=\"John\", age=30, city=\"New York\")\n"
   ]
  },
  {
   "cell_type": "markdown",
   "id": "1ece8789-34a7-4767-b59f-dc03d286ed15",
   "metadata": {},
   "source": [
    "## Q.3) What is an iterator in python? Name the method used to initialise the iterator object and the method used for iteration. Use these methods to print the first five elements of the given list [2, 4, 6, 8, 10, 12, 14, 16, 18, 20]."
   ]
  },
  {
   "cell_type": "code",
   "execution_count": 33,
   "id": "22c4d05b-01ce-4fbe-8315-f54100f50edb",
   "metadata": {},
   "outputs": [],
   "source": [
    "## Not solved;"
   ]
  },
  {
   "cell_type": "markdown",
   "id": "0ba347e5-147f-470d-9e77-e81d2810da2e",
   "metadata": {
    "jp-MarkdownHeadingCollapsed": true,
    "tags": []
   },
   "source": [
    "## Q4. What is a generator function in python? Why yield keyword is used? Give an example of a generator function.\n"
   ]
  },
  {
   "cell_type": "markdown",
   "id": "7380a2e5-1553-4544-ab15-f35aada59a8c",
   "metadata": {},
   "source": [
    "A generator function is a special kind of function that can be used to generate a sequence of values. Instead of returning a value, it yields a value. When a generator function is called, it returns a generator object that can be used to iterate over the sequence of values that it generates.\n",
    "\n",
    "The yield keyword is used in generator functions to yield a value to the caller of the function, while suspending the execution of the function. The state of the function is saved, allowing it to be resumed later from where it left off. Each time the yield keyword is encountered, the generator function yields a value to the caller and suspends its execution. When the generator object is iterated over, the generator function resumes its execution from where it left off and continues to generate values until it reaches the end of the sequence.\n",
    "\n",
    "Here's an example of a generator function that generates the Fibonacci sequence:"
   ]
  },
  {
   "cell_type": "code",
   "execution_count": 34,
   "id": "490cb2ed-254f-46c5-a615-3327e6948d9f",
   "metadata": {},
   "outputs": [],
   "source": [
    "def fibonacci():\n",
    "    a, b = 0, 1\n",
    "    while True:\n",
    "        yield a\n",
    "        a, b = b, a + b\n"
   ]
  },
  {
   "cell_type": "markdown",
   "id": "9459619f-28fb-45c1-90b8-aca66e905aad",
   "metadata": {},
   "source": [
    "In this example, the fibonacci() function is a generator function that generates the Fibonacci sequence. It uses a while loop to generate the sequence, and each value is yielded to the caller using the yield keyword. When the generator object is iterated over, the fibonacci() function is executed until it reaches the end of the sequence."
   ]
  },
  {
   "cell_type": "markdown",
   "id": "3054028b-8ea6-4753-ad57-6b76e2d54143",
   "metadata": {
    "jp-MarkdownHeadingCollapsed": true,
    "tags": []
   },
   "source": [
    "## Q5. Create a generator function for prime numbers less than 1000. Use the next() method to print the first 20 prime numbers."
   ]
  },
  {
   "cell_type": "code",
   "execution_count": 40,
   "id": "fade134d-fa09-411d-9021-1cc737acef09",
   "metadata": {},
   "outputs": [],
   "source": [
    "def primes():\n",
    "    yield 2\n",
    "    num = 3\n",
    "    while num < 1000:\n",
    "        for i in range(2, num):\n",
    "            if num % i == 0:\n",
    "                break\n",
    "        else:\n",
    "            yield num\n",
    "        num += 1\n",
    "\n"
   ]
  },
  {
   "cell_type": "code",
   "execution_count": 41,
   "id": "3795f6fb-3540-4194-bf48-7e64396b0956",
   "metadata": {},
   "outputs": [
    {
     "name": "stdout",
     "output_type": "stream",
     "text": [
      "2\n",
      "3\n",
      "5\n",
      "7\n",
      "11\n",
      "13\n",
      "17\n",
      "19\n",
      "23\n",
      "29\n",
      "31\n",
      "37\n",
      "41\n",
      "43\n",
      "47\n",
      "53\n",
      "59\n",
      "61\n",
      "67\n",
      "71\n"
     ]
    }
   ],
   "source": [
    "        \n",
    "        prime_generator = primes()\n",
    "\n",
    "for i in range(20):\n",
    "    print(next(prime_generator))\n"
   ]
  },
  {
   "cell_type": "markdown",
   "id": "70a994ff-b184-4756-9dfb-f30b82044782",
   "metadata": {},
   "source": [
    "In this example, the primes() function is a generator function that generates prime numbers less than 1000. It starts by yielding the first prime number, 2. Then it uses a while loop to generate the rest of the prime numbers. For each number, it checks whether it is divisible by any number from 2 to the number itself (excluding the number itself). If it is divisible by any number, it is not a prime number and the loop continues with the next number. If it is not divisible by any number, it is a prime number and it is yielded to the caller using the yield keyword.\n",
    "\n",
    "To print the first 20 prime numbers, we can use the next() method to get the next prime number from the generator object, and use a for loop to iterate over the first 20 prime numbers. Here's the code:"
   ]
  }
 ],
 "metadata": {
  "kernelspec": {
   "display_name": "Python 3 (ipykernel)",
   "language": "python",
   "name": "python3"
  },
  "language_info": {
   "codemirror_mode": {
    "name": "ipython",
    "version": 3
   },
   "file_extension": ".py",
   "mimetype": "text/x-python",
   "name": "python",
   "nbconvert_exporter": "python",
   "pygments_lexer": "ipython3",
   "version": "3.10.8"
  }
 },
 "nbformat": 4,
 "nbformat_minor": 5
}
