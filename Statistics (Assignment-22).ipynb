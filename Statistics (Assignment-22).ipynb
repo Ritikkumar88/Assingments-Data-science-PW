{
 "cells": [
  {
   "cell_type": "markdown",
   "id": "fc7d373d-95ee-4a64-b115-9945f30cc4ce",
   "metadata": {
    "jp-MarkdownHeadingCollapsed": true,
    "tags": []
   },
   "source": [
    "## Q1. What are the three measures of central tendency?"
   ]
  },
  {
   "cell_type": "markdown",
   "id": "2e852f51-5f3d-4d12-9d11-03ced9038860",
   "metadata": {},
   "source": [
    "1. Mean\n",
    "2. median \n",
    "3. mode"
   ]
  },
  {
   "cell_type": "markdown",
   "id": "0ab588f9-bd6c-4e33-b489-0e64ca4ca63a",
   "metadata": {
    "jp-MarkdownHeadingCollapsed": true,
    "tags": []
   },
   "source": [
    "## Q2. What is the difference between the mean, median, and mode? How are they used to measure the central tendency of a dataset?"
   ]
  },
  {
   "cell_type": "markdown",
   "id": "c06be433-f574-46c7-9e32-dd859ea63b01",
   "metadata": {},
   "source": [
    "The mean, median, and mode are all measures of central tendency used to describe a dataset's typical or central value. However, they are calculated differently and have different characteristics that make them appropriate for different types of data.\n",
    "\n",
    "The mean, also known as the arithmetic mean, is the sum of all values in a dataset divided by the total number of values. It is the most common measure of central tendency and is highly sensitive to outliers. If a dataset has outliers, the mean may not be a representative measure of central tendency. The mean is calculated as:\n",
    "\n",
    "mean = (sum of all values) / (total number of values)\n",
    "\n",
    "The median is the middle value in a dataset when the values are arranged in numerical order. If there is an even number of values, the median is the average of the two middle values. The median is less sensitive to outliers than the mean and is more appropriate for skewed distributions. The median is calculated as:\n",
    "\n",
    "Arrange the data in ascending or descending order\n",
    "Find the middle number\n",
    "If there is an even number of values, find the mean of the two middle numbers\n",
    "The mode is the most common value in a dataset, i.e., the value that appears most frequently. A dataset can have multiple modes, one mode, or no mode at all. The mode is appropriate for nominal or categorical data, such as colors or names. The mode is calculated as:\n",
    "\n",
    "Count the frequency of each value in the dataset\n",
    "The mode is the value with the highest frequency"
   ]
  },
  {
   "cell_type": "markdown",
   "id": "48fd5db3-7192-4a94-b5af-df4bd8912cd6",
   "metadata": {
    "jp-MarkdownHeadingCollapsed": true,
    "tags": []
   },
   "source": [
    "## Q3. Measure the three measures of central tendency for the given height data:\n",
    "[178,177,176,177,178.2,178,175,179,180,175,178.9,176.2,177,172.5,178,176.5]"
   ]
  },
  {
   "cell_type": "code",
   "execution_count": 1,
   "id": "c08267f3-4411-409f-89ec-51f0e952c851",
   "metadata": {},
   "outputs": [],
   "source": [
    "import statistics"
   ]
  },
  {
   "cell_type": "code",
   "execution_count": 2,
   "id": "235a81d0-3194-44a1-9fc0-482236b9e853",
   "metadata": {},
   "outputs": [],
   "source": [
    "height_data = [178,177,176,177,178.2,178,175,179,180,175,178.9,176.2,177,172.5,178,176.5]"
   ]
  },
  {
   "cell_type": "code",
   "execution_count": 11,
   "id": "510e1a6b-4295-4d9e-8418-43bd3e7e81a7",
   "metadata": {},
   "outputs": [
    {
     "data": {
      "text/plain": [
       "177.01875"
      ]
     },
     "execution_count": 11,
     "metadata": {},
     "output_type": "execute_result"
    }
   ],
   "source": [
    "mean_height = statistics.mean(height_data)\n",
    "mean_height"
   ]
  },
  {
   "cell_type": "code",
   "execution_count": 12,
   "id": "d050aa9a-ceca-4ffb-b876-8374c0a8da9d",
   "metadata": {},
   "outputs": [
    {
     "data": {
      "text/plain": [
       "177.0"
      ]
     },
     "execution_count": 12,
     "metadata": {},
     "output_type": "execute_result"
    }
   ],
   "source": [
    "median_height = statistics.median(height_data)\n",
    "median_height\n"
   ]
  },
  {
   "cell_type": "code",
   "execution_count": 13,
   "id": "9de1c538-3443-418f-894c-616d2d6e36f3",
   "metadata": {},
   "outputs": [
    {
     "data": {
      "text/plain": [
       "178"
      ]
     },
     "execution_count": 13,
     "metadata": {},
     "output_type": "execute_result"
    }
   ],
   "source": [
    "mode_height = statistics.mode(height_data)\n",
    "mode_height"
   ]
  },
  {
   "cell_type": "markdown",
   "id": "a218b025-a89b-4289-b5e7-af14224b6ca6",
   "metadata": {
    "jp-MarkdownHeadingCollapsed": true,
    "tags": []
   },
   "source": [
    "## Q4. Find the standard deviation for the given data:\n",
    "[178,177,176,177,178.2,178,175,179,180,175,178.9,176.2,177,172.5,178,176.5]"
   ]
  },
  {
   "cell_type": "code",
   "execution_count": 14,
   "id": "80146376-013f-411e-a563-8673759b7b60",
   "metadata": {},
   "outputs": [],
   "source": [
    "data = [178,177,176,177,178.2,178,175,179,180,175,178.9,176.2,177,172.5,178,176.5]"
   ]
  },
  {
   "cell_type": "code",
   "execution_count": 15,
   "id": "2efc786d-1e4f-49d1-a2cb-46f0e8f77297",
   "metadata": {},
   "outputs": [],
   "source": [
    "std_dev = statistics.stdev(data)"
   ]
  },
  {
   "cell_type": "code",
   "execution_count": 16,
   "id": "067601a7-f288-499e-a5bc-39f6ce24b192",
   "metadata": {},
   "outputs": [
    {
     "data": {
      "text/plain": [
       "1.8472389305844188"
      ]
     },
     "execution_count": 16,
     "metadata": {},
     "output_type": "execute_result"
    }
   ],
   "source": [
    "std_dev"
   ]
  },
  {
   "cell_type": "markdown",
   "id": "14ccf7e2-8221-4762-abca-20a528b364bd",
   "metadata": {
    "jp-MarkdownHeadingCollapsed": true,
    "tags": []
   },
   "source": [
    "## Q5. How are measures of dispersion such as range, variance, and standard deviation used to describe the spread of a dataset? Provide an example."
   ]
  },
  {
   "cell_type": "markdown",
   "id": "f5301a54-2b08-4e59-8389-34f8d3138847",
   "metadata": {},
   "source": [
    "Measures of dispersion such as range, variance, and standard deviation are used to describe the spread or variability of a dataset. These measures provide information about how much the data points in a dataset differ from each other.\n",
    "\n",
    "The range is the simplest measure of dispersion, which is the difference between the maximum and minimum values in a dataset. It gives an idea about the spread of the data, but it is not very informative as it does not consider the values between the minimum and maximum.\n",
    "\n",
    "The variance and standard deviation are more informative measures of dispersion. The variance is the average of the squared differences of each value from the mean, while the standard deviation is the square root of the variance. The standard deviation is a more commonly used measure of dispersion as it has the same units as the data, while the variance has squared units.\n",
    "\n",
    "For example, suppose we have the following dataset of exam scores:\n",
    "\n",
    "80, 85, 90, 92, 95\n",
    "\n",
    "The range of the dataset is 15, which tells us that the highest and lowest scores differ by 15 points. However, this does not give us much information about the spread of the scores.\n",
    "\n",
    "The variance of the dataset can be calculated as:\n",
    "\n",
    "variance = [(80-88)^2 + (85-88)^2 + (90-88)^2 + (92-88)^2 + (95-88)^2] / 5\n",
    "variance = 31.2\n",
    "\n",
    "The standard deviation of the dataset can be calculated as:\n",
    "\n",
    "standard deviation = sqrt(variance)\n",
    "standard deviation = sqrt(31.2)\n",
    "standard deviation = 5.58\n",
    "\n",
    "The standard deviation tells us that the scores are spread out by about 5.58 points on average, which gives us a more informative measure of the variability in the dataset than the range."
   ]
  },
  {
   "cell_type": "markdown",
   "id": "e6c7b2bd-53c8-41b6-ab60-c537d50e99a4",
   "metadata": {
    "jp-MarkdownHeadingCollapsed": true,
    "tags": []
   },
   "source": [
    "## Q6. What is a Venn diagram?"
   ]
  },
  {
   "cell_type": "markdown",
   "id": "3be93b5d-e431-4b95-8fff-c48dd68e80a9",
   "metadata": {},
   "source": [
    "A Venn diagram is a visual representation of sets, showing the relationships between different sets of data. It consists of overlapping circles or other shapes, with each circle representing a set and the overlapping areas representing the intersections between sets."
   ]
  },
  {
   "cell_type": "markdown",
   "id": "3545bedc-2542-4296-90bd-2f486bb75b1f",
   "metadata": {
    "jp-MarkdownHeadingCollapsed": true,
    "tags": []
   },
   "source": [
    "## Q7. For the two given sets A = (2,3,4,5,6,7) & B = (0,2,6,8,10). Find:\n",
    "1. A intersection B\n",
    "2. A ⋃ B"
   ]
  },
  {
   "cell_type": "markdown",
   "id": "1508c370-6695-431e-83f0-ddbe9882173a",
   "metadata": {},
   "source": [
    "1. {2,6}\n",
    "2. {0,2,3,4,5,6,7,8,10}\n"
   ]
  },
  {
   "cell_type": "markdown",
   "id": "e40ffc0c-a670-456b-9ad6-e5633d855849",
   "metadata": {
    "jp-MarkdownHeadingCollapsed": true,
    "tags": []
   },
   "source": [
    "## Q8. What do you understand about skewness in data?"
   ]
  },
  {
   "cell_type": "markdown",
   "id": "de31572d-9fe7-452f-8865-2577eb090e25",
   "metadata": {},
   "source": [
    "Skewness is a measure of the degree of asymmetry in a distribution of data. In other words, it measures how much a dataset deviates from a perfectly symmetrical distribution. A distribution is said to be symmetric if it is evenly distributed around its mean, with half of the data points falling on either side of the mean.\n",
    "\n",
    "Positive skewness occurs when a distribution is skewed to the right, meaning that the tail of the distribution extends further to the right than to the left. This indicates that there are more data points on the left side of the distribution, with a few large values on the right side.\n",
    "\n",
    "Negative skewness occurs when a distribution is skewed to the left, meaning that the tail of the distribution extends further to the left than to the right. This indicates that there are more data points on the right side of the distribution, with a few small values on the left side.\n",
    "\n",
    "Skewness is a useful measure for understanding the shape of a distribution and can provide insights into the nature of the data. For example, if a dataset has a positive skewness, it may indicate that there are outliers or extreme values on the right side of the distribution. Similarly, if a dataset has a negative skewness, it may indicate that there are outliers or extreme values on the left side of the distribution. Understanding skewness is important for choosing appropriate statistical techniques and making accurate inferences from the data.\n",
    "\n",
    "\n",
    "\n"
   ]
  },
  {
   "cell_type": "markdown",
   "id": "9410d353-feef-4087-872e-a075d12d74aa",
   "metadata": {
    "jp-MarkdownHeadingCollapsed": true,
    "tags": []
   },
   "source": [
    "## Q9. If a data is right skewed then what will be the position of median with respect to mean?"
   ]
  },
  {
   "cell_type": "markdown",
   "id": "e30fe5ca-1545-4ecd-a765-ffc8aaed2ecf",
   "metadata": {},
   "source": [
    "If a data is right skewed, the median will be less than the mean. This is because the right-skewed distribution has a long tail on the right side, indicating the presence of some unusually large values. These large values pull the mean towards the right side of the distribution, making it larger than the median, which is the value that divides the dataset into two equal parts.\n",
    "\n",
    "In other words, in a right-skewed distribution, the mean is pulled towards the tail, while the median is pulled towards the center of the distribution. The extent to which the mean and median differ depends on the degree of skewness in the dataset.\n",
    "\n",
    "\n",
    "\n"
   ]
  },
  {
   "cell_type": "markdown",
   "id": "bb83e344-c012-4fd1-97cd-017c99f51907",
   "metadata": {
    "jp-MarkdownHeadingCollapsed": true,
    "tags": []
   },
   "source": [
    "## Q10. Explain the difference between covariance and correlation. How are these measures used in statistical analysis?"
   ]
  },
  {
   "cell_type": "markdown",
   "id": "045d8117-1cd4-4ee7-aa3e-6a5cb4e681f2",
   "metadata": {},
   "source": [
    "Covariance and correlation are two measures used in statistical analysis to describe the relationship between two variables.\n",
    "\n",
    "Covariance measures the degree to which two variables vary together. It is a measure of the strength and direction of the linear relationship between two variables. A positive covariance indicates that the two variables are positively related, meaning that they tend to increase or decrease together. A negative covariance indicates that the two variables are inversely related, meaning that as one variable increases, the other decreases.\n",
    "\n",
    "However, covariance by itself is not a standardized measure and can be difficult to interpret since it is affected by the scales of the variables being measured. Correlation, on the other hand, is a standardized measure of the relationship between two variables that ranges from -1 to 1.\n",
    "\n",
    "Correlation measures the degree of association between two variables and describes how closely the relationship between the two variables follows a straight line. A correlation of 1 indicates a perfect positive correlation, meaning that the two variables move in perfect harmony, whereas a correlation of -1 indicates a perfect negative correlation, meaning that the two variables move in opposite directions.\n",
    "\n",
    "In statistical analysis, correlation is used to determine the strength and direction of the relationship between two variables, while covariance is used to describe the strength and direction of the relationship between two variables without any standardized measure. Both measures are important in determining the nature of the relationship between two variables and can be used to identify patterns and make predictions about future behavior."
   ]
  },
  {
   "cell_type": "markdown",
   "id": "77b63abb-368c-4326-a210-23a6e479212c",
   "metadata": {
    "jp-MarkdownHeadingCollapsed": true,
    "tags": []
   },
   "source": [
    "## Q11. What is the formula for calculating the sample mean? Provide an example calculation for a dataset."
   ]
  },
  {
   "cell_type": "markdown",
   "id": "a104f246-d341-482c-a31a-abed9d4ab002",
   "metadata": {},
   "source": [
    "The formula for calculating the sample mean is:\n",
    "\n",
    "Sample Mean = (Sum of all values in the dataset) / (Number of values in the dataset)\n",
    "\n",
    "Here is an example calculation of the sample mean for the dataset [2, 5, 8, 10, 12]:\n",
    "\n",
    "Sample Mean = (2 + 5 + 8 + 10 + 12) / 5\n",
    "Sample Mean = 37 / 5\n",
    "Sample Mean = 7.4\n",
    "\n",
    "Therefore, the sample mean for the dataset [2, 5, 8, 10, 12] is 7.4."
   ]
  },
  {
   "cell_type": "markdown",
   "id": "d6aa5f77-3d2e-482f-b0e6-86ef38ba98f5",
   "metadata": {
    "jp-MarkdownHeadingCollapsed": true,
    "tags": []
   },
   "source": [
    "## Q12. For a normal distribution data what is the relationship between its measure of central tendency?"
   ]
  },
  {
   "cell_type": "markdown",
   "id": "ac20d176-0d7d-4469-bd5a-5bb11ea2ce98",
   "metadata": {},
   "source": [
    "For a normal distribution data, the mean, median, and mode are all equal to each other. This is because a normal distribution is symmetric, with half of the data falling on either side of the mean. The peak of a normal distribution occurs at the mean, indicating that the mode is also at the same point.\n",
    "\n",
    "Furthermore, the median, which is the value that divides the dataset into two equal parts, is also equal to the mean in a normal distribution because of the symmetry of the distribution."
   ]
  },
  {
   "cell_type": "markdown",
   "id": "5d67875a-49c4-45b3-af55-f2e8c4147207",
   "metadata": {
    "jp-MarkdownHeadingCollapsed": true,
    "tags": []
   },
   "source": [
    "## Q13. How is covariance different from correlation?"
   ]
  },
  {
   "cell_type": "markdown",
   "id": "2964fc8e-5bdf-4357-9654-972ac274da84",
   "metadata": {},
   "source": [
    "Covariance and correlation are two measures of the relationship between two variables.\n",
    "\n",
    "Covariance is a measure of how two variables change or vary together. It measures the degree to which two variables are linearly related, with a positive covariance indicating that the variables tend to increase or decrease together, and a negative covariance indicating that they tend to move in opposite directions.\n",
    "\n",
    "However, covariance by itself is not a standardized measure and can be difficult to interpret because it is affected by the scale of the variables being measured. Correlation, on the other hand, is a standardized measure that indicates the degree to which two variables are related on a scale from -1 to 1.\n",
    "\n",
    "Correlation is calculated by dividing the covariance by the product of the standard deviations of the two variables. This normalization makes it easier to interpret the strength and direction of the relationship between two variables. A correlation of 1 indicates a perfect positive relationship, a correlation of -1 indicates a perfect negative relationship, and a correlation of 0 indicates no relationship.\n",
    "\n",
    "In summary, while covariance measures the degree to which two variables vary together, correlation measures the strength and direction of the linear relationship between two variables on a standardized scale.\n",
    "\n",
    "\n",
    "\n"
   ]
  },
  {
   "cell_type": "markdown",
   "id": "316d79d0-e507-4275-a163-1b48574c808f",
   "metadata": {
    "jp-MarkdownHeadingCollapsed": true,
    "tags": []
   },
   "source": [
    "## Q14. How do outliers affect measures of central tendency and dispersion? Provide an example."
   ]
  },
  {
   "cell_type": "markdown",
   "id": "ab958d14-9190-4c6c-b6f0-afbbdd30ce23",
   "metadata": {},
   "source": [
    "Outliers are data points that are significantly different from the rest of the data in a dataset. Outliers can have a significant impact on measures of central tendency and dispersion.\n",
    "\n",
    "Measures of central tendency, such as the mean, are particularly sensitive to outliers because they are calculated by summing up all the values in the dataset and dividing by the number of values. If an outlier is present in the dataset, it can significantly shift the mean, making it a less reliable measure of the center of the data.\n",
    "\n",
    "Measures of dispersion, such as the range, standard deviation, and variance, are also affected by outliers. Outliers can increase the range of the dataset, making it appear more spread out than it actually is. Outliers can also increase the standard deviation and variance, making it appear that the data is more variable than it actually is.\n",
    "\n",
    "Here is an example of how outliers can affect measures of central tendency and dispersion:\n",
    "\n",
    "Consider the following dataset: [1, 2, 3, 4, 5, 100]. The mean of this dataset is (1+2+3+4+5+100)/6 = 19.17. However, the presence of the outlier value \"100\" has significantly increased the mean, making it a less reliable measure of the center of the data.\n",
    "\n",
    "Similarly, the range of the dataset is 99 (100-1), which appears to indicate a large amount of spread in the data. However, this range is primarily due to the outlier value of \"100\".\n",
    "\n",
    "Finally, the standard deviation and variance of the dataset are significantly higher than they would be without the outlier value, which again makes it appear that the data is more variable than it actually is."
   ]
  }
 ],
 "metadata": {
  "kernelspec": {
   "display_name": "Python 3 (ipykernel)",
   "language": "python",
   "name": "python3"
  },
  "language_info": {
   "codemirror_mode": {
    "name": "ipython",
    "version": 3
   },
   "file_extension": ".py",
   "mimetype": "text/x-python",
   "name": "python",
   "nbconvert_exporter": "python",
   "pygments_lexer": "ipython3",
   "version": "3.10.8"
  }
 },
 "nbformat": 4,
 "nbformat_minor": 5
}
