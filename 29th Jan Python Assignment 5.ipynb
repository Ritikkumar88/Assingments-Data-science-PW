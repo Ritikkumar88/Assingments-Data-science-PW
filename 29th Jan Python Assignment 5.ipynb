{
 "cells": [
  {
   "cell_type": "markdown",
   "id": "4fa22641-68a2-4ef4-92f7-ff48769a065d",
   "metadata": {
    "jp-MarkdownHeadingCollapsed": true,
    "tags": []
   },
   "source": [
    "## Q.1) who devloped python programming lang?"
   ]
  },
  {
   "cell_type": "markdown",
   "id": "c168d02f-f567-43de-a5d9-2496404fb5fc",
   "metadata": {},
   "source": [
    "Python programming language was developed by Guido van Rossum, a Dutch programmer, in the late 1980s. He was working at the National Research Institute for Mathematics and Computer Science in the Netherlands at the time, and he created Python as a hobby project to overcome some of the limitations of the ABC programming language. Van Rossum continued to develop Python throughout the 1990s, and it was first released to the public in 1991 as Python 0.9.0. Since then, Python has evolved into a powerful and versatile programming language that is used in a wide range of applications, from web development and data science to scientific computing and artificial intelligence."
   ]
  },
  {
   "cell_type": "markdown",
   "id": "e71a0eb5-ca07-4947-8b99-6d199103905c",
   "metadata": {
    "jp-MarkdownHeadingCollapsed": true,
    "tags": []
   },
   "source": [
    "## Q.2) which type of programming dose python  support?"
   ]
  },
  {
   "cell_type": "markdown",
   "id": "b5285d12-f26f-4823-a5d1-a32dbd070a2e",
   "metadata": {},
   "source": [
    "Object oreanted programming (OOPS)"
   ]
  },
  {
   "cell_type": "markdown",
   "id": "cfde992f-a6e9-4979-a541-cac53f792547",
   "metadata": {
    "tags": []
   },
   "source": [
    "## Q.3) is python case sensitive in case dealing with identyfiers?"
   ]
  },
  {
   "cell_type": "markdown",
   "id": "8dede6d2-6c33-48c4-8c87-02bfb399a079",
   "metadata": {},
   "source": [
    "Yes, Python is case-sensitive when it comes to identifiers such as variable names, function names, class names, etc. This means that the names 'my_variable', 'My_Variable', and 'MY_VARIABLE' are all different identifiers in Python and can refer to different objects."
   ]
  },
  {
   "cell_type": "markdown",
   "id": "1f049fa2-e548-4786-b217-420ae97ba907",
   "metadata": {},
   "source": [
    "## Q.4) what is correct extension of the python file?"
   ]
  },
  {
   "cell_type": "markdown",
   "id": "87e82045-de36-4df2-9230-31bf90035d35",
   "metadata": {},
   "source": [
    "'.py' is the correct extension for the python file"
   ]
  },
  {
   "cell_type": "markdown",
   "id": "0e061ec8-64d1-449b-b2ef-8ae95fcd0d8d",
   "metadata": {
    "jp-MarkdownHeadingCollapsed": true,
    "tags": []
   },
   "source": [
    "## Q5) is python code compiled or interprate?"
   ]
  },
  {
   "cell_type": "markdown",
   "id": "74964415-39b2-4704-8edd-a366d5e17791",
   "metadata": {},
   "source": [
    "Python code is interpreted, not compiled.\n",
    "\n",
    "When you run a Python program, the source code is translated into bytecode by the Python interpreter, and the bytecode is executed on the fly. This means that the code is not translated into machine language (binary code) in advance, as is the case with compiled languages like C++ or Java."
   ]
  },
  {
   "cell_type": "markdown",
   "id": "b12f7a58-464c-4358-8316-9b51de6d97d3",
   "metadata": {
    "jp-MarkdownHeadingCollapsed": true,
    "tags": []
   },
   "source": [
    "## Q.6) name a few block of codes used to identify in python code?"
   ]
  },
  {
   "cell_type": "markdown",
   "id": "1c196566-02ba-4a5a-bc61-9e4e1919052e",
   "metadata": {},
   "source": [
    "1) indentation block\n",
    "2) with block\n",
    "3) class block\n",
    "4) function block"
   ]
  },
  {
   "cell_type": "markdown",
   "id": "27e8cd64-7659-4a89-8fc1-4c616a4cfed4",
   "metadata": {
    "jp-MarkdownHeadingCollapsed": true,
    "tags": []
   },
   "source": [
    "## Q.7) State the char used for single line comment in python"
   ]
  },
  {
   "cell_type": "markdown",
   "id": "aa57dc10-f0e2-45d3-bf57-20406331da19",
   "metadata": {},
   "source": [
    "we can use \"#\" for the single line comment in python"
   ]
  },
  {
   "cell_type": "markdown",
   "id": "915b0c2d-dd42-476b-83de-b9b5c7e40c5f",
   "metadata": {
    "jp-MarkdownHeadingCollapsed": true,
    "tags": []
   },
   "source": [
    "## Q.8)  mention functions that can help us to find out the version of python that we are corrently working on?"
   ]
  },
  {
   "cell_type": "markdown",
   "id": "1362a132-cca9-435b-a5e3-992dfbcf9532",
   "metadata": {},
   "source": [
    "There are several ways to find out which version of Python you're currently using. Here are a few options:\n",
    "\n",
    "1) sys module: You can use the sys module to access information about the Python interpreter. The sys.version attribute returns a string that contains the version number and some additional information about the Python interpreter.\n",
    "For example:"
   ]
  },
  {
   "cell_type": "code",
   "execution_count": 2,
   "id": "99a5d12d-bd51-49a6-bb14-d2594f406bc2",
   "metadata": {},
   "outputs": [
    {
     "name": "stdout",
     "output_type": "stream",
     "text": [
      "3.10.8 | packaged by conda-forge | (main, Nov 22 2022, 08:26:04) [GCC 10.4.0]\n"
     ]
    }
   ],
   "source": [
    "import sys\n",
    "print(sys.version)\n"
   ]
  },
  {
   "cell_type": "markdown",
   "id": "bd2668bb-61a5-48e2-8bdc-7f74cd359aba",
   "metadata": {},
   "source": [
    "2) platform module: You can use the platform module to get information about the operating system, hardware, and other details of the environment you're running Python in. The platform.python_version() function returns the Python version number as a string.\n",
    "For example:"
   ]
  },
  {
   "cell_type": "code",
   "execution_count": 3,
   "id": "74338edd-5b04-443d-b045-c2839e734924",
   "metadata": {},
   "outputs": [
    {
     "name": "stdout",
     "output_type": "stream",
     "text": [
      "3.10.8\n"
     ]
    }
   ],
   "source": [
    "import platform\n",
    "print(platform.python_version())\n"
   ]
  },
  {
   "cell_type": "markdown",
   "id": "09ac2cfc-0e0c-432f-96fc-652669592d09",
   "metadata": {
    "jp-MarkdownHeadingCollapsed": true,
    "tags": []
   },
   "source": [
    "## Q.9) which constructor used to create the anonimous function in python on runtime?"
   ]
  },
  {
   "cell_type": "markdown",
   "id": "2fe0c5d0-6a9a-4ab3-bc02-2b41c7f34ea1",
   "metadata": {},
   "source": [
    "lambda"
   ]
  },
  {
   "cell_type": "markdown",
   "id": "ed329297-5c4a-4c1b-a74c-47319d3cc246",
   "metadata": {
    "jp-MarkdownHeadingCollapsed": true,
    "tags": []
   },
   "source": [
    "## Q.10) what dose pip stand for in python?"
   ]
  },
  {
   "cell_type": "markdown",
   "id": "5bcd3241-7f10-4e43-a808-aca40d6577f7",
   "metadata": {},
   "source": [
    "In Python, pip stands for \"Pip Installs Packages\". It is a package manager that is used to install, upgrade, and manage Python packages (libraries and modules) from the Python Package Index (PyPI) and other sources."
   ]
  },
  {
   "cell_type": "markdown",
   "id": "4ca7ac62-f322-41e9-ac19-612c364ca490",
   "metadata": {
    "jp-MarkdownHeadingCollapsed": true,
    "tags": []
   },
   "source": [
    "## Q.11) mention a few built in function in python?"
   ]
  },
  {
   "cell_type": "markdown",
   "id": "0dec4a00-4265-4d74-a04e-b0d01cf4e4f5",
   "metadata": {},
   "source": [
    "print(): Prints a message to the console.\n",
    "\n",
    "input(): Prompts the user to enter some input and returns it as a string.\n",
    "\n",
    "len(): Returns the length of a sequence (e.g. a string, list, or tuple).\n",
    "\n",
    "range(): Generates a sequence of numbers.\n",
    "\n",
    "type(): Returns the type of an object.\n",
    "\n",
    "int(), float(), str(), bool(): Convert values to integers, floating-point numbers, strings, or boolean values.\n",
    "\n",
    "max(), min(): Returns the maximum or minimum value in a sequence.\n",
    "\n",
    "abs(): Returns the absolute value of a number.\n",
    "\n",
    "sum(): Returns the sum of all elements in a sequence.\n",
    "\n",
    "sorted(): Returns a sorted version of a sequence."
   ]
  },
  {
   "cell_type": "markdown",
   "id": "45cdc34d-0257-4b4f-97d9-e567569647ad",
   "metadata": {
    "jp-MarkdownHeadingCollapsed": true,
    "tags": []
   },
   "source": [
    "## Q.12) what is the max possible length of an identifier in python?"
   ]
  },
  {
   "cell_type": "markdown",
   "id": "0fb5f031-3fa9-4eb9-aae4-71f14b095892",
   "metadata": {},
   "source": [
    "It is worth noting that some coding standards and best practices recommend using a maximum identifier length of 79 characters"
   ]
  },
  {
   "cell_type": "markdown",
   "id": "20ee079d-37c5-4495-a520-2306fe503cd4",
   "metadata": {
    "jp-MarkdownHeadingCollapsed": true,
    "tags": []
   },
   "source": [
    "## Q.13) what are the benifits of using python?"
   ]
  },
  {
   "cell_type": "markdown",
   "id": "50781fc6-deef-4d2d-b988-a9990e890e59",
   "metadata": {},
   "source": [
    "Python has become one of the most popular programming languages in the world due to its many advantages and benefits. Here are some of the key benefits of using Python:\n",
    "\n",
    "Easy to Learn: Python has a simple syntax and is easy to read and write, making it an ideal language for beginners and experienced developers alike.\n",
    "\n",
    "Versatile: Python is a general-purpose language and can be used for a wide variety of tasks, including web development, scientific computing, data analysis, artificial intelligence, machine learning, and more.\n",
    "\n",
    "Large Standard Library: Python comes with a large standard library that provides many modules and functions that can be used to accomplish common programming tasks without having to write code from scratch.\n",
    "\n",
    "Third-Party Packages: Python has a vast ecosystem of third-party packages and libraries that can be easily installed and used to extend its functionality.\n",
    "\n",
    "Interpreted Language: Python is an interpreted language, which means that it does not need to be compiled before it can be run. This makes the development process faster and more efficient.\n",
    "\n",
    "Cross-Platform: Python code can be run on a wide variety of platforms, including Windows, macOS, Linux, and other Unix-based systems.\n",
    "\n",
    "Open Source: Python is open source software, which means that it is free to use, distribute, and modify, and there is a large community of developers contributing to its development and maintenance.\n",
    "\n",
    "Community Support: Python has a large and active community of developers, users, and contributors who provide support, guidance, and resources for Python developers."
   ]
  },
  {
   "cell_type": "markdown",
   "id": "2c06627a-7620-4587-b727-981dbe514e0b",
   "metadata": {
    "jp-MarkdownHeadingCollapsed": true,
    "tags": []
   },
   "source": [
    "## Q.14) how is memory managed in python?"
   ]
  },
  {
   "cell_type": "markdown",
   "id": "1ffe2408-b55c-4d07-bb9c-983181ae70eb",
   "metadata": {},
   "source": [
    "Memory management in Python is handled by a process called garbage collection. Garbage collection is the automatic process of freeing up memory that is no longer being used by the program. This process ensures that the program uses memory efficiently and prevents memory leaks, which can cause the program to run out of memory and crash."
   ]
  },
  {
   "cell_type": "markdown",
   "id": "42570a85-a6ad-4691-ae83-d34b3621315a",
   "metadata": {
    "jp-MarkdownHeadingCollapsed": true,
    "tags": []
   },
   "source": [
    "## Q.15) how to install python in window and set path variable?"
   ]
  },
  {
   "cell_type": "markdown",
   "id": "e2d641d7-74a7-4617-b515-6de306657844",
   "metadata": {},
   "source": [
    "Here are the steps to install Python in Windows and set the path variable:\n",
    "\n",
    "Download Python: Go to the official Python website (https://www.python.org/downloads/) and download the latest version of Python for Windows.\n",
    "\n",
    "Run the installer: Run the downloaded installer file and follow the installation wizard to install Python on your system.\n",
    "\n",
    "Add Python to the PATH variable: During the installation process, you will be given the option to add Python to the PATH environment variable. Make sure to select this option to ensure that Python can be accessed from any directory on your system.\n",
    "\n",
    "If you have already installed Python but did not select the option to add it to the PATH variable, you can follow the steps below to set the PATH variable manually:\n",
    "\n",
    "Open the Windows Start menu and search for \"Environment Variables.\"\n",
    "\n",
    "Click on \"Edit the system environment variables.\"\n",
    "\n",
    "Click on the \"Environment Variables\" button.\n",
    "\n",
    "Under \"System variables,\" find the \"Path\" variable and click on \"Edit.\"\n",
    "\n",
    "Click on \"New\" and add the path to the Python installation directory (e.g., \"C:\\Python39\").\n",
    "\n",
    "Click \"OK\" to save the changes.\n",
    "\n",
    "Open a new command prompt window and type \"python\" to verify that Python has been installed correctly and can be accessed from any directory on your system.\n",
    "\n",
    "That's it! You should now be able to use Python on your Windows system and run Python scripts from any directory by simply typing \"python\" followed by the script name.\n",
    "\n",
    "\n",
    "\n"
   ]
  },
  {
   "cell_type": "markdown",
   "id": "c3927ffd-eaa1-4dfd-a483-9ea07ddd9e27",
   "metadata": {
    "jp-MarkdownHeadingCollapsed": true,
    "tags": []
   },
   "source": [
    "## Q.16) is indentation required in python?"
   ]
  },
  {
   "cell_type": "markdown",
   "id": "64d3ce1c-7b7a-4dcf-b7bb-73c6d91d830a",
   "metadata": {},
   "source": [
    "es, indentation is required in Python. Python uses indentation to indicate the grouping of statements, instead of using braces or other delimiters like many other programming languages. This means that the correct indentation is essential to ensure that the code is properly structured and executed.\n",
    "\n",
    "For example, in Python, a block of code belonging to a function, a loop, or a conditional statement must be indented by a consistent number of spaces or tabs. If the indentation is incorrect, the code will not work as intended and may even result in syntax errors.\n",
    "\n",
    "Here's an example of properly indented Python code:"
   ]
  },
  {
   "cell_type": "code",
   "execution_count": 4,
   "id": "fd57771e-03f7-44a7-b129-6eb0111e53e5",
   "metadata": {},
   "outputs": [
    {
     "name": "stdout",
     "output_type": "stream",
     "text": [
      "Hello, stranger!\n"
     ]
    }
   ],
   "source": [
    "def greet(name):\n",
    "    if name == \"Alice\":\n",
    "        print(\"Hello, Alice!\")\n",
    "    else:\n",
    "        print(\"Hello, stranger!\")\n",
    "\n",
    "greet(\"Bob\")\n"
   ]
  }
 ],
 "metadata": {
  "kernelspec": {
   "display_name": "Python 3 (ipykernel)",
   "language": "python",
   "name": "python3"
  },
  "language_info": {
   "codemirror_mode": {
    "name": "ipython",
    "version": 3
   },
   "file_extension": ".py",
   "mimetype": "text/x-python",
   "name": "python",
   "nbconvert_exporter": "python",
   "pygments_lexer": "ipython3",
   "version": "3.10.8"
  }
 },
 "nbformat": 4,
 "nbformat_minor": 5
}
