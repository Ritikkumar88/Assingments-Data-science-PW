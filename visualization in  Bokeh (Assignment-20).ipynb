{
 "cells": [
  {
   "cell_type": "markdown",
   "id": "c3a48c73-7ac5-46f7-bfad-131a965bd9af",
   "metadata": {
    "jp-MarkdownHeadingCollapsed": true,
    "tags": []
   },
   "source": [
    "## Q1. How can you create a Bokeh plot using Python code?"
   ]
  },
  {
   "cell_type": "markdown",
   "id": "b13b451c-3d21-426f-99a5-82a1aff8580e",
   "metadata": {},
   "source": [
    "To create a Bokeh plot using Python code, we need to follow these general steps:\n",
    "\n",
    "Import the necessary modules: You need to import the necessary modules, including bokeh.plotting and any additional modules for data manipulation and analysis.\n",
    "\n",
    "Prepare the data: You need to prepare the data that you want to plot. This may involve loading data from a file, creating data structures, or manipulating existing data.\n",
    "\n",
    "Create a figure: You need to create a Figure object, which represents the canvas or plotting area where the data will be displayed. This can be done using the figure() function from the bokeh.plotting module.\n",
    "\n",
    "Add glyphs to the figure: You need to add glyphs, which are the visual elements that represent the data, to the figure. This can be done using glyph functions like line(), scatter(), circle(), etc.\n",
    "\n",
    "Customize the plot: You can customize various aspects of the plot, such as the title, axis labels, gridlines, color scheme, etc. using the various properties and attributes of the Figure object.\n",
    "\n",
    "Display the plot: You can display the plot in various ways, such as in a Jupyter notebook, in a standalone HTML file, or in a Bokeh server application.\n",
    "\n",
    "Here's an example code snippet that creates a simple line plot using Bokeh:"
   ]
  },
  {
   "cell_type": "code",
   "execution_count": 2,
   "id": "3c103a8c-f33d-4dbe-b027-5e1ce87b3f88",
   "metadata": {},
   "outputs": [],
   "source": [
    "from bokeh.plotting import figure, output_file, show\n",
    "\n",
    "# Prepare the data\n",
    "x = [1, 2, 3, 4, 5]\n",
    "y = [2, 4, 6, 8, 10]\n",
    "\n",
    "# Create a figure\n",
    "p = figure(title='My Plot', x_axis_label='X-axis', y_axis_label='Y-axis')\n",
    "\n",
    "# Add a line glyph to the figure\n",
    "p.line(x, y, line_width=2)\n",
    "\n",
    "# Customize the plot\n",
    "p.title.text_font_size = '20pt'\n",
    "p.xaxis.axis_label_text_font_size = '14pt'\n",
    "p.yaxis.axis_label_text_font_size = '14pt'\n",
    "\n",
    "# Display the plot in a Jupyter notebook\n",
    "output_file('my_plot.html')\n",
    "show(p)\n"
   ]
  },
  {
   "cell_type": "markdown",
   "id": "d6d63291-3266-4f05-8b96-a0e84b9ea420",
   "metadata": {},
   "source": [
    "This code creates a simple line plot with x and y data, sets a title and axis labels, and displays the plot in a Jupyter notebook using the output_file() and show() functions.\n",
    "\n",
    "\n",
    "\n"
   ]
  },
  {
   "cell_type": "markdown",
   "id": "9579d09f-888c-4fec-80bc-19c08b76d6dd",
   "metadata": {
    "jp-MarkdownHeadingCollapsed": true,
    "tags": []
   },
   "source": [
    "## Q2. What are glyphs in Bokeh, and how can you add them to a Bokeh plot? Explain with an example."
   ]
  },
  {
   "cell_type": "markdown",
   "id": "85e50ebf-dc11-4409-8a52-7e862dbc93d8",
   "metadata": {},
   "source": [
    "In Bokeh, glyphs are visual markers that represent individual data points in a plot. Examples of glyphs include circles, squares, triangles, lines, and more complex shapes like patches and polygons. Glyphs are added to a Bokeh plot using the glyph functions provided by the bokeh.plotting module.\n",
    "\n",
    "Here's an example code snippet that adds circle glyphs to a Bokeh plot:"
   ]
  },
  {
   "cell_type": "code",
   "execution_count": null,
   "id": "19b366e8-13b2-47c9-926c-ff720aefee23",
   "metadata": {},
   "outputs": [],
   "source": [
    "from bokeh.plotting import figure, show\n",
    "\n",
    "# Prepare the data\n",
    "x = [1, 2, 3, 4, 5]\n",
    "y = [2, 4, 6, 8, 10]\n",
    "\n",
    "# Create a figure\n",
    "p = figure(title='My Plot', x_axis_label='X-axis', y_axis_label='Y-axis')\n",
    "\n",
    "# Add circle glyphs to the figure\n",
    "p.circle(x, y, size=10, color='blue')\n",
    "\n",
    "# Display the plot\n",
    "show(p)\n"
   ]
  },
  {
   "cell_type": "markdown",
   "id": "c84a0621-fd3c-4c7e-92bd-339ef46f25ad",
   "metadata": {},
   "source": [
    "In this code, we first import the figure() and show() functions from the bokeh.plotting module. We then prepare some simple x and y data, and create a Figure object with a title and axis labels. Next, we add circle glyphs to the plot using the circle() function, which takes the x and y data, a size parameter to specify the size of the circles, and a color parameter to specify the color of the circles. Finally, we display the plot using the show() function.\n",
    "\n",
    "This code will create a simple plot with circle glyphs representing the x and y data points. You can customize the size, color, and other properties of the glyphs using additional parameters provided by the glyph functions, or by setting attributes of the GlyphRenderer objects that are returned when you call the glyph functions.\n",
    "\n",
    "\n",
    "\n"
   ]
  },
  {
   "cell_type": "markdown",
   "id": "abb11f58-3593-4650-aaef-e285f8b8e5c6",
   "metadata": {
    "jp-MarkdownHeadingCollapsed": true,
    "tags": []
   },
   "source": [
    "## Q3. How can you customize the appearance of a Bokeh plot, including the axes, title, and legend?\n",
    "\n"
   ]
  },
  {
   "cell_type": "markdown",
   "id": "8e03bfb9-8e76-4e2b-b1ca-dd369a4657d9",
   "metadata": {},
   "source": [
    "we can customize various aspects of a Bokeh plot using properties and attributes of the Figure object. Here are some examples:\n",
    "\n",
    "Title: You can set the title of a plot using the title attribute of the Figure object, and customize its font size, color, and other properties using the title_text_font_size, title_text_color, and other related attributes. For example:"
   ]
  },
  {
   "cell_type": "code",
   "execution_count": 4,
   "id": "6901947a-9a8d-4754-ba9d-447d6c953642",
   "metadata": {},
   "outputs": [],
   "source": [
    "# p = figure(title='My Plot', title_text_font_size='16pt', title_text_color='navy')\n"
   ]
  },
  {
   "cell_type": "markdown",
   "id": "cb8b3347-de89-4cdd-a015-c73d7bc86319",
   "metadata": {},
   "source": [
    "Axis labels: You can set the labels of the x and y axes using the x_axis_label and y_axis_label attributes of the Figure object, and customize their font size, color, and other properties using the xaxis_label_text_font_size, xaxis_label_text_color, yaxis_label_text_font_size, yaxis_label_text_color, and other related attributes. For example:"
   ]
  },
  {
   "cell_type": "code",
   "execution_count": null,
   "id": "83649ba9-e883-4ec5-bf00-26232849dc88",
   "metadata": {},
   "outputs": [],
   "source": [
    "# # p.xaxis.axis_label = 'X-axis'\n",
    "# p.yaxis.axis_label = 'Y-axis'\n",
    "# p.xaxis.axis_label_text_font_size = '14pt'\n",
    "# p.yaxis.axis_label_text_font_size = '14pt'\n"
   ]
  },
  {
   "cell_type": "markdown",
   "id": "595cd645-e160-4be6-bbea-d2edd83eadc8",
   "metadata": {},
   "source": [
    "Axis ticks and tick labels: You can customize various aspects of the axis ticks and tick labels using the attributes of the Axis objects returned by the xaxis and yaxis attributes of the Figure object. For example:"
   ]
  },
  {
   "cell_type": "code",
   "execution_count": null,
   "id": "52ea796b-c8b7-40fe-b24f-21b7086bb46a",
   "metadata": {},
   "outputs": [],
   "source": [
    "# p.xaxis.major_label_text_font_size = '12pt'\n",
    "# p.yaxis.major_label_text_font_size = '12pt'\n",
    "# p.xaxis.major_tick_line_color = 'gray'\n",
    "# p.yaxis.major_tick_line_color = 'gray'\n"
   ]
  },
  {
   "cell_type": "markdown",
   "id": "f1dafd92-7144-499d-bf44-b274ba0b2081",
   "metadata": {},
   "source": [
    "Legend: You can add a legend to a plot using the legend attribute of the glyph functions, and customize its position, font size, and other properties using the attributes of the Legend object returned by the legend attribute of the Figure object. For example:"
   ]
  },
  {
   "cell_type": "code",
   "execution_count": null,
   "id": "6a52e5ae-d495-427a-904a-7f065be9a4fa",
   "metadata": {},
   "outputs": [],
   "source": [
    "# p.circle(x, y, size=10, color='blue', legend_label='Data points')\n",
    "# p.legend.location = 'top_left'\n",
    "# p.legend.label_text_font_size = '12pt'\n"
   ]
  },
  {
   "cell_type": "markdown",
   "id": "b06fd0bb-a68b-4eeb-acc2-0fff65014bde",
   "metadata": {},
   "source": [
    "These are just a few examples of the many customization options available in Bokeh. You can refer to the Bokeh documentation for a complete list of properties and attributes that can be used to customize a plot."
   ]
  },
  {
   "cell_type": "markdown",
   "id": "83fe3b5d-4c6f-4304-8f23-6a3adb16f1b5",
   "metadata": {
    "jp-MarkdownHeadingCollapsed": true,
    "tags": []
   },
   "source": [
    "##  Q4. What is a Bokeh server, and how can you use it to create interactive plots that can be updated in real time?"
   ]
  },
  {
   "cell_type": "markdown",
   "id": "1a83ce9f-04c8-40ef-80ae-afbc401d0ca9",
   "metadata": {},
   "source": [
    "A Bokeh server is a Python-based web application that enables you to create interactive data visualizations with Bokeh that can be updated in real-time, without requiring the user to refresh the page. With a Bokeh server, you can add interactive widgets, such as sliders, dropdown menus, and buttons, to your Bokeh plots, which can be used to modify the data and update the plot dynamically. You can also use a Bokeh server to create standalone applications or dashboards that can be deployed on a web server or in the cloud.\n",
    "\n",
    "To create a Bokeh server application, you first define a curdoc object, which represents the current document or state of the application. You then create a Column or Row layout of your Bokeh plots and widgets, and add any necessary callbacks or event handlers. Finally, you start the Bokeh server using the bokeh serve command or by running the Python script directly.\n",
    "\n",
    "Here's a simple example that demonstrates how to use a Bokeh server to create an interactive scatter plot that updates dynamically based on a slider widget:"
   ]
  },
  {
   "cell_type": "code",
   "execution_count": 6,
   "id": "5216e351-0617-46a2-b82f-2772adfe10d6",
   "metadata": {},
   "outputs": [],
   "source": [
    "from bokeh.io import curdoc\n",
    "from bokeh.layouts import column\n",
    "from bokeh.models import ColumnDataSource, Slider\n",
    "from bokeh.plotting import figure\n",
    "\n",
    "# Define the data\n",
    "x = [1, 2, 3, 4, 5]\n",
    "y = [2, 4, 6, 8, 10]\n",
    "source = ColumnDataSource(data=dict(x=x, y=y))\n",
    "\n",
    "# Define the plot\n",
    "plot = figure(title=\"Interactive Scatter Plot\", tools=\"reset\")\n",
    "plot.circle(x='x', y='y', source=source)\n",
    "\n",
    "# Define the slider\n",
    "slider = Slider(start=1, end=10, value=5, step=1, title=\"Slider\")\n",
    "\n",
    "# Define the callback function\n",
    "def update_data(attrname, old, new):\n",
    "    source.data = dict(x=x, y=[i * new for i in y])\n",
    "\n",
    "# Add the callback to the slider\n",
    "slider.on_change('value', update_data)\n",
    "\n",
    "# Create the layout and add it to the current document\n",
    "layout = column(slider, plot)\n",
    "curdoc().add_root(layout)\n"
   ]
  },
  {
   "cell_type": "markdown",
   "id": "57d5a90a-9f7a-41ab-9973-7a2d2b1af78b",
   "metadata": {},
   "source": [
    "In this example, the slider widget controls the scaling factor for the y data, which is updated in the update_data callback function whenever the slider value changes. The column layout stacks the slider and the scatter plot vertically, and the curdoc().add_root function adds the layout to the current document of the Bokeh server application. When you run this code as a Bokeh server application, you will see a slider and a scatter plot in a web page, and you can interact with the slider to update the plot in real-time."
   ]
  },
  {
   "cell_type": "markdown",
   "id": "ad4ad3f6-054c-476d-a985-2bf2d32a35e3",
   "metadata": {
    "tags": []
   },
   "source": [
    "## Q5. How can you embed a Bokeh plot into a web page or dashboard using Flask or Django?"
   ]
  },
  {
   "cell_type": "markdown",
   "id": "f9f8a0b8-8513-4fef-a8d6-4dd30454953d",
   "metadata": {},
   "source": [
    "To embed a Bokeh plot into a web page or dashboard using Flask or Django, you can use the Bokeh server to create a standalone application that generates the plot, and then embed the application in your web page using an iframe. Here's a general overview of the steps involved:\n",
    "\n",
    "1. Create a Bokeh server application that generates the plot you want to embed. This can be done using the same steps as in Q4. Make sure to save the application in a separate Python file.\n",
    "\n",
    "2. In your Flask or Django application, define a view function that renders an HTML template with an iframe that points to the URL of the Bokeh server application. For example, in Flask, you can define a view function like this:"
   ]
  },
  {
   "cell_type": "code",
   "execution_count": 8,
   "id": "67d59845-e1e7-467b-b97e-f39fa2295213",
   "metadata": {},
   "outputs": [],
   "source": [
    "# from flask import Flask, render_template\n",
    "\n",
    "# app = Flask(__name__)\n",
    "\n",
    "# @app.route(\"/\")\n",
    "# def index():\n",
    "#     # Define the URL of the Bokeh server application\n",
    "#     bokeh_server_url = \"http://localhost:5006/myapp\"\n",
    "\n",
    "#     # Render the template with the iframe\n",
    "#     return render_template(\"index.html\", bokeh_server_url=bokeh_server_url)\n"
   ]
  },
  {
   "cell_type": "markdown",
   "id": "cdc8a930-2704-440b-a01d-2f94dff638fc",
   "metadata": {},
   "source": [
    "3. In your HTML template, include the iframe element with the URL of the Bokeh server application. For example:"
   ]
  },
  {
   "cell_type": "code",
   "execution_count": null,
   "id": "6407c844-221f-4cb0-bbc7-9629bc3d2429",
   "metadata": {},
   "outputs": [],
   "source": [
    "# <!DOCTYPE html>\n",
    "# <html>\n",
    "# <head>\n",
    "#     <title>My Dashboard</title>\n",
    "# </head>\n",
    "# <body>\n",
    "#     <h1>My Dashboard</h1>\n",
    "#     <iframe src=\"{{ bokeh_server_url }}\" width=\"800\" height=\"600\"></iframe>\n",
    "# </body>\n",
    "# </html>\n"
   ]
  },
  {
   "cell_type": "markdown",
   "id": "29541bd1-addc-4095-9e85-43c79712a2af",
   "metadata": {},
   "source": [
    "4. Start the Bokeh server by running the bokeh serve command and specifying the path to the Python file containing the Bokeh server application:"
   ]
  },
  {
   "cell_type": "code",
   "execution_count": null,
   "id": "37325f4b-fa3c-4eca-b045-f9a70840faed",
   "metadata": {},
   "outputs": [],
   "source": [
    "# bokeh serve myapp.py\n"
   ]
  },
  {
   "cell_type": "markdown",
   "id": "8bf90891-e8df-4e24-97c8-9aee1c9b3b8c",
   "metadata": {},
   "source": [
    "5. Start your Flask or Django application and navigate to the URL of the view function you defined in step 2. This should render your dashboard page with the embedded Bokeh plot."
   ]
  },
  {
   "cell_type": "code",
   "execution_count": null,
   "id": "758635e4-fb91-4f5f-b09d-cd594fe911d4",
   "metadata": {},
   "outputs": [],
   "source": []
  },
  {
   "cell_type": "code",
   "execution_count": null,
   "id": "a8df6dac-843d-4bd3-969c-8491c7423997",
   "metadata": {},
   "outputs": [],
   "source": []
  },
  {
   "cell_type": "code",
   "execution_count": null,
   "id": "c7995068-bbaa-4cef-b758-2d582856d242",
   "metadata": {},
   "outputs": [],
   "source": []
  },
  {
   "cell_type": "code",
   "execution_count": null,
   "id": "ebafa5b3-5f5f-4e76-b261-e20d3fb5cefe",
   "metadata": {},
   "outputs": [],
   "source": []
  }
 ],
 "metadata": {
  "kernelspec": {
   "display_name": "Python 3 (ipykernel)",
   "language": "python",
   "name": "python3"
  },
  "language_info": {
   "codemirror_mode": {
    "name": "ipython",
    "version": 3
   },
   "file_extension": ".py",
   "mimetype": "text/x-python",
   "name": "python",
   "nbconvert_exporter": "python",
   "pygments_lexer": "ipython3",
   "version": "3.10.8"
  }
 },
 "nbformat": 4,
 "nbformat_minor": 5
}
