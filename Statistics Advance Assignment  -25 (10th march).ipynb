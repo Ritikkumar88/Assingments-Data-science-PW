{
 "cells": [
  {
   "cell_type": "markdown",
   "id": "d4a08c43-0957-459b-97b3-643d8642f20b",
   "metadata": {
    "jp-MarkdownHeadingCollapsed": true,
    "tags": []
   },
   "source": [
    "## Q1: What is Estimation Statistics? Explain point estimate and interval estimate."
   ]
  },
  {
   "cell_type": "markdown",
   "id": "cf0319d0-9926-4686-af5f-d2f98a30ca24",
   "metadata": {},
   "source": [
    "Estimation statistics refers to the process of using sample data to make inferences about the population parameters of interest. In estimation statistics, we estimate the value of a population parameter using sample data.\n",
    "\n",
    "There are two types of estimation in statistics: point estimation and interval estimation.\n",
    "\n",
    "1. Point estimate: A point estimate is a single value that is used to estimate the unknown population parameter. This value is obtained from the sample data and is used as an estimate of the population parameter. For example, if we want to estimate the mean height of all students in a school, we can take a sample of students and calculate the mean height of the sample. This mean height value would be the point estimate of the population mean.\n",
    "\n",
    "2. Interval estimate: Interval estimation, also known as confidence interval estimation, is a range of values that is used to estimate the unknown population parameter. The range of values is obtained from the sample data and is used to estimate the population parameter with a certain degree of confidence. For example, if we want to estimate the mean height of all students in a school, we can take a sample of students and calculate the mean height of the sample. We can then use this value to construct a confidence interval that gives us a range of values in which the population mean is likely to lie. The confidence interval gives us a measure of the precision of our estimate and the level of confidence we can have in our estimate."
   ]
  },
  {
   "cell_type": "markdown",
   "id": "97751bfc-087b-4dc0-b9f6-fa39925be6d8",
   "metadata": {
    "jp-MarkdownHeadingCollapsed": true,
    "tags": []
   },
   "source": [
    "## Q2. Write a Python function to estimate the population mean using a sample mean and standard deviation."
   ]
  },
  {
   "cell_type": "code",
   "execution_count": 1,
   "id": "4f1b1765-339d-4309-88e8-5da92895caba",
   "metadata": {},
   "outputs": [],
   "source": [
    "import math\n",
    "\n",
    "def estimate_population_mean(sample_mean, sample_std_dev, sample_size):\n",
    "    \"\"\"\n",
    "    This function estimates the population mean using a sample mean, standard deviation, and sample size.\n",
    "    \"\"\"\n",
    "    # Calculate the standard error\n",
    "    std_error = sample_std_dev / math.sqrt(sample_size)\n",
    "    \n",
    "    # Calculate the margin of error (using a 95% confidence level)\n",
    "    margin_error = 1.96 * std_error\n",
    "    \n",
    "    # Calculate the lower and upper bounds of the confidence interval\n",
    "    lower_bound = sample_mean - margin_error\n",
    "    upper_bound = sample_mean + margin_error\n",
    "    \n",
    "    # Return the estimated population mean and the confidence interval\n",
    "    return sample_mean, (lower_bound, upper_bound)\n"
   ]
  },
  {
   "cell_type": "code",
   "execution_count": 2,
   "id": "96b52505-3194-4905-8998-f35c102c4a03",
   "metadata": {},
   "outputs": [
    {
     "name": "stdout",
     "output_type": "stream",
     "text": [
      "Estimated population mean: 10\n",
      "Confidence interval: (9.608, 10.392)\n"
     ]
    }
   ],
   "source": [
    "sample_mean = 10\n",
    "sample_std_dev = 2\n",
    "sample_size = 100\n",
    "\n",
    "estimated_mean, confidence_interval = estimate_population_mean(sample_mean, sample_std_dev, sample_size)\n",
    "\n",
    "print(\"Estimated population mean:\", estimated_mean)\n",
    "print(\"Confidence interval:\", confidence_interval)\n"
   ]
  },
  {
   "cell_type": "markdown",
   "id": "c92af91a-470a-4a67-b17e-526624d2f199",
   "metadata": {
    "jp-MarkdownHeadingCollapsed": true,
    "tags": []
   },
   "source": [
    "## Q3: What is Hypothesis testing? Why is it used? State the importance of Hypothesis testing."
   ]
  },
  {
   "cell_type": "markdown",
   "id": "64c3b134-5680-440c-94fd-9f6735a8b613",
   "metadata": {},
   "source": [
    "Hypothesis testing is a statistical method used to evaluate whether a given hypothesis about a population is likely to be true or not based on sample data. It involves making a statement about the population parameter, called a null hypothesis, and then testing whether there is enough evidence to reject or accept the null hypothesis.\n",
    "\n",
    "Hypothesis testing is used in statistics to make decisions about population parameters based on sample data. It is commonly used in scientific research, business, and many other fields to determine whether a particular treatment, process, or intervention has a significant effect.\n",
    "\n",
    "The importance of hypothesis testing lies in the fact that it allows us to draw valid conclusions about population parameters based on sample data. It enables us to test whether a hypothesis is true or not and to determine the level of confidence we can have in our conclusion. This is important because it allows us to make informed decisions based on data and to avoid making incorrect conclusions or decisions based on anecdotal evidence or personal biases.\n",
    "\n",
    "Moreover, hypothesis testing helps in identifying the statistical significance of results, meaning whether the results are due to chance or have a meaningful impact. This allows researchers and decision-makers to assess the practical significance of the results and decide whether they are worth acting on.\n",
    "\n",
    "In summary, hypothesis testing is an essential tool in statistics that enables us to draw valid conclusions about population parameters based on sample data. It allows us to test hypotheses, determine the level of confidence in our conclusions, and assess the statistical and practical significance of the results."
   ]
  },
  {
   "cell_type": "markdown",
   "id": "0253a26d-67d4-4351-9e7e-0473d11269be",
   "metadata": {
    "jp-MarkdownHeadingCollapsed": true,
    "tags": []
   },
   "source": [
    "## Q4. Create a hypothesis that states whether the average weight of male college students is greater than the average weight of female college students."
   ]
  },
  {
   "cell_type": "markdown",
   "id": "bde3144e-bfe9-4ce7-87f6-786bef7cbe2c",
   "metadata": {},
   "source": [
    "Here is a hypothesis statement that compares the average weight of male and female college students:\n",
    "\n",
    "Null Hypothesis: The average weight of male college students is equal to the average weight of female college students.\n",
    "\n",
    "Alternative Hypothesis: The average weight of male college students is greater than the average weight of female college students.\n",
    "\n",
    "Symbolically:\n",
    "\n",
    "H0: μ_male = μ_female\n",
    "Ha: μ_male > μ_female\n",
    "\n",
    "where H0 is the null hypothesis, Ha is the alternative hypothesis, μ_male is the population mean weight of male college students, and μ_female is the population mean weight of female college students.\n",
    "\n",
    "To test this hypothesis, we would need to collect a random sample of male and female college students, measure their weights, and perform a statistical analysis to determine whether there is enough evidence to reject the null hypothesis in favor of the alternative hypothesis."
   ]
  },
  {
   "cell_type": "markdown",
   "id": "198a4544-09b5-49c2-873f-115b25052f71",
   "metadata": {
    "jp-MarkdownHeadingCollapsed": true,
    "tags": []
   },
   "source": [
    "## Q5. Write a Python script to conduct a hypothesis test on the difference between two population means, given a sample from each population."
   ]
  },
  {
   "cell_type": "code",
   "execution_count": 4,
   "id": "5f3d47ef-447c-42ad-9f7a-95ce6b414a58",
   "metadata": {},
   "outputs": [
    {
     "name": "stdout",
     "output_type": "stream",
     "text": [
      "Reject the null hypothesis\n"
     ]
    }
   ],
   "source": [
    "# Here's an example Python script to conduct a hypothesis test on the difference between two population means, given a sample from each population. \n",
    "# We'll use a two-sample t-test for independent samples, assuming equal variances between the two populations:\n",
    "\n",
    "import scipy.stats as stats\n",
    "\n",
    "# Sample data from population 1\n",
    "sample1 = [23, 24, 26, 25, 27, 22, 28, 26, 24, 25]\n",
    "\n",
    "# Sample data from population 2\n",
    "sample2 = [19, 21, 20, 18, 22, 23, 20, 21, 19, 20]\n",
    "\n",
    "# Calculate the sample means and standard deviations\n",
    "mean1 = sum(sample1) / len(sample1)\n",
    "mean2 = sum(sample2) / len(sample2)\n",
    "std_dev1 = stats.tstd(sample1)\n",
    "std_dev2 = stats.tstd(sample2)\n",
    "\n",
    "# Set the significance level and degrees of freedom\n",
    "alpha = 0.05\n",
    "df = len(sample1) + len(sample2) - 2\n",
    "\n",
    "# Calculate the pooled standard deviation\n",
    "pooled_std_dev = math.sqrt(((len(sample1)-1)*std_dev1**2 + (len(sample2)-1)*std_dev2**2) / df)\n",
    "\n",
    "# Calculate the test statistic\n",
    "t = (mean1 - mean2) / (pooled_std_dev * math.sqrt(1/len(sample1) + 1/len(sample2)))\n",
    "\n",
    "# Calculate the p-value\n",
    "p_value = stats.t.sf(abs(t), df) * 2\n",
    "\n",
    "# Determine whether to reject or fail to reject the null hypothesis\n",
    "if p_value < alpha:\n",
    "    print(\"Reject the null hypothesis\")\n",
    "else:\n",
    "    print(\"Fail to reject the null hypothesis\")\n",
    "\n"
   ]
  },
  {
   "cell_type": "markdown",
   "id": "420f942c-585c-4170-a8e0-286a1935893b",
   "metadata": {},
   "source": [
    "In this example, we have two samples of weights from two populations, and we want to test whether there is a significant difference in the mean weights between the two populations. We calculate the sample means and standard deviations, then calculate the pooled standard deviation, test statistic, and p-value using the two-sample t-test formula. Finally, we compare the p-value to the significance level to determine whether to reject or fail to reject the null hypothesis. If we reject the null hypothesis, we can conclude that there is a significant difference in the mean weights between the two populations."
   ]
  },
  {
   "cell_type": "markdown",
   "id": "e576915c-93ec-41b3-b7b4-42488c116844",
   "metadata": {
    "jp-MarkdownHeadingCollapsed": true,
    "tags": []
   },
   "source": [
    "## Q6: What is a null and alternative hypothesis? Give some examples."
   ]
  },
  {
   "cell_type": "markdown",
   "id": "2e745795-b797-45cb-b33f-2e62ae97b001",
   "metadata": {},
   "source": [
    "In statistics, a null hypothesis (H0) is a statement about a population parameter that assumes there is no significant difference or relationship between variables, or that any observed differences or relationships are due to chance. An alternative hypothesis (Ha) is a statement that contradicts the null hypothesis and proposes that there is a significant difference or relationship between variables that is not due to chance.\n",
    "\n",
    "Here are some examples of null and alternative hypotheses:\n",
    "\n",
    "Null hypothesis: The average income of men and women in a company is the same.\n",
    "Alternative hypothesis: The average income of men and women in a company is different.\n",
    "\n",
    "Null hypothesis: The mean weight loss of two diet plans is the same.\n",
    "Alternative hypothesis: The mean weight loss of two diet plans is different.\n",
    "\n",
    "Null hypothesis: There is no association between smoking and lung cancer.\n",
    "Alternative hypothesis: There is a positive association between smoking and lung cancer.\n",
    "\n",
    "Null hypothesis: The average test scores of students in two schools are the same.\n",
    "Alternative hypothesis: The average test scores of students in two schools are different.\n",
    "\n",
    "Null hypothesis: There is no significant difference in the effectiveness of two medications.\n",
    "Alternative hypothesis: One medication is more effective than the other.\n",
    "\n",
    "In each example, the null hypothesis assumes that there is no significant difference or relationship between the variables being tested, while the alternative hypothesis proposes that there is a significant difference or relationship. These hypotheses are then tested using statistical methods to determine the level of confidence we can have in the results."
   ]
  },
  {
   "cell_type": "markdown",
   "id": "db5759a5-ab8e-4236-ba02-a2e3eb2f44fa",
   "metadata": {
    "jp-MarkdownHeadingCollapsed": true,
    "tags": []
   },
   "source": [
    "## Q7: Write down the steps involved in hypothesis testing."
   ]
  },
  {
   "cell_type": "markdown",
   "id": "bf15ae2b-e7fe-444c-8d7c-8a176adedbcd",
   "metadata": {},
   "source": [
    "Here are the general steps involved in hypothesis testing:\n",
    "\n",
    "Formulate the null and alternative hypotheses: This involves defining the population of interest, the parameter being tested, and the direction of the relationship.\n",
    "\n",
    "Determine the significance level (alpha): This is the level of risk you are willing to take in rejecting the null hypothesis when it is true. Common values for alpha are 0.05 or 0.01.\n",
    "\n",
    "Collect and summarize the data: This involves collecting a sample from the population, calculating sample statistics such as the sample mean and sample standard deviation, and checking for any outliers or errors in the data.\n",
    "\n",
    "Calculate the test statistic: This is a measure of how many standard deviations the sample statistic is away from the null hypothesis value. The test statistic depends on the type of test being conducted and the sample size.\n",
    "\n",
    "Determine the p-value: This is the probability of obtaining a test statistic as extreme or more extreme than the one observed, assuming the null hypothesis is true. The p-value depends on the test statistic, the direction of the relationship, and the sample size.\n",
    "\n",
    "Compare the p-value to the significance level: If the p-value is less than the significance level, reject the null hypothesis in favor of the alternative hypothesis. If the p-value is greater than the significance level, fail to reject the null hypothesis.\n",
    "\n",
    "Draw conclusions: Based on the results of the test, draw conclusions about the population parameter of interest. This may involve calculating a confidence interval, making predictions about future observations, or identifying any practical or theoretical implications of the results.\n",
    "\n",
    "It's important to note that these steps are general guidelines and may vary depending on the specific hypothesis test being conducted. Additionally, hypothesis testing is just one tool in the statistical toolbox and should be used in conjunction with other methods of data analysis and interpretation.\n",
    "\n",
    "\n",
    "\n",
    "\n"
   ]
  },
  {
   "cell_type": "markdown",
   "id": "d4a985ef-7d1b-42ff-a78c-7d89aa16d4d4",
   "metadata": {
    "jp-MarkdownHeadingCollapsed": true,
    "tags": []
   },
   "source": [
    "## Q8. Define p-value and explain its significance in hypothesis testing."
   ]
  },
  {
   "cell_type": "markdown",
   "id": "b78b83b6-55f2-40b1-ae79-4599b626d907",
   "metadata": {},
   "source": [
    "In hypothesis testing, the p-value is the probability of obtaining a test statistic as extreme or more extreme than the one observed, assuming the null hypothesis is true. In other words, the p-value tells us how likely it is to get the observed result if the null hypothesis is true.\n",
    "\n",
    "The significance of the p-value in hypothesis testing is that it allows us to make a decision about whether to reject or fail to reject the null hypothesis. Generally, a small p-value (e.g. less than 0.05 or 0.01) indicates strong evidence against the null hypothesis, and suggests that the alternative hypothesis is more likely to be true. This means that we can reject the null hypothesis and conclude that there is a significant difference or relationship between the variables being tested.\n",
    "\n",
    "On the other hand, a large p-value suggests weak evidence against the null hypothesis, and we fail to reject the null hypothesis. This means that there is not enough evidence to support the alternative hypothesis, and we conclude that there is no significant difference or relationship between the variables being tested.\n",
    "\n",
    "It's important to note that the p-value alone does not tell us the magnitude of the effect or the practical significance of the results. Additionally, the interpretation of the p-value depends on the chosen significance level (alpha), which is the level of risk you are willing to take in rejecting the null hypothesis when it is true."
   ]
  },
  {
   "cell_type": "markdown",
   "id": "738b4dbf-8b64-468f-833d-cb7be9a168ca",
   "metadata": {
    "jp-MarkdownHeadingCollapsed": true,
    "tags": []
   },
   "source": [
    "## Q9. Generate a Student's t-distribution plot using Python's matplotlib library, with the degrees of freedom parameter set to 10."
   ]
  },
  {
   "cell_type": "code",
   "execution_count": 6,
   "id": "83930ae5-dd56-4263-bc5a-0264e7173b53",
   "metadata": {},
   "outputs": [
    {
     "data": {
      "image/png": "[encoded data removed]",
      "text/plain": [
       "<Figure size 640x480 with 1 Axes>"
      ]
     },
     "metadata": {},
     "output_type": "display_data"
    }
   ],
   "source": [
    "import numpy as np\n",
    "import matplotlib.pyplot as plt\n",
    "\n",
    "df = 10  # degrees of freedom\n",
    "x = np.linspace(-5, 5, 1000)\n",
    "y = stats.t.pdf(x, df)\n",
    "\n",
    "plt.plot(x, y)\n",
    "plt.title(\"Student's t-Distribution with df = 10\")\n",
    "plt.xlabel(\"x\")\n",
    "plt.ylabel(\"Probability density\")\n",
    "plt.show()\n"
   ]
  },
  {
   "cell_type": "markdown",
   "id": "f7c6cb59-f502-4975-a1b0-8f90c42259db",
   "metadata": {},
   "source": [
    "This code first imports the necessary libraries numpy and matplotlib.pyplot. The degrees of freedom parameter is set to 10 using the variable df. The linspace function from numpy is used to generate 1000 evenly spaced points between -5 and 5, which are then used as the x-axis values for the plot. The stats.t.pdf function from scipy.stats calculates the probability density function values for each x value using the Student's t-distribution with the specified degrees of freedom. Finally, the plot is displayed using the plt.show() function."
   ]
  },
  {
   "cell_type": "markdown",
   "id": "f9067beb-062b-4ae2-a0e7-cbfe679bd8de",
   "metadata": {
    "jp-MarkdownHeadingCollapsed": true,
    "tags": []
   },
   "source": [
    "## Q10. Write a Python program to calculate the two-sample t-test for independent samples, given two random samples of equal size and a null hypothesis that the population means are equal."
   ]
  },
  {
   "cell_type": "code",
   "execution_count": 9,
   "id": "7d6c81bb-789b-4921-b45c-235862dc0c66",
   "metadata": {},
   "outputs": [
    {
     "name": "stdout",
     "output_type": "stream",
     "text": [
      "t-statistic:  -2.901725538023056\n",
      "p-value:  0.004583292663055767\n"
     ]
    }
   ],
   "source": [
    "# <!-- Here's an example code snippet to calculate the two-sample t-test for independent samples in Python, given two random samples of equal size and a null hypothesis that the population means are equal: -->\n",
    "\n",
    "import numpy as np\n",
    "from scipy.stats import ttest_ind\n",
    "\n",
    "# Generate two random samples of equal size\n",
    "sample1 = np.random.normal(10, 2, size=50)\n",
    "sample2 = np.random.normal(12, 2, size=50)\n",
    "\n",
    "# Perform two-sample t-test with equal variances assumed\n",
    "t_stat, p_value = ttest_ind(sample1, sample2)\n",
    "\n",
    "# Print the results\n",
    "print(\"t-statistic: \", t_stat)\n",
    "print(\"p-value: \", p_value)\n",
    "\n",
    "\n",
    "\n",
    "# <!-- In this example, we first import the necessary libraries numpy and scipy.stats. We generate two random samples of size 50 from normal distributions with mean 10 and standard deviation 2 (for sample 1) and mean 12 and standard deviation 2 (for sample 2). We then use the ttest_ind function from scipy.stats to perform the two-sample t-test assuming equal variances between the two groups.\n",
    "\n",
    "# The function returns the t-statistic and the p-value of the test. The t-statistic measures the difference between the means of the two samples, normalized by the standard error of the difference. The p-value represents the probability of observing a t-statistic as extreme or more extreme than the one observed, assuming the null hypothesis that the population means are equal.\n",
    "\n",
    "# Finally, we print the results using the print function. -->"
   ]
  },
  {
   "cell_type": "markdown",
   "id": "97067037-dacc-4d13-8227-bedb2ea562be",
   "metadata": {
    "jp-MarkdownHeadingCollapsed": true,
    "tags": []
   },
   "source": [
    "## Q11: What is Student’s t distribution? When to use the t-Distribution."
   ]
  },
  {
   "cell_type": "markdown",
   "id": "85fcc5b3-5924-47b3-a3bd-0d3c866a8b9e",
   "metadata": {},
   "source": [
    "Student's t-distribution is a probability distribution that is used to model the sampling distribution of the mean when the sample size is small and the population standard deviation is unknown. It was first introduced by William Gosset, who wrote under the pseudonym \"Student\".\n",
    "\n",
    "The t-distribution is similar in shape to the normal distribution, but has heavier tails and is more spread out. The exact shape of the t-distribution depends on the degrees of freedom (df), which is calculated as n-1, where n is the sample size. As the degrees of freedom increase, the t-distribution approaches the normal distribution.\n",
    "\n",
    "The t-distribution is used when we want to make inferences about the population mean based on a small sample size and when the population standard deviation is unknown. It is commonly used in hypothesis testing to test whether the mean of a sample is significantly different from a known or hypothesized value. The t-distribution is also used in confidence interval estimation for the population mean.\n",
    "\n",
    "In summary, the t-distribution is used when:\n",
    "\n",
    "The sample size is small (less than 30) and/or the population standard deviation is unknown.\n",
    "We want to make inferences about the population mean based on a sample.\n",
    "We want to test hypotheses or construct confidence intervals for the population mean."
   ]
  },
  {
   "cell_type": "markdown",
   "id": "14403f68-1f74-4d96-8e65-7591cb88b290",
   "metadata": {
    "jp-MarkdownHeadingCollapsed": true,
    "tags": []
   },
   "source": [
    "## Q12: What is t-statistic? State the formula for t-statistic."
   ]
  },
  {
   "cell_type": "markdown",
   "id": "50ef8560-6da7-4347-b90c-5308bbfe23c0",
   "metadata": {},
   "source": [
    "In statistics, the t-statistic is a measure of the difference between the sample mean and the population mean, expressed in terms of the standard error of the mean. It is used to test hypotheses about the population mean when the sample size is small or when the population variance is unknown.\n",
    "\n",
    "The formula for the t-statistic is:\n",
    "\n",
    "t = (x̄ - μ) / (s / sqrt(n))\n",
    "\n",
    "where:\n",
    "\n",
    "x̄ is the sample mean\n",
    "μ is the hypothesized population mean\n",
    "s is the sample standard deviation\n",
    "n is the sample size\n",
    "The t-statistic measures how many standard errors the sample mean is away from the hypothesized population mean. The larger the t-statistic, the more evidence we have against the null hypothesis that the population mean is equal to the hypothesized value.\n",
    "\n",
    "The t-statistic follows a t-distribution with n-1 degrees of freedom, where n is the sample size. We can use the t-distribution to calculate the probability of observing a t-statistic as extreme or more extreme than the one observed, assuming the null hypothesis is true. This probability is commonly known as the p-value, and is used to make statistical inferences and test hypotheses."
   ]
  },
  {
   "cell_type": "markdown",
   "id": "e14a3f2c-83b3-4748-b363-c1aac02fbdd8",
   "metadata": {
    "jp-MarkdownHeadingCollapsed": true,
    "tags": []
   },
   "source": [
    "## Q13. A coffee shop owner wants to estimate the average daily revenue for their shop. They take a random sample of 50 days and find the sample mean revenue to be $500 with a standard deviation of $50. Estimate the population mean revenue with a 95% confidence interval."
   ]
  },
  {
   "cell_type": "markdown",
   "id": "6ba52d25-b67c-427c-818f-bc69637bf7e2",
   "metadata": {},
   "source": [
    "We can use the t-distribution and the sample statistics to construct a 95% confidence interval for the population mean revenue.\n",
    "\n",
    "The formula for the confidence interval is:\n",
    "\n",
    "CI = x̄ ± tα/2 * (s / sqrt(n))\n",
    "\n",
    "where:\n",
    "\n",
    "x̄ is the sample mean revenue\n",
    "tα/2 is the t-value for the desired level of confidence and n-1 degrees of freedom (for a 95% confidence level and 49 degrees of freedom, tα/2 is approximately 2.009)\n",
    "s is the sample standard deviation of revenue\n",
    "n is the sample size (50)\n",
    "Substituting the values given in the problem, we get:\n",
    "\n",
    "CI = 500 ± 2.009 * (50 / sqrt(50))\n",
    "CI = 500 ± 14.2\n",
    "\n",
    "Therefore, the 95% confidence interval for the population mean revenue is ($485.8, $514.2). We can be 95% confident that the true population mean revenue falls within this interval."
   ]
  },
  {
   "cell_type": "markdown",
   "id": "c3284c88-c36c-4a57-8039-2180fa42333c",
   "metadata": {
    "jp-MarkdownHeadingCollapsed": true,
    "tags": []
   },
   "source": [
    "## Q14. A researcher hypothesizes that a new drug will decrease blood pressure by 10 mmHg. They conduct a clinical trial with 100 patients and find that the sample mean decrease in blood pressure is 8 mmHg with a standard deviation of 3 mmHg. Test the hypothesis with a significance level of 0.05."
   ]
  },
  {
   "cell_type": "markdown",
   "id": "3c4af552-9084-46fb-9d8d-269b94f23d25",
   "metadata": {},
   "source": [
    "To test the researcher's hypothesis, we need to set up the null and alternative hypotheses.\n",
    "\n",
    "Null hypothesis (H0): The true population mean decrease in blood pressure is equal to 10 mmHg.\n",
    "Alternative hypothesis (Ha): The true population mean decrease in blood pressure is less than 10 mmHg.\n",
    "\n",
    "We can use a one-sample t-test to test this hypothesis, with a significance level of 0.05.\n",
    "\n",
    "The formula for the t-statistic is:\n",
    "\n",
    "t = (x̄ - μ) / (s / sqrt(n))\n",
    "\n",
    "where:\n",
    "\n",
    "x̄ is the sample mean decrease in blood pressure (8 mmHg)\n",
    "μ is the hypothesized population mean decrease in blood pressure (10 mmHg)\n",
    "s is the sample standard deviation of decrease in blood pressure (3 mmHg)\n",
    "n is the sample size (100)\n",
    "Substituting the values given in the problem, we get:\n",
    "\n",
    "t = (8 - 10) / (3 / sqrt(100))\n",
    "t = -2.67\n",
    "\n",
    "The degrees of freedom for this test is 99 (n-1), which we can use to find the critical t-value for a one-tailed test with a significance level of 0.05. From a t-distribution table or calculator, we find that the critical t-value is -1.660.\n",
    "\n",
    "Since the calculated t-value (-2.67) is less than the critical t-value (-1.660), we can reject the null hypothesis and conclude that there is sufficient evidence to support the alternative hypothesis. In other words, we can conclude that the new drug does decrease blood pressure by more than 10 mmHg at a significance level of 0.05."
   ]
  },
  {
   "cell_type": "markdown",
   "id": "e48107e8-7cb4-4590-82e4-1286c4109045",
   "metadata": {
    "jp-MarkdownHeadingCollapsed": true,
    "tags": []
   },
   "source": [
    "## Q15. An electronics company produces a certain type of product with a mean weight of 5 pounds and a standard deviation of 0.5 pounds. A random sample of 25 products is taken, and the sample mean weight is found to be 4.8 pounds. Test the hypothesis that the true mean weight of the products is less than 5 pounds with a significance level of 0.01."
   ]
  },
  {
   "cell_type": "markdown",
   "id": "33fadc1a-4d6b-4fe2-bec8-b363baba0e0e",
   "metadata": {},
   "source": [
    "To test the hypothesis, we need to set up the null and alternative hypotheses:\n",
    "\n",
    "Null hypothesis (H0): The true population mean weight of the products is equal to 5 pounds.\n",
    "Alternative hypothesis (Ha): The true population mean weight of the products is less than 5 pounds.\n",
    "\n",
    "We can use a one-sample t-test to test this hypothesis, with a significance level of 0.01.\n",
    "\n",
    "The formula for the t-statistic is:\n",
    "\n",
    "t = (x̄ - μ) / (s / sqrt(n))\n",
    "\n",
    "where:\n",
    "\n",
    "x̄ is the sample mean weight (4.8 pounds)\n",
    "μ is the hypothesized population mean weight (5 pounds)\n",
    "s is the sample standard deviation of the weights (0.5 pounds)\n",
    "n is the sample size (25)\n",
    "Substituting the values given in the problem, we get:\n",
    "\n",
    "t = (4.8 - 5) / (0.5 / sqrt(25))\n",
    "t = -2.0\n",
    "\n",
    "The degrees of freedom for this test is 24 (n-1), which we can use to find the critical t-value for a one-tailed test with a significance level of 0.01. From a t-distribution table or calculator, we find that the critical t-value is -2.492.\n",
    "\n",
    "Since the calculated t-value (-2.0) is greater than the critical t-value (-2.492), we fail to reject the null hypothesis and conclude that there is insufficient evidence to support the alternative hypothesis. In other words, we cannot conclude that the true mean weight of the products is less than 5 pounds at a significance level of 0.01."
   ]
  },
  {
   "cell_type": "markdown",
   "id": "a633c135-75f9-40f5-8f6f-6502d5b6d5c5",
   "metadata": {
    "jp-MarkdownHeadingCollapsed": true,
    "tags": []
   },
   "source": [
    "## Q16. Two groups of students are given different study materials to prepare for a test. The first group (n1 = 30) has a mean score of 80 with a standard deviation of 10, and the second group (n2 = 40) has a mean score of 75 with a standard deviation of 8. Test the hypothesis that the population means for the two groups are equal with a significance level of 0.01."
   ]
  },
  {
   "cell_type": "markdown",
   "id": "aad96ce3-3995-492b-bb56-6518914031ac",
   "metadata": {},
   "source": [
    "To test the hypothesis that the population means for the two groups are equal, we can use a two-sample t-test for independent samples. The null and alternative hypotheses are:\n",
    "\n",
    "Null hypothesis (H0): μ1 = μ2 (the population means for the two groups are equal)\n",
    "Alternative hypothesis (Ha): μ1 ≠ μ2 (the population means for the two groups are not equal)\n",
    "\n",
    "We can use a significance level of 0.01 for this test.\n",
    "\n",
    "The formula for the t-statistic for independent samples is:\n",
    "\n",
    "t = (x̄1 - x̄2 - d) / sqrt(s1^2/n1 + s2^2/n2)\n",
    "\n",
    "where:\n",
    "\n",
    "x̄1 and x̄2 are the sample means for the two groups (80 and 75, respectively)\n",
    "s1 and s2 are the sample standard deviations for the two groups (10 and 8, respectively)\n",
    "n1 and n2 are the sample sizes for the two groups (30 and 40, respectively)\n",
    "d is the hypothesized difference between the population means (0 for this test)\n",
    "Substituting the values given in the problem, we get:\n",
    "\n",
    "t = (80 - 75 - 0) / sqrt(10^2/30 + 8^2/40)\n",
    "t = 1.65\n",
    "\n",
    "The degrees of freedom for this test is df = n1 + n2 - 2 = 68, which we can use to find the critical t-value for a two-tailed test with a significance level of 0.01/2 = 0.005. From a t-distribution table or calculator, we find that the critical t-value is ±2.625.\n",
    "\n",
    "Since the calculated t-value (1.65) is less than the critical t-value (-2.625 or 2.625), we fail to reject the null hypothesis and conclude that there is insufficient evidence to support the alternative hypothesis. In other words, we cannot conclude that the population means for the two groups are not equal at a significance level of 0.01."
   ]
  },
  {
   "cell_type": "markdown",
   "id": "be0a1695-2fdd-4f6e-9f26-b96f60b330ca",
   "metadata": {
    "jp-MarkdownHeadingCollapsed": true,
    "tags": []
   },
   "source": [
    "## Q17. A marketing company wants to estimate the average number of ads watched by viewers during a TV program. They take a random sample of 50 viewers and find that the sample mean is 4 with a standard deviation of 1.5. Estimate the population mean with a 99% confidence interval."
   ]
  },
  {
   "cell_type": "markdown",
   "id": "1b559004-61b5-4ec3-ac75-a3b7a3138c21",
   "metadata": {},
   "source": [
    "To estimate the population mean with a 99% confidence interval, we can use the following formula:\n",
    "\n",
    "Confidence interval = sample mean ± margin of error\n",
    "\n",
    "where the margin of error is calculated as:\n",
    "\n",
    "Margin of error = critical value x (standard deviation / sqrt(sample size))\n",
    "\n",
    "First, we need to find the critical value using the t-distribution table with a degree of freedom of n-1 = 49 and a confidence level of 99%. The critical value for a two-tailed test is 2.680.\n",
    "\n",
    "Next, we can plug in the values into the formula:\n",
    "\n",
    "Margin of error = 2.680 x (1.5 / sqrt(50)) = 0.544\n",
    "\n",
    "Confidence interval = 4 ± 0.544 = [3.456, 4.544]\n",
    "\n",
    "Therefore, we can say with 99% confidence that the true average number of ads watched by viewers during a TV program is between 3.456 and 4.544."
   ]
  }
 ],
 "metadata": {
  "kernelspec": {
   "display_name": "Python 3 (ipykernel)",
   "language": "python",
   "name": "python3"
  },
  "language_info": {
   "codemirror_mode": {
    "name": "ipython",
    "version": 3
   },
   "file_extension": ".py",
   "mimetype": "text/x-python",
   "name": "python",
   "nbconvert_exporter": "python",
   "pygments_lexer": "ipython3",
   "version": "3.10.8"
  }
 },
 "nbformat": 4,
 "nbformat_minor": 5
}
