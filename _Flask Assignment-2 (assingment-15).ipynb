{
 "cells": [
  {
   "cell_type": "markdown",
   "id": "6d26e74a-3db0-4bd8-aeed-41d27ee121a6",
   "metadata": {},
   "source": [
    "## Q1. Explain GET and POST methods."
   ]
  },
  {
   "cell_type": "markdown",
   "id": "5ba4ceaf-11c2-4eb4-887b-42f3925b7805",
   "metadata": {},
   "source": [
    "GET and POST are two of the most commonly used HTTP methods used in web applications for sending data between the client and server.\n",
    "\n",
    "GET:\n",
    "The GET method is used to request data from a specified resource, and the data is sent as a query string in the URL. In other words, the data is visible in the URL. GET requests are usually used to retrieve data, such as web pages or API endpoints. Since the data is visible in the URL, GET requests are not recommended for sending sensitive information, such as passwords or credit card numbers.\n",
    "\n",
    "POST:\n",
    "The POST method is used to submit data to a specified resource, such as submitting a form or creating a new resource. The data is sent in the body of the request and is not visible in the URL. POST requests are recommended for sending sensitive information, such as passwords or credit card numbers, as the data is not visible in the URL.\n",
    "\n",
    "The main differences between GET and POST methods are:\n",
    "\n",
    "GET requests are used to retrieve data, while POST requests are used to submit data.\n",
    "GET requests send data in the URL query string, while POST requests send data in the body of the request.\n",
    "GET requests are less secure as the data is visible in the URL, while POST requests are more secure as the data is not visible in the URL.\n",
    "In summary, GET requests are used to retrieve data, while POST requests are used to submit data, and developers should choose the appropriate method based on the type of data being sent and the level of security required."
   ]
  },
  {
   "cell_type": "markdown",
   "id": "82710e11-f3ef-4846-b537-ef6943dfdf20",
   "metadata": {},
   "source": [
    "## Q2. Why is request used in Flask?"
   ]
  },
  {
   "cell_type": "markdown",
   "id": "dfe00ebd-8686-4236-943e-0bb519d131df",
   "metadata": {},
   "source": [
    "In Flask, the request object is used to access incoming HTTP request data sent from the client to the server.\n",
    "\n",
    "When a client (such as a web browser) sends a request to a Flask web application, the request data is sent to the Flask server. The request object is then used to access this data, which can include information such as form data, query parameters, and headers.\n",
    "\n",
    "The request object in Flask provides various methods and attributes to access this data. For example, the request.method attribute is used to get the HTTP method used in the request (such as GET or POST), while the request.args attribute is used to access query parameters sent in the URL.\n",
    "\n",
    "Some common use cases of the request object in Flask include:\n",
    "\n",
    "Retrieving form data submitted by the user\n",
    "Accessing query parameters sent in the URL\n",
    "Getting the HTTP method used in the request\n",
    "Accessing headers sent in the request\n",
    "Overall, the request object is a crucial component of Flask applications as it allows developers to access and process incoming request data from clients."
   ]
  },
  {
   "cell_type": "markdown",
   "id": "3e174edf-c4bc-47fd-b44d-7d85e9a53a02",
   "metadata": {},
   "source": [
    "## Q3. Why is redirect() used in Flask?"
   ]
  },
  {
   "cell_type": "markdown",
   "id": "80bc0a61-fa3b-4873-8730-a44e1bb646e3",
   "metadata": {},
   "source": [
    "In Flask, the redirect() function is used to redirect the client's web browser to a different URL. This is typically used after performing a task on the server, such as submitting a form or updating data in a database, where the user should be redirected to a different page or URL.\n",
    "\n",
    "The redirect() function returns an HTTP response with a 302 status code, indicating that the requested resource has been temporarily moved to a different URL. The client's web browser then automatically sends a new request to the new URL, and the server responds with the appropriate content.\n",
    "\n",
    "The redirect() function takes a single argument, which is the URL to redirect to. This can be a URL defined within the Flask application or an external URL.\n",
    "\n",
    "Here's an example of using the redirect() function in Flask to redirect the user to a new URL after submitting a form:"
   ]
  },
  {
   "cell_type": "code",
   "execution_count": 2,
   "id": "9348e923-ef17-407a-8968-417c491efb71",
   "metadata": {},
   "outputs": [],
   "source": [
    "# from flask import Flask, redirect, request\n",
    "\n",
    "# app = Flask(__name__)\n",
    "\n",
    "# @app.route('/submit_form', methods=['POST'])\n",
    "# def submit_form():\n",
    "#     # process form data here\n",
    "#     return redirect('/thank_you')\n",
    "\n",
    "# @app.route('/thank_you')\n",
    "# def thank_you():\n",
    "#     return 'Thank you for submitting the form!'\n",
    "\n",
    "# if __name__ == '__main__':\n",
    "#     app.run()\n"
   ]
  },
  {
   "cell_type": "markdown",
   "id": "9adf3c06-f5cd-4b7c-a682-d52237092e4e",
   "metadata": {},
   "source": [
    "In this example, when the user submits the form to the /submit_form URL, the submit_form() function processes the form data and then calls the redirect() function to redirect the user to the /thank_you URL, where a thank you message is displayed.\n",
    "\n",
    "Overall, the redirect() function is a useful tool for navigating users to different parts of a Flask application or to external websites."
   ]
  },
  {
   "cell_type": "markdown",
   "id": "94597fb9-7ac5-49dd-9a00-7bc78c33159f",
   "metadata": {},
   "source": [
    "## Q4. What are templates in Flask? Why is the render_template() function used?"
   ]
  },
  {
   "cell_type": "markdown",
   "id": "fd0aa153-9551-49fd-aedd-dd4ea30b9651",
   "metadata": {},
   "source": [
    "In Flask, templates are used to separate the presentation logic (HTML, CSS, and JavaScript) from the application logic (Python code). Templates are files that contain a mixture of static content and placeholders (variables) that will be filled in with dynamic data when the template is rendered.\n",
    "\n",
    "The render_template() function in Flask is used to render a specified template and return the resulting HTML to the client's web browser. The render_template() function takes at least one argument, which is the name of the template to be rendered, and optionally additional keyword arguments that will be passed to the template context."
   ]
  },
  {
   "cell_type": "markdown",
   "id": "48977ace-2d62-4afe-af68-f6b05f303951",
   "metadata": {},
   "source": [
    "## Q5. Create a simple API. Use Postman to test it. Attach the screenshot of the output in the Jupyter Notebook."
   ]
  },
  {
   "cell_type": "code",
   "execution_count": null,
   "id": "dbea02c9-7080-4e1c-aff2-baa67078b127",
   "metadata": {},
   "outputs": [],
   "source": [
    "# from flask import Flask, jsonify\n",
    "\n",
    "# app = Flask(__name__)\n",
    "\n",
    "# @app.route('/api/hello')\n",
    "# def hello():\n",
    "#     response = {'message': 'Hello, World!'}\n",
    "#     return jsonify(response)\n",
    "\n",
    "# if __name__ == '__main__':\n",
    "#     app.run()\n"
   ]
  },
  {
   "cell_type": "code",
   "execution_count": null,
   "id": "1d3f7699-1e75-4e8a-9e16-389923b76a0c",
   "metadata": {},
   "outputs": [],
   "source": [
    "## not able to add images:"
   ]
  },
  {
   "cell_type": "code",
   "execution_count": null,
   "id": "2f1554ab-6c14-494c-b02c-8113958f9dbf",
   "metadata": {},
   "outputs": [],
   "source": []
  },
  {
   "cell_type": "code",
   "execution_count": null,
   "id": "a100a896-c041-48b4-b769-b1e39f9da185",
   "metadata": {},
   "outputs": [],
   "source": []
  },
  {
   "cell_type": "code",
   "execution_count": null,
   "id": "95ca565b-1892-4bc6-91c1-aed61b21bb39",
   "metadata": {},
   "outputs": [],
   "source": []
  },
  {
   "cell_type": "code",
   "execution_count": null,
   "id": "9dffcb14-e5d6-4c71-a5e8-9bdbd12db0ee",
   "metadata": {},
   "outputs": [],
   "source": []
  },
  {
   "cell_type": "code",
   "execution_count": null,
   "id": "39b12915-22de-4cc1-82b4-a225cc945b73",
   "metadata": {},
   "outputs": [],
   "source": []
  },
  {
   "cell_type": "code",
   "execution_count": null,
   "id": "3f1bdf4b-faaf-4e89-a53e-0a9877d78a8a",
   "metadata": {},
   "outputs": [],
   "source": []
  }
 ],
 "metadata": {
  "kernelspec": {
   "display_name": "Python 3 (ipykernel)",
   "language": "python",
   "name": "python3"
  },
  "language_info": {
   "codemirror_mode": {
    "name": "ipython",
    "version": 3
   },
   "file_extension": ".py",
   "mimetype": "text/x-python",
   "name": "python",
   "nbconvert_exporter": "python",
   "pygments_lexer": "ipython3",
   "version": "3.10.8"
  }
 },
 "nbformat": 4,
 "nbformat_minor": 5
}
