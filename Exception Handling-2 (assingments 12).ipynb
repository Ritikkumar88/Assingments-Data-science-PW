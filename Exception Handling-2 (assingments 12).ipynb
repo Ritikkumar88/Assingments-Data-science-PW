{
 "cells": [
  {
   "cell_type": "markdown",
   "id": "ff6fcb5e-68db-4b88-a889-6f30d08ebd99",
   "metadata": {
    "jp-MarkdownHeadingCollapsed": true,
    "tags": []
   },
   "source": [
    "## Q1. Explain why we have to use the Exception class while creating a Custom Exception."
   ]
  },
  {
   "cell_type": "markdown",
   "id": "3adcdc74-f9d2-473c-abda-4e581f948bb2",
   "metadata": {},
   "source": [
    "In Python, all built-in exceptions are derived from the Exception class. When we create a custom exception, we are essentially creating a new exception class that is specific to our application or use case.\n",
    "\n",
    "To create a custom exception in Python, we need to define a new class that inherits from the Exception class. By inheriting from the Exception class, our custom exception will have all the properties and behaviors of a standard Python exception. This includes features such as a message attribute, the ability to be caught by an except block, and the ability to be raised with the raise statement.\n",
    "\n",
    "For example, let's say we want to create a custom exception called InvalidInputError that we can use to handle invalid input in our application. We can define this exception as follows:"
   ]
  },
  {
   "cell_type": "code",
   "execution_count": 1,
   "id": "b2bcfa19-3da5-4b56-9997-4502482deb08",
   "metadata": {},
   "outputs": [],
   "source": [
    "class InvalidInputError(Exception):\n",
    "    pass\n"
   ]
  },
  {
   "cell_type": "markdown",
   "id": "413b5203-d6e4-41cb-b2d4-6ba297d3c600",
   "metadata": {},
   "source": [
    "In the above code, we defined a new class called InvalidInputError that inherits from the Exception class. This new class can be used to create instances of our custom exception, which can then be raised and caught like any other exception.\n",
    "\n",
    "Therefore, we use the Exception class as the base class for our custom exception so that our custom exception will have all the standard behaviors and properties of a Python exception."
   ]
  },
  {
   "cell_type": "markdown",
   "id": "8988878c-1fdd-4bdf-a603-629a4178db19",
   "metadata": {
    "jp-MarkdownHeadingCollapsed": true,
    "tags": []
   },
   "source": [
    "## Q2. Write a python program to print Python Exception Hierarchy."
   ]
  },
  {
   "cell_type": "code",
   "execution_count": 3,
   "id": "9e487bd4-3fa1-4baf-b6b1-3b88e6439169",
   "metadata": {},
   "outputs": [
    {
     "name": "stdout",
     "output_type": "stream",
     "text": [
      "ArithmeticError\n",
      "  Exception\n",
      "  BaseException\n",
      "AssertionError\n",
      "  Exception\n",
      "  BaseException\n",
      "AttributeError\n",
      "  Exception\n",
      "  BaseException\n",
      "BlockingIOError\n",
      "  OSError\n",
      "  Exception\n",
      "  BaseException\n",
      "BrokenPipeError\n",
      "  ConnectionError\n",
      "  OSError\n",
      "  Exception\n",
      "  BaseException\n",
      "BufferError\n",
      "  Exception\n",
      "  BaseException\n",
      "BytesWarning\n",
      "  Warning\n",
      "  Exception\n",
      "  BaseException\n",
      "ChildProcessError\n",
      "  OSError\n",
      "  Exception\n",
      "  BaseException\n",
      "ConnectionAbortedError\n",
      "  ConnectionError\n",
      "  OSError\n",
      "  Exception\n",
      "  BaseException\n",
      "ConnectionError\n",
      "  OSError\n",
      "  Exception\n",
      "  BaseException\n",
      "ConnectionRefusedError\n",
      "  ConnectionError\n",
      "ConnectionResetError\n",
      "  ConnectionError\n",
      "DeprecationWarning\n",
      "  Warning\n",
      "  Exception\n",
      "  BaseException\n",
      "EOFError\n",
      "  Exception\n",
      "  BaseException\n",
      "EncodingWarning\n",
      "  Warning\n",
      "  Exception\n",
      "  BaseException\n",
      "EnvironmentError\n",
      "  Exception\n",
      "  BaseException\n",
      "Exception\n",
      "  BaseException\n",
      "FileExistsError\n",
      "  OSError\n",
      "  Exception\n",
      "FileNotFoundError\n",
      "  OSError\n",
      "  Exception\n",
      "FloatingPointError\n",
      "  ArithmeticError\n",
      "FutureWarning\n",
      "  Warning\n",
      "  Exception\n",
      "IOError\n",
      "  Exception\n",
      "ImportError\n",
      "  Exception\n",
      "ImportWarning\n",
      "  Warning\n",
      "  Exception\n",
      "IndentationError\n",
      "  SyntaxError\n",
      "  Exception\n",
      "IndexError\n",
      "  LookupError\n",
      "  Exception\n",
      "InterruptedError\n",
      "  OSError\n",
      "  Exception\n",
      "IsADirectoryError\n",
      "  OSError\n",
      "  Exception\n",
      "KeyError\n",
      "  LookupError\n",
      "  Exception\n",
      "LookupError\n",
      "  Exception\n",
      "MemoryError\n",
      "  Exception\n",
      "ModuleNotFoundError\n",
      "  ImportError\n",
      "NameError\n",
      "  Exception\n",
      "NotADirectoryError\n",
      "  OSError\n",
      "  Exception\n",
      "NotImplementedError\n",
      "  RuntimeError\n",
      "  Exception\n",
      "OSError\n",
      "  Exception\n",
      "OverflowError\n",
      "  ArithmeticError\n",
      "PendingDeprecationWarning\n",
      "  Warning\n",
      "  Exception\n",
      "PermissionError\n",
      "  OSError\n",
      "ProcessLookupError\n",
      "  OSError\n",
      "RecursionError\n",
      "  RuntimeError\n",
      "  Exception\n",
      "ReferenceError\n",
      "  Exception\n",
      "ResourceWarning\n",
      "  Warning\n",
      "  Exception\n",
      "RuntimeError\n",
      "  Exception\n",
      "RuntimeWarning\n",
      "  Warning\n",
      "  Exception\n",
      "StopAsyncIteration\n",
      "  Exception\n",
      "StopIteration\n",
      "  Exception\n",
      "SyntaxError\n",
      "  Exception\n",
      "SyntaxWarning\n",
      "  Warning\n",
      "  Exception\n",
      "SystemError\n",
      "  Exception\n",
      "TabError\n",
      "  IndentationError\n",
      "TimeoutError\n",
      "  OSError\n",
      "TypeError\n",
      "  Exception\n",
      "UnboundLocalError\n",
      "  NameError\n",
      "UnicodeDecodeError\n",
      "  UnicodeError\n",
      "  ValueError\n",
      "  Exception\n",
      "UnicodeEncodeError\n",
      "  UnicodeError\n",
      "  ValueError\n",
      "  Exception\n",
      "UnicodeError\n",
      "  ValueError\n",
      "  Exception\n",
      "UnicodeTranslateError\n",
      "  UnicodeError\n",
      "UnicodeWarning\n",
      "  Warning\n",
      "  Exception\n",
      "UserWarning\n",
      "  Warning\n",
      "  Exception\n",
      "ValueError\n",
      "  Exception\n",
      "Warning\n",
      "  Exception\n",
      "ZeroDivisionError\n",
      "  ArithmeticError\n"
     ]
    }
   ],
   "source": [
    "# Get the built-in exception hierarchy\n",
    "exception_hierarchy = {}\n",
    "for exc in dir(__builtins__):\n",
    "    if isinstance(getattr(__builtins__, exc), type) and issubclass(getattr(__builtins__, exc), Exception):\n",
    "        exception_hierarchy[exc] = [base_exc.__name__ for base_exc in getattr(__builtins__, exc).__bases__]\n",
    "\n",
    "# Print the hierarchy\n",
    "for exc in exception_hierarchy:\n",
    "    print(exc)\n",
    "    base_exc_list = exception_hierarchy[exc]\n",
    "    while len(base_exc_list) > 0:\n",
    "        base_exc = base_exc_list.pop(0)\n",
    "        print('  ' + base_exc)\n",
    "        if base_exc in exception_hierarchy:\n",
    "            base_base_exc_list = exception_hierarchy[base_exc]\n",
    "            base_exc_list.extend(base_base_exc_list)\n"
   ]
  },
  {
   "cell_type": "markdown",
   "id": "583389e3-7b1b-4ae5-9d73-e9bada83ae34",
   "metadata": {},
   "source": [
    "This program works by first creating a dictionary called exception_hierarchy that maps each built-in exception class to a list of its base exception classes. It does this by iterating over all the attributes in the __builtins__ module and finding those that are exception classes. For each exception class, it gets its base classes using the __bases__ attribute.\n",
    "\n",
    "The program then prints the hierarchy by iterating over the keys in the exception_hierarchy dictionary. For each exception class, it first prints the class name and then iterates over its base classes. It prints each base class name indented with two spaces. If a base class is also in the exception_hierarchy dictionary, then it adds its base classes to the base_exc_list so that they will be printed as well."
   ]
  },
  {
   "cell_type": "markdown",
   "id": "0973c487-60ce-454b-812e-66cc147564c9",
   "metadata": {
    "jp-MarkdownHeadingCollapsed": true,
    "tags": []
   },
   "source": [
    "## Q3. What errors are defined in the ArithmeticError class? Explain any two with an example."
   ]
  },
  {
   "cell_type": "markdown",
   "id": "8f2a8492-d14e-4eba-b9a7-8c64234d5752",
   "metadata": {},
   "source": [
    "The ArithmeticError class is a built-in exception class in Python that serves as the base class for all exceptions that occur during arithmetic operations. Some common errors that are defined in the ArithmeticError class are:"
   ]
  },
  {
   "cell_type": "markdown",
   "id": "fe0020e1-125c-44bc-bb58-5a66ab5d9773",
   "metadata": {},
   "source": [
    "1. ZeroDivisionError: This exception is raised when an attempt is made to divide a number by zero."
   ]
  },
  {
   "cell_type": "code",
   "execution_count": 4,
   "id": "7df1ffce-9f8d-4496-979c-c816e42da19e",
   "metadata": {},
   "outputs": [
    {
     "name": "stdout",
     "output_type": "stream",
     "text": [
      "Cannot divide by zero\n"
     ]
    }
   ],
   "source": [
    "a = 10\n",
    "b = 0\n",
    "try:\n",
    "    c = a/b\n",
    "except ZeroDivisionError:\n",
    "    print(\"Cannot divide by zero\")\n"
   ]
  },
  {
   "cell_type": "markdown",
   "id": "f8434061-4e8c-4c72-8e40-7d71b6ae4357",
   "metadata": {},
   "source": [
    "2. OverflowError: This exception is raised when the result of an arithmetic operation is too large to be represented by the data type used."
   ]
  },
  {
   "cell_type": "code",
   "execution_count": 5,
   "id": "dd3fa617-3b9f-40ab-ac21-734d25ac38a5",
   "metadata": {},
   "outputs": [],
   "source": [
    "import sys\n",
    "\n",
    "a = sys.maxsize\n",
    "b = 2\n",
    "\n",
    "try:\n",
    "    c = a * b\n",
    "except OverflowError:\n",
    "    print(\"Result is too large to be represented\")\n"
   ]
  },
  {
   "cell_type": "markdown",
   "id": "4161e232-45c6-4c31-ac63-4c902cd8d6a3",
   "metadata": {
    "jp-MarkdownHeadingCollapsed": true,
    "tags": []
   },
   "source": [
    "## Q4. Why LookupError class is used? Explain with an example KeyError and IndexError."
   ]
  },
  {
   "cell_type": "markdown",
   "id": "0a15a5d3-00d7-4aa0-a172-2037a5900ed7",
   "metadata": {},
   "source": [
    "The LookupError class is a built-in exception class in Python that serves as the base class for all exceptions that occur when a key or index is not found in a mapping or sequence. This class is used to handle errors that occur when looking up a value in a collection.\n",
    "\n",
    "Two common exceptions that are derived from the LookupError class are:"
   ]
  },
  {
   "cell_type": "code",
   "execution_count": 7,
   "id": "3f42011a-bea4-42f4-ba8b-22be4aa6a1fc",
   "metadata": {},
   "outputs": [
    {
     "name": "stdout",
     "output_type": "stream",
     "text": [
      "Key not found in dictionary\n"
     ]
    }
   ],
   "source": [
    "## 1. KeyError: This exception is raised when a key is not found in a dictionary.\n",
    "\n",
    "d = {\"a\": 1, \"b\": 2}\n",
    "\n",
    "try:\n",
    "    value = d[\"c\"]\n",
    "except KeyError:\n",
    "    print(\"Key not found in dictionary\")\n"
   ]
  },
  {
   "cell_type": "markdown",
   "id": "f263c56a-3a2e-467d-bd0f-775cdb26360e",
   "metadata": {},
   "source": [
    "In the above example, we try to access the value of key \"c\" in the dictionary d. Since this key does not exist in the dictionary, a KeyError exception will be raised. The except block will catch this exception and print the message \"Key not found in dictionary\"."
   ]
  },
  {
   "cell_type": "code",
   "execution_count": 8,
   "id": "8f8608b7-2d23-45aa-b49e-9b775d0841ad",
   "metadata": {},
   "outputs": [
    {
     "name": "stdout",
     "output_type": "stream",
     "text": [
      "Index out of range in sequence\n"
     ]
    }
   ],
   "source": [
    "## 2. IndexError: This exception is raised when an index is out of range in a sequence.\n",
    "\n",
    "l = [1, 2, 3]\n",
    "\n",
    "try:\n",
    "    value = l[3]\n",
    "except IndexError:\n",
    "    print(\"Index out of range in sequence\")\n"
   ]
  },
  {
   "cell_type": "markdown",
   "id": "0ccd2c16-df2d-4de1-a856-c73ca6b9e87e",
   "metadata": {},
   "source": [
    "In the above example, we try to access the value at index 3 in the list l. However, since the list only has indices 0, 1, and 2, an IndexError exception will be raised. The except block will catch this exception and print the message \"Index out of range in sequence\"."
   ]
  },
  {
   "cell_type": "markdown",
   "id": "4bd02203-4b7c-48c9-8ed0-9edd86c5ea7c",
   "metadata": {
    "jp-MarkdownHeadingCollapsed": true,
    "tags": []
   },
   "source": [
    "## Q5. Explain ImportError. What is ModuleNotFoundError?"
   ]
  },
  {
   "cell_type": "markdown",
   "id": "23338677-6fee-4435-9a8d-f2db0df994a0",
   "metadata": {},
   "source": [
    " The ImportError exception is raised when a module or package cannot be imported. This can happen if the module or package does not exist, or if there is an error in the code of the module or package.\n",
    " \n",
    " ModuleNotFoundError is a subclass of ImportError that is raised when a module or package cannot be found during import. This exception was added in Python 3.6 to make it clearer when a module or package is missing."
   ]
  },
  {
   "cell_type": "code",
   "execution_count": 9,
   "id": "e05b8794-9fe5-48ba-9a60-d5ac7e5a2255",
   "metadata": {},
   "outputs": [
    {
     "name": "stdout",
     "output_type": "stream",
     "text": [
      "Module not found or cannot be imported\n"
     ]
    }
   ],
   "source": [
    "#Here's an example of how to handle an ImportError:\n",
    "\n",
    "try:\n",
    "    import non_existent_module\n",
    "except ImportError:\n",
    "    print(\"Module not found or cannot be imported\")\n"
   ]
  },
  {
   "cell_type": "markdown",
   "id": "99429de7-a216-4e61-8a38-a693335b8228",
   "metadata": {},
   "source": [
    "In the above example, we try to import a module called non_existent_module. Since this module does not exist, an ImportError exception will be raised. The except block will catch this exception and print the message \"Module not found or cannot be imported\"."
   ]
  },
  {
   "cell_type": "markdown",
   "id": "ff793f63-8dae-4979-a79f-d24718e749a3",
   "metadata": {
    "jp-MarkdownHeadingCollapsed": true,
    "tags": []
   },
   "source": [
    "## Q6. List down some best practices for exception handling in python."
   ]
  },
  {
   "cell_type": "markdown",
   "id": "e0ddc493-e98a-4af6-bbf4-4f8dfe2e80c0",
   "metadata": {},
   "source": [
    "Here are some best practices for exception handling in Python:\n",
    "\n",
    "1. Be specific: Catch only the exceptions that you can handle, and be as specific as possible when doing so. This will make your code more robust and easier to maintain.\n",
    "\n",
    "2. Handle exceptions as close to the source as possible: Catch exceptions as close to the code that raises them as possible. This will make your code easier to debug and make it clear what the error is.\n",
    "\n",
    "3. Use the with statement for resource management: Use the with statement to automatically handle resource management, such as file I/O or database connections. This will ensure that resources are properly closed and released even if an exception is raised.\n",
    "\n",
    "4. Log exceptions: Use a logging library to log exceptions and error messages. This will help you to debug your code and understand why the exception was raised.\n",
    "\n",
    "5. Avoid bare except blocks: Avoid using bare except blocks, which catch all exceptions. This can hide errors and make your code difficult to debug.\n",
    "\n",
    "6. Use custom exceptions: Use custom exceptions to handle errors that are specific to your application or use case. This can make your code easier to understand and maintain.\n",
    "\n",
    "7. Don't catch exceptions you can't handle: Don't catch exceptions that you can't handle, such as SystemExit or KeyboardInterrupt. These exceptions are meant to be handled by the Python interpreter,\n",
    "\n",
    "\n",
    "\n"
   ]
  },
  {
   "cell_type": "code",
   "execution_count": null,
   "id": "3f93ce75-5d40-4c5e-abd5-5546d431e3f9",
   "metadata": {},
   "outputs": [],
   "source": []
  },
  {
   "cell_type": "code",
   "execution_count": null,
   "id": "a036a873-44b1-4ff0-b150-bd9da03403bf",
   "metadata": {},
   "outputs": [],
   "source": []
  },
  {
   "cell_type": "code",
   "execution_count": null,
   "id": "3d7204bb-494f-4f57-965a-ce37a8fddf58",
   "metadata": {},
   "outputs": [],
   "source": []
  },
  {
   "cell_type": "code",
   "execution_count": null,
   "id": "2bf010c9-0279-44e1-a452-0776fb6cb8d3",
   "metadata": {},
   "outputs": [],
   "source": []
  },
  {
   "cell_type": "code",
   "execution_count": null,
   "id": "8613e9e3-fd2a-437e-8559-574ccd432935",
   "metadata": {},
   "outputs": [],
   "source": []
  },
  {
   "cell_type": "code",
   "execution_count": null,
   "id": "3d652fd0-ef19-4f2e-933f-c0666088591a",
   "metadata": {},
   "outputs": [],
   "source": []
  },
  {
   "cell_type": "code",
   "execution_count": null,
   "id": "f3793926-2400-412b-9000-273931ec77ad",
   "metadata": {},
   "outputs": [],
   "source": []
  },
  {
   "cell_type": "code",
   "execution_count": null,
   "id": "ac232b57-a00a-444c-b167-752e72fc5106",
   "metadata": {},
   "outputs": [],
   "source": []
  },
  {
   "cell_type": "code",
   "execution_count": null,
   "id": "8269bc84-dd12-407d-8f6e-daaaec166cea",
   "metadata": {},
   "outputs": [],
   "source": []
  },
  {
   "cell_type": "code",
   "execution_count": null,
   "id": "3143b8e8-737b-4bb5-8c95-0a40455c2ca6",
   "metadata": {},
   "outputs": [],
   "source": []
  },
  {
   "cell_type": "code",
   "execution_count": null,
   "id": "057bdcff-e111-4f55-a462-5ea4d39966e1",
   "metadata": {},
   "outputs": [],
   "source": []
  },
  {
   "cell_type": "code",
   "execution_count": null,
   "id": "a7623b58-c121-4de4-81f6-7a5db67d7c3e",
   "metadata": {},
   "outputs": [],
   "source": []
  },
  {
   "cell_type": "code",
   "execution_count": null,
   "id": "511e02d0-7a1d-4514-8841-0a5096036907",
   "metadata": {},
   "outputs": [],
   "source": []
  },
  {
   "cell_type": "code",
   "execution_count": null,
   "id": "8dace169-b4f7-4ad8-a481-a5ecabe63325",
   "metadata": {},
   "outputs": [],
   "source": []
  },
  {
   "cell_type": "code",
   "execution_count": null,
   "id": "67f6ae82-044f-4dcc-8d88-fe2d18807feb",
   "metadata": {},
   "outputs": [],
   "source": []
  }
 ],
 "metadata": {
  "kernelspec": {
   "display_name": "Python 3 (ipykernel)",
   "language": "python",
   "name": "python3"
  },
  "language_info": {
   "codemirror_mode": {
    "name": "ipython",
    "version": 3
   },
   "file_extension": ".py",
   "mimetype": "text/x-python",
   "name": "python",
   "nbconvert_exporter": "python",
   "pygments_lexer": "ipython3",
   "version": "3.10.8"
  }
 },
 "nbformat": 4,
 "nbformat_minor": 5
}
