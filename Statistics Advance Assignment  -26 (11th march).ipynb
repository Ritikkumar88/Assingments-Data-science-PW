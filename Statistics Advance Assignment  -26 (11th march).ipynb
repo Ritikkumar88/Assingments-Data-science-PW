{
 "cells": [
  {
   "cell_type": "markdown",
   "id": "d501efb9-97f8-453d-97e1-08c2c0840e41",
   "metadata": {
    "jp-MarkdownHeadingCollapsed": true,
    "tags": []
   },
   "source": [
    "## Q1: What is the difference between a t-test and a z-test? Provide an example scenario where you would use each type of test."
   ]
  },
  {
   "cell_type": "markdown",
   "id": "10f6ddda-06ee-48cf-bfc3-adf9abef8b00",
   "metadata": {},
   "source": [
    "The main difference between a t-test and a z-test is the underlying assumptions about the population and sample sizes.\n",
    "\n",
    "A t-test is used when the sample size is small (less than 30) or when the population standard deviation is unknown. A t-test is a statistical hypothesis test that compares the means of two samples to determine if there is a significant difference between them. It uses a t-distribution to calculate the probability of observing the difference in means assuming the null hypothesis is true. For example, a t-test can be used to compare the mean exam scores of two groups of students to see if there is a significant difference in their performance.\n",
    "\n",
    "On the other hand, a z-test is used when the sample size is large (greater than 30) or when the population standard deviation is known. A z-test is also a statistical hypothesis test that compares the means of two samples, but it uses a standard normal distribution to calculate the probability of observing the difference in means assuming the null hypothesis is true. For example, a z-test can be used to compare the average heights of two groups of people from different countries.\n",
    "\n",
    "In summary, use a t-test when the sample size is small or the population standard deviation is unknown, and use a z-test when the sample size is large or the population standard deviation is known."
   ]
  },
  {
   "cell_type": "markdown",
   "id": "79d91b00-102f-4c69-8756-ce9600509c24",
   "metadata": {
    "jp-MarkdownHeadingCollapsed": true,
    "tags": []
   },
   "source": [
    "## Q2: Differentiate between one-tailed and two-tailed tests."
   ]
  },
  {
   "cell_type": "markdown",
   "id": "751daae4-995c-447d-902f-55b259785bd6",
   "metadata": {},
   "source": [
    "A hypothesis test is a statistical tool that helps us determine whether there is a significant difference between a sample statistic and a population parameter or between two groups. In hypothesis testing, we can use either a one-tailed or a two-tailed test, depending on the research question and hypothesis.\n",
    "\n",
    "A one-tailed test, also known as a directional test, is a hypothesis test that is designed to test for a difference in a specific direction. This means that the null hypothesis is rejected only if the sample data provides evidence for the difference in the direction specified by the alternative hypothesis. For example, a one-tailed test can be used to test the hypothesis that the mean weight of apples sold at a grocery store is less than 100 grams.\n",
    "\n",
    "A two-tailed test, also known as a non-directional test, is a hypothesis test that is designed to test for a difference in any direction. This means that the null hypothesis is rejected if the sample data provides evidence for a difference in either direction specified by the alternative hypothesis. For example, a two-tailed test can be used to test the hypothesis that the mean weight of apples sold at a grocery store is different from 100 grams, without specifying whether the weight is greater or less than 100 grams.\n",
    "\n",
    "In summary, a one-tailed test is used when the hypothesis specifies a direction of difference, while a two-tailed test is used when the hypothesis does not specify a direction of difference. The choice of a one-tailed or two-tailed test depends on the research question and the specific hypothesis being tested."
   ]
  },
  {
   "cell_type": "markdown",
   "id": "f50585f0-0180-4cda-a5ba-623466e85710",
   "metadata": {
    "jp-MarkdownHeadingCollapsed": true,
    "tags": []
   },
   "source": [
    "## Q3: Explain the concept of Type 1 and Type 2 errors in hypothesis testing. Provide an example scenario for each type of error."
   ]
  },
  {
   "cell_type": "markdown",
   "id": "a918c903-2d11-4384-902c-0f539dd12cad",
   "metadata": {},
   "source": [
    "In hypothesis testing, Type 1 and Type 2 errors are two types of errors that can occur when making a decision about the acceptance or rejection of a null hypothesis.\n",
    "\n",
    "A Type 1 error, also known as a false positive, occurs when we reject the null hypothesis even though it is actually true. In other words, we conclude that there is a significant difference between the sample data and the null hypothesis, when in fact, the difference is due to chance or random variation. The probability of making a Type 1 error is denoted by α, also known as the significance level. The significance level is the probability of rejecting the null hypothesis when it is actually true. A common significance level used in hypothesis testing is 0.05 or 5%.\n",
    "\n",
    "An example scenario of a Type 1 error is a medical test that is used to diagnose a disease. Suppose that the null hypothesis is that the patient does not have the disease, and the alternative hypothesis is that the patient does have the disease. If the medical test has a 5% significance level, then there is a 5% chance of concluding that the patient has the disease when they actually do not have the disease.\n",
    "\n",
    "A Type 2 error, also known as a false negative, occurs when we fail to reject the null hypothesis even though it is actually false. In other words, we conclude that there is no significant difference between the sample data and the null hypothesis, when in fact, there is a difference. The probability of making a Type 2 error is denoted by β. The probability of correctly rejecting the null hypothesis is called the power of the test, which is equal to 1 - β.\n",
    "\n",
    "An example scenario of a Type 2 error is a clinical trial for a new drug. Suppose that the null hypothesis is that the new drug is no different from the existing drug, and the alternative hypothesis is that the new drug is better than the existing drug. If the clinical trial has a low power, then there is a high probability of failing to reject the null hypothesis, even if the new drug is better than the existing drug.\n",
    "\n",
    "In summary, a Type 1 error occurs when we reject the null hypothesis when it is actually true, while a Type 2 error occurs when we fail to reject the null hypothesis when it is actually false. The probability of making a Type 1 error is denoted by α, while the probability of making a Type 2 error is denoted by β."
   ]
  },
  {
   "cell_type": "markdown",
   "id": "fdc4d45e-e481-4350-99b0-2f974dcd2533",
   "metadata": {
    "jp-MarkdownHeadingCollapsed": true,
    "tags": []
   },
   "source": [
    "## Q4: Explain Bayes's theorem with an example."
   ]
  },
  {
   "cell_type": "markdown",
   "id": "f04a3314-f88d-49a5-9f1b-b7f8a9ad1ffe",
   "metadata": {},
   "source": [
    "Bayes's theorem is a fundamental concept in probability theory that allows us to update the probability of an event occurring based on new information or evidence.\n",
    "\n",
    "The theorem is expressed as:\n",
    "\n",
    "P(A|B) = (P(B|A) * P(A)) / P(B)\n",
    "\n",
    "Where:\n",
    "\n",
    "P(A|B) is the probability of event A given event B has occurred\n",
    "P(B|A) is the probability of event B given that event A has occurred\n",
    "P(A) is the prior probability of event A occurring\n",
    "P(B) is the prior probability of event B occurring\n",
    "To understand Bayes's theorem better, let's consider an example:\n",
    "\n",
    "Suppose a medical test has been developed to diagnose a particular disease that affects 1% of the population. The test is 95% accurate, meaning that if a person has the disease, the test will correctly identify them as positive 95% of the time, and if a person does not have the disease, the test will correctly identify them as negative 95% of the time.\n",
    "\n",
    "If a person tests positive for the disease, what is the probability that they actually have the disease?\n",
    "\n",
    "Using Bayes's theorem, we can calculate the probability as follows:\n",
    "\n",
    "P(A) = 0.01 (the prior probability of having the disease)\n",
    "P(B|A) = 0.95 (the probability of testing positive given that the person has the disease)\n",
    "P(B|not A) = 0.05 (the probability of testing positive given that the person does not have the disease)\n",
    "P(not A) = 0.99 (the prior probability of not having the disease)\n",
    "We can now calculate P(B), the probability of testing positive, using the law of total probability:\n",
    "\n",
    "P(B) = P(A) * P(B|A) + P(not A) * P(B|not A)\n",
    "P(B) = 0.01 * 0.95 + 0.99 * 0.05\n",
    "P(B) = 0.059\n",
    "\n",
    "Now we can use Bayes's theorem to calculate the probability of having the disease given a positive test result:\n",
    "\n",
    "P(A|B) = (P(B|A) * P(A)) / P(B)\n",
    "P(A|B) = (0.95 * 0.01) / 0.059\n",
    "P(A|B) = 0.161 or approximately 16.1%\n",
    "\n",
    "Therefore, even with a positive test result, there is still only a 16.1% chance of having the disease. This example illustrates the importance of considering both the prior probability of an event and the conditional probabilities when making decisions based on new information.\n",
    "\n",
    "\n",
    "\n",
    "\n"
   ]
  },
  {
   "cell_type": "markdown",
   "id": "4321ee01-2c93-4c4a-901d-95eb30407880",
   "metadata": {
    "jp-MarkdownHeadingCollapsed": true,
    "tags": []
   },
   "source": [
    "## Q5: What is a confidence interval? How to calculate the confidence interval, explain with an example."
   ]
  },
  {
   "cell_type": "markdown",
   "id": "be95aa74-425d-482f-97b6-4a5a683ea609",
   "metadata": {},
   "source": [
    "A confidence interval is a range of values that is likely to contain the true population parameter, such as the population mean or proportion. It is calculated based on the sample data and is accompanied by a level of confidence, which represents the probability that the true parameter falls within the interval.\n",
    "\n",
    "To calculate a confidence interval, we first need to determine the level of confidence we want to use. The most commonly used level of confidence is 95%, which means that if we were to repeat our sampling and calculations many times, we would expect the true parameter to fall within the calculated interval 95% of the time.\n",
    "\n",
    "The formula for calculating a confidence interval for the population mean is:\n",
    "\n",
    "CI = x̄ ± t* (s/√n)\n",
    "\n",
    "Where:\n",
    "\n",
    "x̄ is the sample mean\n",
    "t* is the critical t-value from the t-distribution table for the desired level of confidence and degrees of freedom (df = n-1)\n",
    "s is the sample standard deviation\n",
    "n is the sample size\n",
    "For example, let's say we want to estimate the average height of all college students in the United States, and we take a random sample of 50 college students and measure their heights. The sample mean height is 68 inches and the sample standard deviation is 3 inches. We want to calculate a 95% confidence interval for the true population mean height.\n",
    "\n",
    "Using a t-distribution table with 49 degrees of freedom (df = n-1), we find that the critical t-value for a 95% confidence level is 2.009. Therefore, the formula for the confidence interval becomes:\n",
    "\n",
    "CI = 68 ± 2.009 * (3/√50)\n",
    "\n",
    "CI = 68 ± 1.39\n",
    "\n",
    "The resulting confidence interval is (66.61, 69.39). This means that we can be 95% confident that the true population mean height falls within this range.\n",
    "\n",
    "It is important to note that the confidence interval only provides an estimate of the range of plausible values for the true population parameter. It does not guarantee that the true parameter falls within the interval, nor does it provide any information about the precision or accuracy of the estimate."
   ]
  },
  {
   "cell_type": "markdown",
   "id": "0f2ad49d-4614-46f4-af59-9148e81034b9",
   "metadata": {
    "jp-MarkdownHeadingCollapsed": true,
    "tags": []
   },
   "source": [
    "## Q6. Use Bayes' Theorem to calculate the probability of an event occurring given prior knowledge of the event's probability and new evidence. Provide a sample problem and solution."
   ]
  },
  {
   "cell_type": "markdown",
   "id": "e621d4cc-8ca3-4948-908e-ea3c26a5cded",
   "metadata": {},
   "source": [
    "Sure! Here's an example problem:\n",
    "\n",
    "Suppose a factory produces two types of products: Type A and Type B. On average, 60% of the products are Type A and 40% are Type B. The factory uses a machine to inspect the products, but the machine is not perfect. It correctly identifies Type A products with a probability of 0.85 and Type B products with a probability of 0.75. If the machine identifies a product as Type A, what is the probability that it is actually Type A?\n",
    "\n",
    "To solve this problem, we can use Bayes' Theorem:\n",
    "\n",
    "P(A | B) = P(B | A) * P(A) / P(B)\n",
    "\n",
    "where:\n",
    "\n",
    "P(A | B) is the conditional probability of A given B (i.e., the probability that the product is Type A given that the machine identified it as Type A)\n",
    "P(B | A) is the conditional probability of B given A (i.e., the probability that the machine identifies the product as Type A given that it is actually Type A)\n",
    "P(A) is the prior probability of A (i.e., the probability that a product is Type A before the machine inspects it)\n",
    "P(B) is the prior probability of B (i.e., the probability that the machine identifies a product as Type A, regardless of whether it is actually Type A or B)\n",
    "Using the given information, we can fill in the values:\n",
    "\n",
    "P(A) = 0.6 (prior probability of Type A)\n",
    "P(B | A) = 0.85 (probability that the machine identifies Type A correctly)\n",
    "P(B | not A) = 0.25 (probability that the machine incorrectly identifies Type B as Type A)\n",
    "P(B) = P(B | A) * P(A) + P(B | not A) * P(not A)\n",
    "= 0.85 * 0.6 + 0.25 * 0.4\n",
    "= 0.61 (total probability that the machine identifies a product as Type A)\n",
    "\n",
    "Now we can use Bayes' Theorem to calculate the probability that the product is actually Type A given that the machine identified it as Type A:\n",
    "\n",
    "P(A | B) = P(B | A) * P(A) / P(B)\n",
    "= 0.85 * 0.6 / 0.61\n",
    "= 0.83\n",
    "\n",
    "Therefore, the probability that the product is actually Type A given that the machine identified it as Type A is 0.83, or 83%. This means that even though the machine is not perfect, there is still a high likelihood that a product identified as Type A is actually Type A."
   ]
  },
  {
   "cell_type": "markdown",
   "id": "01242fac-e446-49a3-b837-bfa2a7aca32e",
   "metadata": {
    "jp-MarkdownHeadingCollapsed": true,
    "tags": []
   },
   "source": [
    "## Q7. Calculate the 95% confidence interval for a sample of data with a mean of 50 and a standard deviation of 5. Interpret the results."
   ]
  },
  {
   "cell_type": "markdown",
   "id": "5406c7bd-db95-4755-9e6b-bb68323e1bcc",
   "metadata": {},
   "source": [
    "To calculate the 95% confidence interval for a sample of data with a mean of 50 and a standard deviation of 5, we first need to determine the margin of error using the formula:\n",
    "\n",
    "Margin of Error = z * (standard deviation / square root of sample size)\n",
    "\n",
    "where z is the critical value from the standard normal distribution corresponding to the desired level of confidence (95% in this case), and the sample size is assumed to be large (i.e., n > 30).\n",
    "\n",
    "Using a table of z-scores or a calculator, we can find that the critical value for a 95% confidence interval is approximately 1.96.\n",
    "\n",
    "Plugging in the values we have:\n",
    "\n",
    "Margin of Error = 1.96 * (5 / sqrt(n))\n",
    "\n",
    "Since we don't know the sample size, we can't determine the margin of error or the confidence interval with complete accuracy. However, we can provide a general range of values by assuming a large sample size, such as n = 100.\n",
    "\n",
    "Margin of Error = 1.96 * (5 / sqrt(100)) = 0.98\n",
    "\n",
    "So, the 95% confidence interval for the population mean is:\n",
    "\n",
    "50 ± 0.98 or (49.02, 50.98)\n",
    "\n",
    "Interpreting the results, we can say that we are 95% confident that the true population mean falls between 49.02 and 50.98 based on the sample of data we have. In other words, if we were to repeat our sampling process many times, we would expect 95% of the resulting confidence intervals to contain the true population mean."
   ]
  },
  {
   "cell_type": "markdown",
   "id": "a3ee8d78-9be8-4fc3-b8d3-70f7df9ea81c",
   "metadata": {},
   "source": [
    "## Q8. What is the margin of error in a confidence interval? How does sample size affect the margin of error? Provide an example of a scenario where a larger sample size would result in a smaller margin of error."
   ]
  },
  {
   "cell_type": "markdown",
   "id": "ed063521-219f-428f-94a2-b507d28d5541",
   "metadata": {},
   "source": [
    "The margin of error in a confidence interval is the range of values above and below the sample estimate within which we are confident the true population parameter lies. It is a measure of the uncertainty in the sample estimate and is usually expressed as a percentage or a number.\n",
    "\n",
    "The margin of error is affected by the level of confidence we choose, the variability in the population, and the sample size. A larger sample size generally leads to a smaller margin of error because larger samples provide more precise estimates of the population parameter.\n",
    "\n",
    "For example, let's say we want to estimate the average height of a certain population of individuals. We take a sample of 50 people and find that their average height is 170 cm with a standard deviation of 5 cm. Using a 95% confidence level, we can calculate the margin of error as:\n",
    "\n",
    "Margin of Error = Z * (Standard Deviation / Square Root of Sample Size)\n",
    "Z = 1.96 (corresponding to a 95% confidence level)\n",
    "\n",
    "Margin of Error = 1.96 * (5 / sqrt(50)) = 1.4 cm\n",
    "\n",
    "This means that we can be 95% confident that the true average height of the population lies between 168.6 cm and 171.4 cm.\n",
    "\n",
    "If we increase the sample size to 100, keeping everything else the same, the margin of error would become:\n",
    "\n",
    "Margin of Error = 1.96 * (5 / sqrt(100)) = 0.98 cm\n",
    "\n",
    "This means that we can be 95% confident that the true average height of the population lies between 169.02 cm and 170.98 cm. As we can see, a larger sample size reduces the margin of error and provides a more precise estimate of the population parameter."
   ]
  },
  {
   "cell_type": "markdown",
   "id": "447095c8-7417-4ae5-9ec0-c18e466dbfde",
   "metadata": {},
   "source": [
    "## Q9. Calculate the z-score for a data point with a value of 75, a population mean of 70, and a population standard deviation of 5. Interpret the results."
   ]
  },
  {
   "cell_type": "markdown",
   "id": "df9a0de5-b4bd-4eba-b0fa-7ce28cb5de4d",
   "metadata": {},
   "source": [
    "To calculate the z-score for a data point with a value of 75, a population mean of 70, and a population standard deviation of 5, we use the formula:\n",
    "\n",
    "z = (x - μ) / σ\n",
    "\n",
    "where x is the data point, μ is the population mean, and σ is the population standard deviation.\n",
    "\n",
    "Plugging in the values we have:\n",
    "\n",
    "z = (75 - 70) / 5 = 1\n",
    "\n",
    "So, the z-score for the data point with a value of 75 is 1.\n",
    "\n",
    "Interpreting the results, we can say that the data point is one standard deviation above the population mean. In other words, it is higher than about 84% of the values in the population, assuming a normal distribution."
   ]
  },
  {
   "cell_type": "markdown",
   "id": "fda8bd5e-8604-45c7-8fcb-c3dc64bda9df",
   "metadata": {
    "jp-MarkdownHeadingCollapsed": true,
    "tags": []
   },
   "source": [
    "## Q10. In a study of the effectiveness of a new weight loss drug, a sample of 50 participants lost an average of 6 pounds with a standard deviation of 2.5 pounds. Conduct a hypothesis test to determine if the drug is significantly effective at a 95% confidence level using a t-test."
   ]
  },
  {
   "cell_type": "markdown",
   "id": "bc2c6a7b-07d2-4b75-940e-a401bdb20290",
   "metadata": {},
   "source": [
    "To conduct a hypothesis test to determine if the weight loss drug is significantly effective at a 95% confidence level using a t-test, we need to set up our null and alternative hypotheses:\n",
    "\n",
    "Null hypothesis (H0): The weight loss drug is not significantly effective, and the true population mean weight loss is equal to or less than 0 pounds.\n",
    "Alternative hypothesis (Ha): The weight loss drug is significantly effective, and the true population mean weight loss is greater than 0 pounds.\n",
    "We will use a one-tailed t-test with a significance level of 0.05 to test the hypotheses.\n",
    "\n",
    "The test statistic is calculated as:\n",
    "\n",
    "t = (x̄ - μ) / (s / √n)\n",
    "\n",
    "where x̄ is the sample mean weight loss, μ is the hypothesized population mean weight loss under the null hypothesis (which is 0 pounds), s is the sample standard deviation, and n is the sample size.\n",
    "\n",
    "Plugging in the values we have:\n",
    "\n",
    "t = (6 - 0) / (2.5 / √50) = 13.42\n",
    "\n",
    "The degrees of freedom for the t-test is n-1 = 49. Using a t-distribution table or calculator with 49 degrees of freedom and a significance level of 0.05, we find a critical value of 1.677.\n",
    "\n",
    "Since our calculated t-value (13.42) is greater than the critical value (1.677), we reject the null hypothesis and conclude that the weight loss drug is significantly effective at a 95% confidence level.\n",
    "\n",
    "Therefore, we can say that there is evidence to support the claim that the weight loss drug results in a statistically significant weight loss for the population."
   ]
  },
  {
   "cell_type": "markdown",
   "id": "e063aaff-4279-4d3a-b318-d8c397a133f8",
   "metadata": {
    "jp-MarkdownHeadingCollapsed": true,
    "tags": []
   },
   "source": [
    "## Q11. In a survey of 500 people, 65% reported being satisfied with their current job. Calculate the 95% confidence interval for the true proportion of people who are satisfied with their job."
   ]
  },
  {
   "cell_type": "markdown",
   "id": "f20ef82a-8988-4c90-90e0-9090a4aa25be",
   "metadata": {},
   "source": [
    "To calculate the 95% confidence interval for the true proportion of people who are satisfied with their job, we can use the following formula:\n",
    "\n",
    "CI = p ± z*(√(p*(1-p)/n))\n",
    "\n",
    "where CI is the confidence interval, p is the sample proportion, z is the z-score corresponding to the desired confidence level (95% confidence level corresponds to a z-score of 1.96), and n is the sample size.\n",
    "\n",
    "Plugging in the values we have:\n",
    "\n",
    "p = 0.65\n",
    "z = 1.96\n",
    "n = 500\n",
    "\n",
    "CI = 0.65 ± 1.96*(√(0.65*(1-0.65)/500))\n",
    "\n",
    "CI = 0.65 ± 0.045\n",
    "\n",
    "So the 95% confidence interval for the true proportion of people who are satisfied with their job is [0.605, 0.695].\n",
    "\n",
    "Interpreting the results, we can say that we are 95% confident that the true proportion of people who are satisfied with their job lies between 60.5% and 69.5%."
   ]
  },
  {
   "cell_type": "markdown",
   "id": "88507d57-59b0-436e-8056-7c4c929ce188",
   "metadata": {
    "jp-MarkdownHeadingCollapsed": true,
    "tags": []
   },
   "source": [
    "## Q12. A researcher is testing the effectiveness of two different teaching methods on student performance. Sample A has a mean score of 85 with a standard deviation of 6, while sample B has a mean score of 82 with a standard deviation of 5. Conduct a hypothesis test to determine if the two teaching methods have a significant difference in student performance using a t-test with a significance level of 0.01."
   ]
  },
  {
   "cell_type": "markdown",
   "id": "65f717b9-2837-495d-9b52-7d610b11a0bc",
   "metadata": {},
   "source": [
    "To test whether there is a significant difference in student performance between the two teaching methods, we can use a two-sample t-test with a significance level of 0.01. The null hypothesis is that there is no significant difference in the mean scores of the two samples, while the alternative hypothesis is that there is a significant difference.\n",
    "\n",
    "The formula for the two-sample t-test is:\n",
    "\n",
    "t = (x̄1 - x̄2) / (s_p * sqrt(1/n1 + 1/n2))\n",
    "\n",
    "where x̄1 and x̄2 are the sample means, n1 and n2 are the sample sizes, s_p is the pooled standard deviation, calculated as:\n",
    "\n",
    "s_p = sqrt(((n1-1)*s1^2 + (n2-1)*s2^2) / (n1+n2-2))\n",
    "\n",
    "where s1 and s2 are the sample standard deviations.\n",
    "\n",
    "Plugging in the values we have:\n",
    "\n",
    "x̄1 = 85\n",
    "s1 = 6\n",
    "n1 = sample size not given, assumed to be equal to sample size of sample B = 82\n",
    "x̄2 = 82\n",
    "s2 = 5\n",
    "n2 = sample size not given, assumed to be equal to sample size of sample A = 85\n",
    "α = 0.01\n",
    "\n",
    "First, we need to calculate the pooled standard deviation:\n",
    "\n",
    "s_p = sqrt(((846^2 + 815^2) / 166))\n",
    "\n",
    "s_p = 5.522\n",
    "\n",
    "Then, we can calculate the t-statistic:\n",
    "\n",
    "t = (85 - 82) / (5.522 * sqrt(1/85 + 1/82))\n",
    "\n",
    "t = 2.85\n",
    "\n",
    "Using a t-distribution table with degrees of freedom of 165, we can find that the critical t-value at a significance level of 0.01 is ±2.626.\n",
    "\n",
    "Since our calculated t-value (2.85) is greater than the critical t-value (2.626), we can reject the null hypothesis and conclude that there is a significant difference in the mean scores of the two samples.\n",
    "\n",
    "Therefore, we can conclude that the two teaching methods have a significant difference in student performance."
   ]
  },
  {
   "cell_type": "markdown",
   "id": "27e3814c-0419-43f1-9266-bc07cfd4676d",
   "metadata": {
    "jp-MarkdownHeadingCollapsed": true,
    "tags": []
   },
   "source": [
    "## Q13. A population has a mean of 60 and a standard deviation of 8. A sample of 50 observations has a mean of 65. Calculate the 90% confidence interval for the true population mean."
   ]
  },
  {
   "cell_type": "markdown",
   "id": "19500adf-ce70-4f90-bd83-0208c9371a0c",
   "metadata": {},
   "source": [
    "To calculate the 90% confidence interval for the true population mean, we can use the formula:\n",
    "\n",
    "CI = x̄ ± z*(σ/√n)\n",
    "\n",
    "where x̄ is the sample mean, σ is the population standard deviation, n is the sample size, z is the z-score corresponding to the confidence level, and CI is the confidence interval.\n",
    "\n",
    "In this case, x̄ = 65, σ = 8, n = 50, and we want a 90% confidence interval. The z-score corresponding to a 90% confidence level can be found using a z-table or a calculator, and is approximately 1.645.\n",
    "\n",
    "Substituting these values into the formula, we get:\n",
    "\n",
    "CI = 65 ± 1.645*(8/√50)\n",
    "\n",
    "CI = 65 ± 2.329\n",
    "\n",
    "The 90% confidence interval for the true population mean is (62.67, 67.33). This means that we are 90% confident that the true population mean lies within this interval."
   ]
  },
  {
   "cell_type": "markdown",
   "id": "10cfec9f-4d6c-4011-8526-fa9445ae2263",
   "metadata": {},
   "source": [
    "## Q14. In a study of the effects of caffeine on reaction time, a sample of 30 participants had an average reaction time of 0.25 seconds with a standard deviation of 0.05 seconds. Conduct a hypothesis test to determine if the caffeine has a significant effect on reaction time at a 90% confidence level using a t-test."
   ]
  },
  {
   "cell_type": "markdown",
   "id": "8cf4e421-8e1a-459e-9f84-cf68574472c6",
   "metadata": {},
   "source": [
    "To conduct a hypothesis test to determine if caffeine has a significant effect on reaction time, we need to set up the null and alternative hypotheses:\n",
    "\n",
    "Null hypothesis: Caffeine has no significant effect on reaction time (μ = 0.25).\n",
    "Alternative hypothesis: Caffeine has a significant effect on reaction time (μ ≠ 0.25).\n",
    "\n",
    "We will use a t-test to test this hypothesis, since we have a sample size of 30 and we do not know the population standard deviation. The test statistic can be calculated using the formula:\n",
    "\n",
    "t = (x̄ - μ) / (s / √n)\n",
    "\n",
    "where x̄ is the sample mean, μ is the population mean under the null hypothesis, s is the sample standard deviation, and n is the sample size.\n",
    "\n",
    "In this case, x̄ = 0.25, μ = 0.25, s = 0.05, and n = 30. The degrees of freedom for the t-distribution are n - 1 = 29.\n",
    "\n",
    "The critical t-value for a two-tailed test at a 90% confidence level with 29 degrees of freedom is approximately ±1.699.\n",
    "\n",
    "Calculating the test statistic:\n",
    "\n",
    "t = (0.25 - 0.25) / (0.05 / √30) = 0\n",
    "\n",
    "Since the calculated test statistic is 0, which is less than the critical t-value of ±1.699, we fail to reject the null hypothesis. This means that we do not have enough evidence to say that caffeine has a significant effect on reaction time at a 90% confidence level."
   ]
  },
  {
   "cell_type": "code",
   "execution_count": null,
   "id": "d7320d89-0369-42f7-9766-9d6603f429d0",
   "metadata": {},
   "outputs": [],
   "source": []
  },
  {
   "cell_type": "code",
   "execution_count": null,
   "id": "89b1d088-88f7-4666-9eea-77f038a0c1d7",
   "metadata": {},
   "outputs": [],
   "source": []
  },
  {
   "cell_type": "code",
   "execution_count": null,
   "id": "0f06926e-0f58-4677-ab39-97f759e2b2d3",
   "metadata": {},
   "outputs": [],
   "source": []
  },
  {
   "cell_type": "code",
   "execution_count": null,
   "id": "b06f6a61-2e8e-4806-a0b9-14304db94092",
   "metadata": {},
   "outputs": [],
   "source": []
  },
  {
   "cell_type": "code",
   "execution_count": null,
   "id": "5e6eb9d7-6992-4828-b77a-0a7f8b901c56",
   "metadata": {},
   "outputs": [],
   "source": []
  },
  {
   "cell_type": "code",
   "execution_count": null,
   "id": "bfe2aea5-e178-4a31-921a-01fcade40890",
   "metadata": {},
   "outputs": [],
   "source": []
  },
  {
   "cell_type": "code",
   "execution_count": null,
   "id": "13ba73cb-df23-454a-9314-207ba846f054",
   "metadata": {},
   "outputs": [],
   "source": []
  },
  {
   "cell_type": "code",
   "execution_count": null,
   "id": "c491f994-5272-403d-9243-64b33e0078d3",
   "metadata": {},
   "outputs": [],
   "source": []
  },
  {
   "cell_type": "code",
   "execution_count": null,
   "id": "18929885-989d-4087-b0c8-d03eff30e960",
   "metadata": {},
   "outputs": [],
   "source": []
  },
  {
   "cell_type": "code",
   "execution_count": null,
   "id": "9a40c903-f9cf-463f-ae60-378d52f05240",
   "metadata": {},
   "outputs": [],
   "source": []
  }
 ],
 "metadata": {
  "kernelspec": {
   "display_name": "Python 3 (ipykernel)",
   "language": "python",
   "name": "python3"
  },
  "language_info": {
   "codemirror_mode": {
    "name": "ipython",
    "version": 3
   },
   "file_extension": ".py",
   "mimetype": "text/x-python",
   "name": "python",
   "nbconvert_exporter": "python",
   "pygments_lexer": "ipython3",
   "version": "3.10.8"
  }
 },
 "nbformat": 4,
 "nbformat_minor": 5
}
