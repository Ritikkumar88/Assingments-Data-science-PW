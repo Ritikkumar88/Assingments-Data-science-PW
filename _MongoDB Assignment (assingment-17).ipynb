{
 "cells": [
  {
   "cell_type": "markdown",
   "id": "2f7d39ec-ae4f-40b8-9cba-d5066293c534",
   "metadata": {
    "jp-MarkdownHeadingCollapsed": true,
    "tags": []
   },
   "source": [
    "## Q1. What is MongoDB? Explain non-relational databases in short. In which scenarios it is preferred to use MongoDB over SQL databases?"
   ]
  },
  {
   "cell_type": "markdown",
   "id": "f56b1f91-978a-4a90-a65a-75d85d9123a7",
   "metadata": {},
   "source": [
    "MongoDB is a popular open-source NoSQL document-oriented database system that allows storing, querying, and manipulating data in JSON-like documents. Unlike traditional SQL databases, which use a tabular data structure, NoSQL databases like MongoDB offer a flexible schema, which means that data can be stored in different formats, and changes to the schema can be made without having to modify the entire database.\n",
    "\n",
    "Non-relational databases, or NoSQL databases, are databases that use a data model that is different from the relational model used in traditional SQL databases. Instead of tables, NoSQL databases use documents, key-value pairs, graphs, or other data models to store data. Non-relational databases are preferred in scenarios where data is unstructured or semi-structured, the data schema is frequently changing, and the data needs to be scaled horizontally.\n",
    "\n",
    "MongoDB is preferred over SQL databases in scenarios where:\n",
    "\n",
    "The data is semi-structured or unstructured, and the schema is flexible and subject to frequent changes.\n",
    "\n",
    "Large volumes of data need to be processed quickly, and horizontal scaling is required.\n",
    "\n",
    "Real-time data processing and analytics are required.\n",
    "\n",
    "The application is built using modern web development technologies and requires a flexible and scalable database solution.\n",
    "\n",
    "The application needs to store and process large amounts of data that cannot be easily partitioned across multiple tables in an SQL database.\n",
    "\n",
    "In summary, MongoDB is a popular NoSQL document-oriented database that is well-suited for scenarios where flexibility, scalability, and real-time data processing are critical."
   ]
  },
  {
   "cell_type": "markdown",
   "id": "1e5d50e6-ec51-4ba4-bf89-b464ae14d979",
   "metadata": {
    "jp-MarkdownHeadingCollapsed": true,
    "tags": []
   },
   "source": [
    "## Q2. State and Explain the features of MongoDB."
   ]
  },
  {
   "cell_type": "markdown",
   "id": "6fda2857-cb65-4386-9237-ea3f84ec2496",
   "metadata": {},
   "source": [
    "MongoDB is a powerful and flexible NoSQL document-oriented database that offers several features that make it an attractive choice for many applications. Some of the key features of MongoDB are:\n",
    "\n",
    "Document-oriented: MongoDB stores data in flexible, JSON-like documents that can have different fields and structures. This means that MongoDB is well-suited for storing semi-structured and unstructured data.\n",
    "\n",
    "Scalable: MongoDB is designed to scale horizontally across multiple servers and handle large volumes of data. It uses a sharding approach to distribute data across multiple nodes, which allows it to handle data growth without sacrificing performance.\n",
    "\n",
    "Flexible schema: MongoDB's flexible schema allows for easy modification of data structures without having to make changes to the entire database schema. This makes it easier to adapt to changing business needs and requirements.\n",
    "\n",
    "Rich query language: MongoDB offers a rich query language that supports a wide range of queries, including text search, geospatial queries, and graph queries.\n",
    "\n",
    "Indexing: MongoDB supports multiple indexing types, including single field, compound, and multi-key indexes. This allows for faster query processing and improved performance.\n",
    "\n",
    "Replication: MongoDB supports replication, which allows for automatic synchronization of data across multiple servers. This provides high availability and improved fault tolerance.\n",
    "\n",
    "Aggregation: MongoDB offers a powerful aggregation framework that enables advanced data analysis and manipulation. This allows for complex queries and data aggregation in real-time.\n",
    "\n",
    "Integration with popular programming languages: MongoDB offers official drivers and integrations with popular programming languages such as Python, Java, and Node.js, making it easy to integrate with existing applications and workflows.\n",
    "\n",
    "In summary, MongoDB offers a powerful set of features that make it well-suited for modern web applications that require flexible and scalable database solutions. Its document-oriented data model, flexible schema, and rich query language make it a popular choice for developers who need to handle semi-structured and unstructured data."
   ]
  },
  {
   "cell_type": "markdown",
   "id": "59a86ef2-1431-42f3-8e6e-bd697df37da5",
   "metadata": {
    "jp-MarkdownHeadingCollapsed": true,
    "tags": []
   },
   "source": [
    "## Q3. Write a code to connect MongoDB to Python. Also, create a database and a collection in MongoDB."
   ]
  },
  {
   "cell_type": "markdown",
   "id": "0506d670-abd4-4d0a-99ce-60fbcfc3addc",
   "metadata": {},
   "source": [
    "To connect MongoDB to Python, we need to use a MongoDB driver for Python. The most popular MongoDB driver for Python is PyMongo. Here's an example code to connect MongoDB to Python using PyMongo and create a database and a collection:"
   ]
  },
  {
   "cell_type": "code",
   "execution_count": 2,
   "id": "7a46c598-c975-462b-8e45-fa564dc91ec9",
   "metadata": {},
   "outputs": [],
   "source": [
    "# # import the pymongo library\n",
    "# import pymongo\n",
    "\n",
    "# # create a connection to MongoDB\n",
    "# client = pymongo.MongoClient(\"mongodb://localhost:27017/\")\n",
    "\n",
    "# # create a database\n",
    "# db = client[\"mydatabase\"]\n",
    "\n",
    "# # create a collection\n",
    "# col = db[\"customers\"]\n"
   ]
  },
  {
   "cell_type": "markdown",
   "id": "b4cd0115-6afb-479a-b4b6-ed24ba4646af",
   "metadata": {},
   "source": [
    "In this code, we first import the PyMongo library. Then, we create a connection to MongoDB using the MongoClient class and specify the URL for the MongoDB server.\n",
    "\n",
    "Next, we create a new database named \"mydatabase\" using the client object. If the database doesn't exist, MongoDB will create it automatically when we insert data into it.\n",
    "\n",
    "Finally, we create a collection named \"customers\" using the db object. A collection in MongoDB is similar to a table in a SQL database, and it is where we store our data.\n",
    "\n",
    "That's it! We've now connected MongoDB to Python and created a database and a collection. We can now start inserting, querying, and manipulating data using PyMongo."
   ]
  },
  {
   "cell_type": "markdown",
   "id": "87de44a4-c6a8-4284-9620-f19de9bef0df",
   "metadata": {
    "jp-MarkdownHeadingCollapsed": true,
    "tags": []
   },
   "source": [
    "## Q4. Using the database and the collection created in question number 3, write a code to insert one record, and insert many records. Use the find() and find_one() methods to print the inserted record."
   ]
  },
  {
   "cell_type": "code",
   "execution_count": null,
   "id": "c50a20a4-9e12-4f43-a13d-4845ca8b79eb",
   "metadata": {},
   "outputs": [],
   "source": [
    "# # import the pymongo library\n",
    "# import pymongo\n",
    "\n",
    "# # create a connection to MongoDB\n",
    "# client = pymongo.MongoClient(\"mongodb://localhost:27017/\")\n",
    "\n",
    "# # create a database\n",
    "# db = client[\"mydatabase\"]\n",
    "\n",
    "# # create a collection\n",
    "# col = db[\"customers\"]\n",
    "\n",
    "# # insert one record\n",
    "# record_one = {\"name\": \"John\", \"age\": 35, \"country\": \"USA\"}\n",
    "# col.insert_one(record_one)\n",
    "\n",
    "# # insert multiple records\n",
    "# record_many = [\n",
    "#     {\"name\": \"Mike\", \"age\": 28, \"country\": \"Canada\"},\n",
    "#     {\"name\": \"Lisa\", \"age\": 42, \"country\": \"UK\"},\n",
    "#     {\"name\": \"Sarah\", \"age\": 21, \"country\": \"Australia\"}\n",
    "# ]\n",
    "# col.insert_many(record_many)\n",
    "\n",
    "# # print the inserted record(s)\n",
    "# print(col.find_one())     # prints the first record in the collection\n",
    "# for record in col.find(): # prints all records in the collection\n",
    "#     print(record)\n"
   ]
  },
  {
   "cell_type": "markdown",
   "id": "eeee0fe3-2e6a-4098-9a1d-75a99758fd59",
   "metadata": {},
   "source": [
    "In this code, we first connect to MongoDB and create the \"mydatabase\" database and the \"customers\" collection.\n",
    "\n",
    "Then, we insert one record into the collection using the insert_one() method and insert multiple records using the insert_many() method.\n",
    "\n",
    "Finally, we use the find_one() method to print the first record in the collection and the find() method to print all records in the collection.\n",
    "\n",
    "Note: The find() method returns a cursor object that we can iterate over to access all records in the collection."
   ]
  },
  {
   "cell_type": "markdown",
   "id": "a5a25a7c-0122-412e-a954-be2de2406e1d",
   "metadata": {
    "jp-MarkdownHeadingCollapsed": true,
    "tags": []
   },
   "source": [
    "## Q5. Explain how you can use the find() method to query the MongoDB database. Write a simple code to demonstrate this."
   ]
  },
  {
   "cell_type": "markdown",
   "id": "4d26cccb-1ef3-41cf-83b9-a2c4f38ba5fa",
   "metadata": {},
   "source": [
    "he find() method in MongoDB is used to query data from a collection based on certain criteria. It returns a cursor object that we can use to iterate over the matching documents.\n",
    "\n",
    "The find() method takes an optional query parameter, which is a dictionary that contains the criteria to filter the documents. The criteria can include one or more key-value pairs, and MongoDB will return only the documents that match all the criteria.\n",
    "\n",
    "Here's an example code to demonstrate how to use the find() method to query a MongoDB database:"
   ]
  },
  {
   "cell_type": "code",
   "execution_count": null,
   "id": "e6e3272b-212e-4ced-9a46-1d2bad0960cb",
   "metadata": {},
   "outputs": [],
   "source": [
    "# # import the pymongo library\n",
    "# import pymongo\n",
    "\n",
    "# # create a connection to MongoDB\n",
    "# client = pymongo.MongoClient(\"mongodb://localhost:27017/\")\n",
    "\n",
    "# # create a database\n",
    "# db = client[\"mydatabase\"]\n",
    "\n",
    "# # create a collection\n",
    "# col = db[\"customers\"]\n",
    "\n",
    "# # insert some records\n",
    "# records = [\n",
    "#     {\"name\": \"John\", \"age\": 35, \"country\": \"USA\"},\n",
    "#     {\"name\": \"Mike\", \"age\": 28, \"country\": \"Canada\"},\n",
    "#     {\"name\": \"Lisa\", \"age\": 42, \"country\": \"UK\"},\n",
    "#     {\"name\": \"Sarah\", \"age\": 21, \"country\": \"Australia\"}\n",
    "# ]\n",
    "# col.insert_many(records)\n",
    "\n",
    "# # find all records with age greater than or equal to 30\n",
    "# query = {\"age\": {\"$gte\": 30}}\n",
    "# result = col.find(query)\n",
    "\n",
    "# # print the matching records\n",
    "# for record in result:\n",
    "#     print(record)\n"
   ]
  },
  {
   "cell_type": "markdown",
   "id": "5d215ada-cda6-4ae1-91ef-3c98e7972f53",
   "metadata": {},
   "source": [
    "In this code, we first connect to MongoDB and create the \"mydatabase\" database and the \"customers\" collection.\n",
    "\n",
    "Then, we insert some records into the collection using the insert_many() method.\n",
    "\n",
    "Finally, we use the find() method to query the collection for all records with an age greater than or equal to 30. We pass a query parameter that specifies the filter criteria as a dictionary with the \"$gte\" operator. This operator matches documents where the \"age\" field is greater than or equal to the given value.\n",
    "\n",
    "The find() method returns a cursor object that we can use to iterate over the matching documents. We print the matching records using a for loop.\n",
    "\n",
    "Note that the find() method can also take additional parameters such as sort, limit, and skip to control the order and number of returned documents."
   ]
  },
  {
   "cell_type": "markdown",
   "id": "5c2b9d92-837c-4ada-80f7-4c33a29d516b",
   "metadata": {
    "jp-MarkdownHeadingCollapsed": true,
    "tags": []
   },
   "source": [
    "## Q6. Explain the sort() method. Give an example to demonstrate sorting in MongoDB."
   ]
  },
  {
   "cell_type": "markdown",
   "id": "416c4a49-463f-489b-8422-5b3d8fd2fb26",
   "metadata": {},
   "source": [
    "The sort() method in MongoDB is used to sort the matching documents in a collection based on one or more fields. It takes one or more arguments, which are the field names to sort on and their sort order. The sort order can be either ascending (1) or descending (-1).\n",
    "\n",
    "Here's an example code to demonstrate sorting in MongoDB:"
   ]
  },
  {
   "cell_type": "code",
   "execution_count": null,
   "id": "455e2987-025b-493a-8e3e-be89fba3d4ed",
   "metadata": {},
   "outputs": [],
   "source": [
    "# # import the pymongo library\n",
    "# import pymongo\n",
    "\n",
    "# # create a connection to MongoDB\n",
    "# client = pymongo.MongoClient(\"mongodb://localhost:27017/\")\n",
    "\n",
    "# # create a database\n",
    "# db = client[\"mydatabase\"]\n",
    "\n",
    "# # create a collection\n",
    "# col = db[\"customers\"]\n",
    "\n",
    "# # insert some records\n",
    "# records = [\n",
    "#     {\"name\": \"John\", \"age\": 35, \"country\": \"USA\"},\n",
    "#     {\"name\": \"Mike\", \"age\": 28, \"country\": \"Canada\"},\n",
    "#     {\"name\": \"Lisa\", \"age\": 42, \"country\": \"UK\"},\n",
    "#     {\"name\": \"Sarah\", \"age\": 21, \"country\": \"Australia\"}\n",
    "# ]\n",
    "# col.insert_many(records)\n",
    "\n",
    "# # sort the records by age in ascending order\n",
    "# result = col.find().sort(\"age\", 1)\n",
    "\n",
    "# # print the sorted records\n",
    "# for record in result:\n",
    "#     print(record)\n"
   ]
  },
  {
   "cell_type": "markdown",
   "id": "10ebb9e5-6828-4307-a9a7-68db11db049b",
   "metadata": {},
   "source": [
    "In this code, we first connect to MongoDB and create the \"mydatabase\" database and the \"customers\" collection.\n",
    "\n",
    "Then, we insert some records into the collection using the insert_many() method.\n",
    "\n",
    "Finally, we use the find() method to query the collection for all records and use the sort() method to sort the records by age in ascending order. We pass two parameters to the sort() method - the field name to sort on (\"age\") and the sort order (1 for ascending). The sort() method returns a cursor object that we can use to iterate over the sorted documents. We print the sorted records using a for loop.\n",
    "\n",
    "Note that we can also use the sort() method to sort the records by multiple fields. We can pass a list of tuples to the sort() method, where each tuple contains the field name and the sort order. For example, col.find().sort([(\"age\", 1), (\"name\", -1)]) will sort the records by age in ascending order, and then by name in descending order."
   ]
  },
  {
   "cell_type": "markdown",
   "id": "d94b9dce-0579-4db6-a1f8-17422e883657",
   "metadata": {
    "jp-MarkdownHeadingCollapsed": true,
    "tags": []
   },
   "source": [
    "## Q7. Explain why delete_one(), delete_many(), and drop() is used."
   ]
  },
  {
   "cell_type": "markdown",
   "id": "485c78ff-e7a4-4c04-aa1d-51b64af733e0",
   "metadata": {},
   "source": [
    "In MongoDB, we can remove documents from a collection using the delete_one() and delete_many() methods, and we can remove an entire collection using the drop() method. Here's a brief explanation of each method:\n",
    "\n",
    "delete_one(filter): This method deletes the first document that matches the specified filter from a collection. It takes one argument, which is the filter criteria that specifies which document(s) to delete. If multiple documents match the filter, only the first matching document will be deleted.\n",
    "\n",
    "delete_many(filter): This method deletes all documents that match the specified filter from a collection. It takes one argument, which is the filter criteria that specifies which document(s) to delete. If no documents match the filter, the method will do nothing.\n",
    "\n",
    "drop(): This method removes an entire collection from the database. It takes no arguments and returns a dictionary that contains information about the operation, such as the number of documents deleted.\n",
    "\n",
    "These methods are useful for managing data in a MongoDB database. delete_one() and delete_many() methods allow us to remove documents from a collection based on certain criteria, which can be useful for cleaning up data or removing outdated records. The drop() method is useful when we need to delete an entire collection, such as when we no longer need the data in that collection.\n",
    "\n",
    "It's important to use these methods with care, as deleting data cannot be undone. We should always ensure that we have a backup of our data before deleting any documents or collections."
   ]
  }
 ],
 "metadata": {
  "kernelspec": {
   "display_name": "Python 3 (ipykernel)",
   "language": "python",
   "name": "python3"
  },
  "language_info": {
   "codemirror_mode": {
    "name": "ipython",
    "version": 3
   },
   "file_extension": ".py",
   "mimetype": "text/x-python",
   "name": "python",
   "nbconvert_exporter": "python",
   "pygments_lexer": "ipython3",
   "version": "3.10.8"
  }
 },
 "nbformat": 4,
 "nbformat_minor": 5
}
